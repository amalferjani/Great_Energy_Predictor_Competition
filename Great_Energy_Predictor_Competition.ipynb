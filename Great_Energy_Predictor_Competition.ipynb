{
  "nbformat": 4,
  "nbformat_minor": 0,
  "metadata": {
    "kernelspec": {
      "display_name": "Python 3",
      "language": "python",
      "name": "other-env"
    },
    "language_info": {
      "codemirror_mode": {
        "name": "ipython",
        "version": 2
      },
      "file_extension": ".py",
      "mimetype": "text/x-python",
      "name": "python",
      "nbconvert_exporter": "python",
      "pygments_lexer": "ipython2",
      "version": "2.7.16"
    },
    "colab": {
      "name": " Great Energy Predictor Competition.ipynb",
      "provenance": []
    }
  },
  "cells": [
    {
      "cell_type": "code",
      "metadata": {
        "trusted": true,
        "id": "xorXTzNgUs6M",
        "colab_type": "code",
        "colab": {}
      },
      "source": [
        "import pandas as pd\n",
        "import scipy.special\n",
        "import matplotlib.pyplot as plt\n",
        "import os\n",
        "import random"
      ],
      "execution_count": 0,
      "outputs": []
    },
    {
      "cell_type": "code",
      "metadata": {
        "trusted": true,
        "id": "XsGVJJV2Us6d",
        "colab_type": "code",
        "colab": {},
        "outputId": "72bab5e5-d403-4d64-ec2a-2157104c27d6"
      },
      "source": [
        "path_in = '../input/ashrae-energy-prediction/'\n",
        "print(os.listdir(path_in))"
      ],
      "execution_count": 0,
      "outputs": [
        {
          "output_type": "stream",
          "text": [
            "['sample_submission.csv', 'building_metadata.csv', 'weather_test.csv', 'train.csv', 'test.csv', 'weather_train.csv']\n"
          ],
          "name": "stdout"
        }
      ]
    },
    {
      "cell_type": "code",
      "metadata": {
        "trusted": true,
        "id": "uhNNq37AUs6k",
        "colab_type": "code",
        "colab": {}
      },
      "source": [
        "train = pd.read_csv(path_in+'train.csv', parse_dates=['timestamp'])\n",
        "weather = pd.read_csv(path_in+'weather_train.csv', parse_dates=['timestamp'])\n",
        "meta = pd.read_csv(path_in+'building_metadata.csv')"
      ],
      "execution_count": 0,
      "outputs": []
    },
    {
      "cell_type": "code",
      "metadata": {
        "trusted": true,
        "id": "AuJnGJHBUs6u",
        "colab_type": "code",
        "colab": {},
        "outputId": "5e2fefe3-52c5-49c3-aae8-e3a8f472709b"
      },
      "source": [
        "train.shape"
      ],
      "execution_count": 0,
      "outputs": [
        {
          "output_type": "execute_result",
          "data": {
            "text/plain": [
              "(20216100, 4)"
            ]
          },
          "metadata": {
            "tags": []
          },
          "execution_count": 4
        }
      ]
    },
    {
      "cell_type": "code",
      "metadata": {
        "trusted": true,
        "id": "7xaOMvUaUs6y",
        "colab_type": "code",
        "colab": {},
        "outputId": "00b0c579-3b67-4138-ce24-25137ed1dfea"
      },
      "source": [
        "train.head()"
      ],
      "execution_count": 0,
      "outputs": [
        {
          "output_type": "execute_result",
          "data": {
            "text/plain": [
              "   building_id  meter  timestamp  meter_reading\n",
              "0            0      0 2016-01-01            0.0\n",
              "1            1      0 2016-01-01            0.0\n",
              "2            2      0 2016-01-01            0.0\n",
              "3            3      0 2016-01-01            0.0\n",
              "4            4      0 2016-01-01            0.0"
            ],
            "text/html": [
              "<div>\n",
              "<style scoped>\n",
              "    .dataframe tbody tr th:only-of-type {\n",
              "        vertical-align: middle;\n",
              "    }\n",
              "\n",
              "    .dataframe tbody tr th {\n",
              "        vertical-align: top;\n",
              "    }\n",
              "\n",
              "    .dataframe thead th {\n",
              "        text-align: right;\n",
              "    }\n",
              "</style>\n",
              "<table border=\"1\" class=\"dataframe\">\n",
              "  <thead>\n",
              "    <tr style=\"text-align: right;\">\n",
              "      <th></th>\n",
              "      <th>building_id</th>\n",
              "      <th>meter</th>\n",
              "      <th>timestamp</th>\n",
              "      <th>meter_reading</th>\n",
              "    </tr>\n",
              "  </thead>\n",
              "  <tbody>\n",
              "    <tr>\n",
              "      <th>0</th>\n",
              "      <td>0</td>\n",
              "      <td>0</td>\n",
              "      <td>2016-01-01</td>\n",
              "      <td>0.0</td>\n",
              "    </tr>\n",
              "    <tr>\n",
              "      <th>1</th>\n",
              "      <td>1</td>\n",
              "      <td>0</td>\n",
              "      <td>2016-01-01</td>\n",
              "      <td>0.0</td>\n",
              "    </tr>\n",
              "    <tr>\n",
              "      <th>2</th>\n",
              "      <td>2</td>\n",
              "      <td>0</td>\n",
              "      <td>2016-01-01</td>\n",
              "      <td>0.0</td>\n",
              "    </tr>\n",
              "    <tr>\n",
              "      <th>3</th>\n",
              "      <td>3</td>\n",
              "      <td>0</td>\n",
              "      <td>2016-01-01</td>\n",
              "      <td>0.0</td>\n",
              "    </tr>\n",
              "    <tr>\n",
              "      <th>4</th>\n",
              "      <td>4</td>\n",
              "      <td>0</td>\n",
              "      <td>2016-01-01</td>\n",
              "      <td>0.0</td>\n",
              "    </tr>\n",
              "  </tbody>\n",
              "</table>\n",
              "</div>"
            ]
          },
          "metadata": {
            "tags": []
          },
          "execution_count": 5
        }
      ]
    },
    {
      "cell_type": "code",
      "metadata": {
        "trusted": true,
        "id": "ZU24p2aYUs65",
        "colab_type": "code",
        "colab": {},
        "outputId": "46385c99-2276-40af-8feb-788196f6d109"
      },
      "source": [
        "train.building_id.isnull().sum()"
      ],
      "execution_count": 0,
      "outputs": [
        {
          "output_type": "execute_result",
          "data": {
            "text/plain": [
              "0"
            ]
          },
          "metadata": {
            "tags": []
          },
          "execution_count": 6
        }
      ]
    },
    {
      "cell_type": "code",
      "metadata": {
        "trusted": true,
        "id": "NrhnrTBMUs7A",
        "colab_type": "code",
        "colab": {},
        "outputId": "b68fc88d-bdc9-48d9-a37e-e8a95e085877"
      },
      "source": [
        "train.meter.isnull().sum()"
      ],
      "execution_count": 0,
      "outputs": [
        {
          "output_type": "execute_result",
          "data": {
            "text/plain": [
              "0"
            ]
          },
          "metadata": {
            "tags": []
          },
          "execution_count": 7
        }
      ]
    },
    {
      "cell_type": "code",
      "metadata": {
        "trusted": true,
        "id": "UimsujchUs7H",
        "colab_type": "code",
        "colab": {},
        "outputId": "62cc1437-2985-41b3-b26d-80a92eae5c83"
      },
      "source": [
        "train.timestamp.isnull().sum()"
      ],
      "execution_count": 0,
      "outputs": [
        {
          "output_type": "execute_result",
          "data": {
            "text/plain": [
              "0"
            ]
          },
          "metadata": {
            "tags": []
          },
          "execution_count": 8
        }
      ]
    },
    {
      "cell_type": "code",
      "metadata": {
        "trusted": true,
        "id": "QbNjUMySUs7O",
        "colab_type": "code",
        "colab": {},
        "outputId": "6f03e963-5b5a-49d9-94c3-235038ff7109"
      },
      "source": [
        "train.meter_reading.isnull().sum()"
      ],
      "execution_count": 0,
      "outputs": [
        {
          "output_type": "execute_result",
          "data": {
            "text/plain": [
              "0"
            ]
          },
          "metadata": {
            "tags": []
          },
          "execution_count": 9
        }
      ]
    },
    {
      "cell_type": "code",
      "metadata": {
        "trusted": true,
        "id": "pQ7DTqzOUs7T",
        "colab_type": "code",
        "colab": {},
        "outputId": "4e98d84d-1794-4179-9e7c-f194dcc1b229"
      },
      "source": [
        "meta.head()"
      ],
      "execution_count": 0,
      "outputs": [
        {
          "output_type": "execute_result",
          "data": {
            "text/plain": [
              "   site_id  building_id primary_use  square_feet  year_built  floor_count\n",
              "0        0            0   Education         7432      2008.0          NaN\n",
              "1        0            1   Education         2720      2004.0          NaN\n",
              "2        0            2   Education         5376      1991.0          NaN\n",
              "3        0            3   Education        23685      2002.0          NaN\n",
              "4        0            4   Education       116607      1975.0          NaN"
            ],
            "text/html": [
              "<div>\n",
              "<style scoped>\n",
              "    .dataframe tbody tr th:only-of-type {\n",
              "        vertical-align: middle;\n",
              "    }\n",
              "\n",
              "    .dataframe tbody tr th {\n",
              "        vertical-align: top;\n",
              "    }\n",
              "\n",
              "    .dataframe thead th {\n",
              "        text-align: right;\n",
              "    }\n",
              "</style>\n",
              "<table border=\"1\" class=\"dataframe\">\n",
              "  <thead>\n",
              "    <tr style=\"text-align: right;\">\n",
              "      <th></th>\n",
              "      <th>site_id</th>\n",
              "      <th>building_id</th>\n",
              "      <th>primary_use</th>\n",
              "      <th>square_feet</th>\n",
              "      <th>year_built</th>\n",
              "      <th>floor_count</th>\n",
              "    </tr>\n",
              "  </thead>\n",
              "  <tbody>\n",
              "    <tr>\n",
              "      <th>0</th>\n",
              "      <td>0</td>\n",
              "      <td>0</td>\n",
              "      <td>Education</td>\n",
              "      <td>7432</td>\n",
              "      <td>2008.0</td>\n",
              "      <td>NaN</td>\n",
              "    </tr>\n",
              "    <tr>\n",
              "      <th>1</th>\n",
              "      <td>0</td>\n",
              "      <td>1</td>\n",
              "      <td>Education</td>\n",
              "      <td>2720</td>\n",
              "      <td>2004.0</td>\n",
              "      <td>NaN</td>\n",
              "    </tr>\n",
              "    <tr>\n",
              "      <th>2</th>\n",
              "      <td>0</td>\n",
              "      <td>2</td>\n",
              "      <td>Education</td>\n",
              "      <td>5376</td>\n",
              "      <td>1991.0</td>\n",
              "      <td>NaN</td>\n",
              "    </tr>\n",
              "    <tr>\n",
              "      <th>3</th>\n",
              "      <td>0</td>\n",
              "      <td>3</td>\n",
              "      <td>Education</td>\n",
              "      <td>23685</td>\n",
              "      <td>2002.0</td>\n",
              "      <td>NaN</td>\n",
              "    </tr>\n",
              "    <tr>\n",
              "      <th>4</th>\n",
              "      <td>0</td>\n",
              "      <td>4</td>\n",
              "      <td>Education</td>\n",
              "      <td>116607</td>\n",
              "      <td>1975.0</td>\n",
              "      <td>NaN</td>\n",
              "    </tr>\n",
              "  </tbody>\n",
              "</table>\n",
              "</div>"
            ]
          },
          "metadata": {
            "tags": []
          },
          "execution_count": 10
        }
      ]
    },
    {
      "cell_type": "code",
      "metadata": {
        "trusted": true,
        "id": "EoDqjY8LUs7b",
        "colab_type": "code",
        "colab": {},
        "outputId": "372756f6-fb1c-499b-e1bf-348680c844b1"
      },
      "source": [
        "meta.site_id.isnull().sum()"
      ],
      "execution_count": 0,
      "outputs": [
        {
          "output_type": "execute_result",
          "data": {
            "text/plain": [
              "0"
            ]
          },
          "metadata": {
            "tags": []
          },
          "execution_count": 11
        }
      ]
    },
    {
      "cell_type": "code",
      "metadata": {
        "trusted": true,
        "id": "0VJsftJPUs7e",
        "colab_type": "code",
        "colab": {},
        "outputId": "e6a52a05-356b-49c8-eb4f-146e0d7fdbbc"
      },
      "source": [
        "meta.primary_use.isnull().sum()"
      ],
      "execution_count": 0,
      "outputs": [
        {
          "output_type": "execute_result",
          "data": {
            "text/plain": [
              "0"
            ]
          },
          "metadata": {
            "tags": []
          },
          "execution_count": 12
        }
      ]
    },
    {
      "cell_type": "code",
      "metadata": {
        "trusted": true,
        "id": "frYfccfvUs7i",
        "colab_type": "code",
        "colab": {},
        "outputId": "87018ff6-b35b-48e4-e07a-d7a4e8ef696a"
      },
      "source": [
        "meta.year_built.isnull().sum()"
      ],
      "execution_count": 0,
      "outputs": [
        {
          "output_type": "execute_result",
          "data": {
            "text/plain": [
              "774"
            ]
          },
          "metadata": {
            "tags": []
          },
          "execution_count": 13
        }
      ]
    },
    {
      "cell_type": "code",
      "metadata": {
        "trusted": true,
        "id": "GYbIvve8Us7p",
        "colab_type": "code",
        "colab": {},
        "outputId": "1a71df6b-2d6d-4df9-ba08-7a10ac326c31"
      },
      "source": [
        "meta.floor_count.isnull().sum()"
      ],
      "execution_count": 0,
      "outputs": [
        {
          "output_type": "execute_result",
          "data": {
            "text/plain": [
              "1094"
            ]
          },
          "metadata": {
            "tags": []
          },
          "execution_count": 14
        }
      ]
    },
    {
      "cell_type": "code",
      "metadata": {
        "trusted": true,
        "id": "Lud-r5IjUs7u",
        "colab_type": "code",
        "colab": {},
        "outputId": "d3a30390-e83a-40cb-f36f-d7635ebfc0ff"
      },
      "source": [
        "meta.shape"
      ],
      "execution_count": 0,
      "outputs": [
        {
          "output_type": "execute_result",
          "data": {
            "text/plain": [
              "(1449, 6)"
            ]
          },
          "metadata": {
            "tags": []
          },
          "execution_count": 15
        }
      ]
    },
    {
      "cell_type": "code",
      "metadata": {
        "trusted": true,
        "id": "WzX1tYm5Us7x",
        "colab_type": "code",
        "colab": {}
      },
      "source": [
        "import matplotlib.pyplot as plt\n",
        "import seaborn as sns"
      ],
      "execution_count": 0,
      "outputs": []
    },
    {
      "cell_type": "code",
      "metadata": {
        "trusted": true,
        "id": "1tDwjTJMUs8V",
        "colab_type": "code",
        "colab": {},
        "outputId": "8a153a49-5074-485f-c8e8-7dc529806c54"
      },
      "source": [
        "meta.primary_use.value_counts()"
      ],
      "execution_count": 0,
      "outputs": [
        {
          "output_type": "execute_result",
          "data": {
            "text/plain": [
              "Education                        549\n",
              "Office                           279\n",
              "Entertainment/public assembly    184\n",
              "Public services                  156\n",
              "Lodging/residential              147\n",
              "Other                             25\n",
              "Healthcare                        23\n",
              "Parking                           22\n",
              "Warehouse/storage                 13\n",
              "Manufacturing/industrial          12\n",
              "Retail                            11\n",
              "Services                          10\n",
              "Technology/science                 6\n",
              "Food sales and service             5\n",
              "Utility                            4\n",
              "Religious worship                  3\n",
              "Name: primary_use, dtype: int64"
            ]
          },
          "metadata": {
            "tags": []
          },
          "execution_count": 17
        }
      ]
    },
    {
      "cell_type": "code",
      "metadata": {
        "trusted": true,
        "id": "5g_fTGI0Us8c",
        "colab_type": "code",
        "colab": {}
      },
      "source": [
        "meta.drop(\"floor_count\",axis=1,inplace=True)"
      ],
      "execution_count": 0,
      "outputs": []
    },
    {
      "cell_type": "code",
      "metadata": {
        "trusted": true,
        "id": "HsJ3gOzhUs8f",
        "colab_type": "code",
        "colab": {},
        "outputId": "bff734f5-f009-4fe7-bb08-2904dcbdaa40"
      },
      "source": [
        "meta.head()"
      ],
      "execution_count": 0,
      "outputs": [
        {
          "output_type": "execute_result",
          "data": {
            "text/plain": [
              "   site_id  building_id primary_use  square_feet  year_built\n",
              "0        0            0   Education         7432      2008.0\n",
              "1        0            1   Education         2720      2004.0\n",
              "2        0            2   Education         5376      1991.0\n",
              "3        0            3   Education        23685      2002.0\n",
              "4        0            4   Education       116607      1975.0"
            ],
            "text/html": [
              "<div>\n",
              "<style scoped>\n",
              "    .dataframe tbody tr th:only-of-type {\n",
              "        vertical-align: middle;\n",
              "    }\n",
              "\n",
              "    .dataframe tbody tr th {\n",
              "        vertical-align: top;\n",
              "    }\n",
              "\n",
              "    .dataframe thead th {\n",
              "        text-align: right;\n",
              "    }\n",
              "</style>\n",
              "<table border=\"1\" class=\"dataframe\">\n",
              "  <thead>\n",
              "    <tr style=\"text-align: right;\">\n",
              "      <th></th>\n",
              "      <th>site_id</th>\n",
              "      <th>building_id</th>\n",
              "      <th>primary_use</th>\n",
              "      <th>square_feet</th>\n",
              "      <th>year_built</th>\n",
              "    </tr>\n",
              "  </thead>\n",
              "  <tbody>\n",
              "    <tr>\n",
              "      <th>0</th>\n",
              "      <td>0</td>\n",
              "      <td>0</td>\n",
              "      <td>Education</td>\n",
              "      <td>7432</td>\n",
              "      <td>2008.0</td>\n",
              "    </tr>\n",
              "    <tr>\n",
              "      <th>1</th>\n",
              "      <td>0</td>\n",
              "      <td>1</td>\n",
              "      <td>Education</td>\n",
              "      <td>2720</td>\n",
              "      <td>2004.0</td>\n",
              "    </tr>\n",
              "    <tr>\n",
              "      <th>2</th>\n",
              "      <td>0</td>\n",
              "      <td>2</td>\n",
              "      <td>Education</td>\n",
              "      <td>5376</td>\n",
              "      <td>1991.0</td>\n",
              "    </tr>\n",
              "    <tr>\n",
              "      <th>3</th>\n",
              "      <td>0</td>\n",
              "      <td>3</td>\n",
              "      <td>Education</td>\n",
              "      <td>23685</td>\n",
              "      <td>2002.0</td>\n",
              "    </tr>\n",
              "    <tr>\n",
              "      <th>4</th>\n",
              "      <td>0</td>\n",
              "      <td>4</td>\n",
              "      <td>Education</td>\n",
              "      <td>116607</td>\n",
              "      <td>1975.0</td>\n",
              "    </tr>\n",
              "  </tbody>\n",
              "</table>\n",
              "</div>"
            ]
          },
          "metadata": {
            "tags": []
          },
          "execution_count": 19
        }
      ]
    },
    {
      "cell_type": "code",
      "metadata": {
        "trusted": true,
        "id": "rq0_r8FIUs8i",
        "colab_type": "code",
        "colab": {}
      },
      "source": [
        "meta.drop(\"year_built\",axis=1,inplace=True)"
      ],
      "execution_count": 0,
      "outputs": []
    },
    {
      "cell_type": "code",
      "metadata": {
        "trusted": true,
        "id": "4YH5CbxLUs8p",
        "colab_type": "code",
        "colab": {},
        "outputId": "6c82f330-31f5-4f8b-9e50-329375073a1e"
      },
      "source": [
        "meta.head()"
      ],
      "execution_count": 0,
      "outputs": [
        {
          "output_type": "execute_result",
          "data": {
            "text/plain": [
              "   site_id  building_id primary_use  square_feet\n",
              "0        0            0   Education         7432\n",
              "1        0            1   Education         2720\n",
              "2        0            2   Education         5376\n",
              "3        0            3   Education        23685\n",
              "4        0            4   Education       116607"
            ],
            "text/html": [
              "<div>\n",
              "<style scoped>\n",
              "    .dataframe tbody tr th:only-of-type {\n",
              "        vertical-align: middle;\n",
              "    }\n",
              "\n",
              "    .dataframe tbody tr th {\n",
              "        vertical-align: top;\n",
              "    }\n",
              "\n",
              "    .dataframe thead th {\n",
              "        text-align: right;\n",
              "    }\n",
              "</style>\n",
              "<table border=\"1\" class=\"dataframe\">\n",
              "  <thead>\n",
              "    <tr style=\"text-align: right;\">\n",
              "      <th></th>\n",
              "      <th>site_id</th>\n",
              "      <th>building_id</th>\n",
              "      <th>primary_use</th>\n",
              "      <th>square_feet</th>\n",
              "    </tr>\n",
              "  </thead>\n",
              "  <tbody>\n",
              "    <tr>\n",
              "      <th>0</th>\n",
              "      <td>0</td>\n",
              "      <td>0</td>\n",
              "      <td>Education</td>\n",
              "      <td>7432</td>\n",
              "    </tr>\n",
              "    <tr>\n",
              "      <th>1</th>\n",
              "      <td>0</td>\n",
              "      <td>1</td>\n",
              "      <td>Education</td>\n",
              "      <td>2720</td>\n",
              "    </tr>\n",
              "    <tr>\n",
              "      <th>2</th>\n",
              "      <td>0</td>\n",
              "      <td>2</td>\n",
              "      <td>Education</td>\n",
              "      <td>5376</td>\n",
              "    </tr>\n",
              "    <tr>\n",
              "      <th>3</th>\n",
              "      <td>0</td>\n",
              "      <td>3</td>\n",
              "      <td>Education</td>\n",
              "      <td>23685</td>\n",
              "    </tr>\n",
              "    <tr>\n",
              "      <th>4</th>\n",
              "      <td>0</td>\n",
              "      <td>4</td>\n",
              "      <td>Education</td>\n",
              "      <td>116607</td>\n",
              "    </tr>\n",
              "  </tbody>\n",
              "</table>\n",
              "</div>"
            ]
          },
          "metadata": {
            "tags": []
          },
          "execution_count": 21
        }
      ]
    },
    {
      "cell_type": "code",
      "metadata": {
        "trusted": true,
        "id": "4cyJTYtWUs8z",
        "colab_type": "code",
        "colab": {}
      },
      "source": [
        "import numpy as np"
      ],
      "execution_count": 0,
      "outputs": []
    },
    {
      "cell_type": "code",
      "metadata": {
        "trusted": true,
        "id": "7lAYHd_RUs88",
        "colab_type": "code",
        "colab": {}
      },
      "source": [
        "square_feet = meta.square_feet.map(np.log)"
      ],
      "execution_count": 0,
      "outputs": []
    },
    {
      "cell_type": "code",
      "metadata": {
        "trusted": true,
        "id": "70n88kBiUs9A",
        "colab_type": "code",
        "colab": {},
        "outputId": "b6388b05-1114-4188-c5d5-cc5e6f193ae2"
      },
      "source": [
        "fig=square_feet.plot.hist()"
      ],
      "execution_count": 0,
      "outputs": [
        {
          "output_type": "display_data",
          "data": {
            "text/plain": [
              "<Figure size 432x288 with 1 Axes>"
            ],
            "image/png": "[encoded data removed]"
          },
          "metadata": {
            "tags": [],
            "needs_background": "light"
          }
        }
      ]
    },
    {
      "cell_type": "code",
      "metadata": {
        "trusted": true,
        "id": "hqcb8btiUs9E",
        "colab_type": "code",
        "colab": {},
        "outputId": "0e6ae438-b866-46a1-c0d0-b4adb94b5c4e"
      },
      "source": [
        "meta.head()"
      ],
      "execution_count": 0,
      "outputs": [
        {
          "output_type": "execute_result",
          "data": {
            "text/plain": [
              "   site_id  building_id primary_use  square_feet\n",
              "0        0            0   Education         7432\n",
              "1        0            1   Education         2720\n",
              "2        0            2   Education         5376\n",
              "3        0            3   Education        23685\n",
              "4        0            4   Education       116607"
            ],
            "text/html": [
              "<div>\n",
              "<style scoped>\n",
              "    .dataframe tbody tr th:only-of-type {\n",
              "        vertical-align: middle;\n",
              "    }\n",
              "\n",
              "    .dataframe tbody tr th {\n",
              "        vertical-align: top;\n",
              "    }\n",
              "\n",
              "    .dataframe thead th {\n",
              "        text-align: right;\n",
              "    }\n",
              "</style>\n",
              "<table border=\"1\" class=\"dataframe\">\n",
              "  <thead>\n",
              "    <tr style=\"text-align: right;\">\n",
              "      <th></th>\n",
              "      <th>site_id</th>\n",
              "      <th>building_id</th>\n",
              "      <th>primary_use</th>\n",
              "      <th>square_feet</th>\n",
              "    </tr>\n",
              "  </thead>\n",
              "  <tbody>\n",
              "    <tr>\n",
              "      <th>0</th>\n",
              "      <td>0</td>\n",
              "      <td>0</td>\n",
              "      <td>Education</td>\n",
              "      <td>7432</td>\n",
              "    </tr>\n",
              "    <tr>\n",
              "      <th>1</th>\n",
              "      <td>0</td>\n",
              "      <td>1</td>\n",
              "      <td>Education</td>\n",
              "      <td>2720</td>\n",
              "    </tr>\n",
              "    <tr>\n",
              "      <th>2</th>\n",
              "      <td>0</td>\n",
              "      <td>2</td>\n",
              "      <td>Education</td>\n",
              "      <td>5376</td>\n",
              "    </tr>\n",
              "    <tr>\n",
              "      <th>3</th>\n",
              "      <td>0</td>\n",
              "      <td>3</td>\n",
              "      <td>Education</td>\n",
              "      <td>23685</td>\n",
              "    </tr>\n",
              "    <tr>\n",
              "      <th>4</th>\n",
              "      <td>0</td>\n",
              "      <td>4</td>\n",
              "      <td>Education</td>\n",
              "      <td>116607</td>\n",
              "    </tr>\n",
              "  </tbody>\n",
              "</table>\n",
              "</div>"
            ]
          },
          "metadata": {
            "tags": []
          },
          "execution_count": 25
        }
      ]
    },
    {
      "cell_type": "code",
      "metadata": {
        "trusted": true,
        "id": "XjhaSIXDUs9L",
        "colab_type": "code",
        "colab": {}
      },
      "source": [
        "meta.square_feet=square_feet"
      ],
      "execution_count": 0,
      "outputs": []
    },
    {
      "cell_type": "code",
      "metadata": {
        "trusted": true,
        "id": "8FfLSokeUs9R",
        "colab_type": "code",
        "colab": {},
        "outputId": "84682c20-970c-425f-842f-778184265cfa"
      },
      "source": [
        "meta.head()"
      ],
      "execution_count": 0,
      "outputs": [
        {
          "output_type": "execute_result",
          "data": {
            "text/plain": [
              "   site_id  building_id primary_use  square_feet\n",
              "0        0            0   Education     8.913550\n",
              "1        0            1   Education     7.908387\n",
              "2        0            2   Education     8.589700\n",
              "3        0            3   Education    10.072597\n",
              "4        0            4   Education    11.666565"
            ],
            "text/html": [
              "<div>\n",
              "<style scoped>\n",
              "    .dataframe tbody tr th:only-of-type {\n",
              "        vertical-align: middle;\n",
              "    }\n",
              "\n",
              "    .dataframe tbody tr th {\n",
              "        vertical-align: top;\n",
              "    }\n",
              "\n",
              "    .dataframe thead th {\n",
              "        text-align: right;\n",
              "    }\n",
              "</style>\n",
              "<table border=\"1\" class=\"dataframe\">\n",
              "  <thead>\n",
              "    <tr style=\"text-align: right;\">\n",
              "      <th></th>\n",
              "      <th>site_id</th>\n",
              "      <th>building_id</th>\n",
              "      <th>primary_use</th>\n",
              "      <th>square_feet</th>\n",
              "    </tr>\n",
              "  </thead>\n",
              "  <tbody>\n",
              "    <tr>\n",
              "      <th>0</th>\n",
              "      <td>0</td>\n",
              "      <td>0</td>\n",
              "      <td>Education</td>\n",
              "      <td>8.913550</td>\n",
              "    </tr>\n",
              "    <tr>\n",
              "      <th>1</th>\n",
              "      <td>0</td>\n",
              "      <td>1</td>\n",
              "      <td>Education</td>\n",
              "      <td>7.908387</td>\n",
              "    </tr>\n",
              "    <tr>\n",
              "      <th>2</th>\n",
              "      <td>0</td>\n",
              "      <td>2</td>\n",
              "      <td>Education</td>\n",
              "      <td>8.589700</td>\n",
              "    </tr>\n",
              "    <tr>\n",
              "      <th>3</th>\n",
              "      <td>0</td>\n",
              "      <td>3</td>\n",
              "      <td>Education</td>\n",
              "      <td>10.072597</td>\n",
              "    </tr>\n",
              "    <tr>\n",
              "      <th>4</th>\n",
              "      <td>0</td>\n",
              "      <td>4</td>\n",
              "      <td>Education</td>\n",
              "      <td>11.666565</td>\n",
              "    </tr>\n",
              "  </tbody>\n",
              "</table>\n",
              "</div>"
            ]
          },
          "metadata": {
            "tags": []
          },
          "execution_count": 27
        }
      ]
    },
    {
      "cell_type": "code",
      "metadata": {
        "trusted": true,
        "id": "Hq_vB0NxUs9W",
        "colab_type": "code",
        "colab": {},
        "outputId": "e7bb8e40-dea8-4643-efe9-368b6d1892f3"
      },
      "source": [
        "meta.head()"
      ],
      "execution_count": 0,
      "outputs": [
        {
          "output_type": "execute_result",
          "data": {
            "text/plain": [
              "   site_id  building_id primary_use  square_feet\n",
              "0        0            0   Education     8.913550\n",
              "1        0            1   Education     7.908387\n",
              "2        0            2   Education     8.589700\n",
              "3        0            3   Education    10.072597\n",
              "4        0            4   Education    11.666565"
            ],
            "text/html": [
              "<div>\n",
              "<style scoped>\n",
              "    .dataframe tbody tr th:only-of-type {\n",
              "        vertical-align: middle;\n",
              "    }\n",
              "\n",
              "    .dataframe tbody tr th {\n",
              "        vertical-align: top;\n",
              "    }\n",
              "\n",
              "    .dataframe thead th {\n",
              "        text-align: right;\n",
              "    }\n",
              "</style>\n",
              "<table border=\"1\" class=\"dataframe\">\n",
              "  <thead>\n",
              "    <tr style=\"text-align: right;\">\n",
              "      <th></th>\n",
              "      <th>site_id</th>\n",
              "      <th>building_id</th>\n",
              "      <th>primary_use</th>\n",
              "      <th>square_feet</th>\n",
              "    </tr>\n",
              "  </thead>\n",
              "  <tbody>\n",
              "    <tr>\n",
              "      <th>0</th>\n",
              "      <td>0</td>\n",
              "      <td>0</td>\n",
              "      <td>Education</td>\n",
              "      <td>8.913550</td>\n",
              "    </tr>\n",
              "    <tr>\n",
              "      <th>1</th>\n",
              "      <td>0</td>\n",
              "      <td>1</td>\n",
              "      <td>Education</td>\n",
              "      <td>7.908387</td>\n",
              "    </tr>\n",
              "    <tr>\n",
              "      <th>2</th>\n",
              "      <td>0</td>\n",
              "      <td>2</td>\n",
              "      <td>Education</td>\n",
              "      <td>8.589700</td>\n",
              "    </tr>\n",
              "    <tr>\n",
              "      <th>3</th>\n",
              "      <td>0</td>\n",
              "      <td>3</td>\n",
              "      <td>Education</td>\n",
              "      <td>10.072597</td>\n",
              "    </tr>\n",
              "    <tr>\n",
              "      <th>4</th>\n",
              "      <td>0</td>\n",
              "      <td>4</td>\n",
              "      <td>Education</td>\n",
              "      <td>11.666565</td>\n",
              "    </tr>\n",
              "  </tbody>\n",
              "</table>\n",
              "</div>"
            ]
          },
          "metadata": {
            "tags": []
          },
          "execution_count": 28
        }
      ]
    },
    {
      "cell_type": "code",
      "metadata": {
        "trusted": true,
        "id": "rPusBPgMUs9c",
        "colab_type": "code",
        "colab": {},
        "outputId": "390926c1-1f15-4ac0-d82b-6e952eb36210"
      },
      "source": [
        "import seaborn as sns\n",
        "sns.boxplot(x=meta['site_id'])"
      ],
      "execution_count": 0,
      "outputs": [
        {
          "output_type": "execute_result",
          "data": {
            "text/plain": [
              "<matplotlib.axes._subplots.AxesSubplot at 0x7f865f118438>"
            ]
          },
          "metadata": {
            "tags": []
          },
          "execution_count": 29
        },
        {
          "output_type": "display_data",
          "data": {
            "text/plain": [
              "<Figure size 432x288 with 1 Axes>"
            ],
            "image/png": "[encoded data removed]"
          },
          "metadata": {
            "tags": [],
            "needs_background": "light"
          }
        }
      ]
    },
    {
      "cell_type": "code",
      "metadata": {
        "trusted": true,
        "id": "Ht64BhOfUs9g",
        "colab_type": "code",
        "colab": {},
        "outputId": "503e1065-6eab-4007-9650-8f3c0644f51c"
      },
      "source": [
        "sns.boxplot(x=meta['square_feet'])"
      ],
      "execution_count": 0,
      "outputs": [
        {
          "output_type": "execute_result",
          "data": {
            "text/plain": [
              "<matplotlib.axes._subplots.AxesSubplot at 0x7f865b831a90>"
            ]
          },
          "metadata": {
            "tags": []
          },
          "execution_count": 30
        },
        {
          "output_type": "display_data",
          "data": {
            "text/plain": [
              "<Figure size 432x288 with 1 Axes>"
            ],
            "image/png": "[encoded data removed]"
          },
          "metadata": {
            "tags": [],
            "needs_background": "light"
          }
        }
      ]
    },
    {
      "cell_type": "code",
      "metadata": {
        "trusted": true,
        "id": "F6xYvRVdUs9j",
        "colab_type": "code",
        "colab": {},
        "outputId": "7d5ac829-825a-49b6-bfb8-2a0302c1da4b"
      },
      "source": [
        "site_id = meta.site_id.map(np.log)"
      ],
      "execution_count": 0,
      "outputs": [
        {
          "output_type": "stream",
          "text": [
            "/opt/conda/lib/python3.6/site-packages/pandas/core/base.py:1300: RuntimeWarning: divide by zero encountered in log\n",
            "  new_values = map_f(values, mapper)\n"
          ],
          "name": "stderr"
        }
      ]
    },
    {
      "cell_type": "code",
      "metadata": {
        "trusted": true,
        "id": "-Q2yd6pMUs9n",
        "colab_type": "code",
        "colab": {},
        "outputId": "d1c20a9d-9e2d-4701-b5cb-bf1871a45e7d"
      },
      "source": [
        "meta.head()"
      ],
      "execution_count": 0,
      "outputs": [
        {
          "output_type": "execute_result",
          "data": {
            "text/plain": [
              "   site_id  building_id primary_use  square_feet\n",
              "0        0            0   Education     8.913550\n",
              "1        0            1   Education     7.908387\n",
              "2        0            2   Education     8.589700\n",
              "3        0            3   Education    10.072597\n",
              "4        0            4   Education    11.666565"
            ],
            "text/html": [
              "<div>\n",
              "<style scoped>\n",
              "    .dataframe tbody tr th:only-of-type {\n",
              "        vertical-align: middle;\n",
              "    }\n",
              "\n",
              "    .dataframe tbody tr th {\n",
              "        vertical-align: top;\n",
              "    }\n",
              "\n",
              "    .dataframe thead th {\n",
              "        text-align: right;\n",
              "    }\n",
              "</style>\n",
              "<table border=\"1\" class=\"dataframe\">\n",
              "  <thead>\n",
              "    <tr style=\"text-align: right;\">\n",
              "      <th></th>\n",
              "      <th>site_id</th>\n",
              "      <th>building_id</th>\n",
              "      <th>primary_use</th>\n",
              "      <th>square_feet</th>\n",
              "    </tr>\n",
              "  </thead>\n",
              "  <tbody>\n",
              "    <tr>\n",
              "      <th>0</th>\n",
              "      <td>0</td>\n",
              "      <td>0</td>\n",
              "      <td>Education</td>\n",
              "      <td>8.913550</td>\n",
              "    </tr>\n",
              "    <tr>\n",
              "      <th>1</th>\n",
              "      <td>0</td>\n",
              "      <td>1</td>\n",
              "      <td>Education</td>\n",
              "      <td>7.908387</td>\n",
              "    </tr>\n",
              "    <tr>\n",
              "      <th>2</th>\n",
              "      <td>0</td>\n",
              "      <td>2</td>\n",
              "      <td>Education</td>\n",
              "      <td>8.589700</td>\n",
              "    </tr>\n",
              "    <tr>\n",
              "      <th>3</th>\n",
              "      <td>0</td>\n",
              "      <td>3</td>\n",
              "      <td>Education</td>\n",
              "      <td>10.072597</td>\n",
              "    </tr>\n",
              "    <tr>\n",
              "      <th>4</th>\n",
              "      <td>0</td>\n",
              "      <td>4</td>\n",
              "      <td>Education</td>\n",
              "      <td>11.666565</td>\n",
              "    </tr>\n",
              "  </tbody>\n",
              "</table>\n",
              "</div>"
            ]
          },
          "metadata": {
            "tags": []
          },
          "execution_count": 32
        }
      ]
    },
    {
      "cell_type": "code",
      "metadata": {
        "trusted": true,
        "id": "4dkp0JS5Us9t",
        "colab_type": "code",
        "colab": {},
        "outputId": "03583a1e-a021-4d4d-a219-bea01c09623b"
      },
      "source": [
        "meta.primary_use.value_counts()"
      ],
      "execution_count": 0,
      "outputs": [
        {
          "output_type": "execute_result",
          "data": {
            "text/plain": [
              "Education                        549\n",
              "Office                           279\n",
              "Entertainment/public assembly    184\n",
              "Public services                  156\n",
              "Lodging/residential              147\n",
              "Other                             25\n",
              "Healthcare                        23\n",
              "Parking                           22\n",
              "Warehouse/storage                 13\n",
              "Manufacturing/industrial          12\n",
              "Retail                            11\n",
              "Services                          10\n",
              "Technology/science                 6\n",
              "Food sales and service             5\n",
              "Utility                            4\n",
              "Religious worship                  3\n",
              "Name: primary_use, dtype: int64"
            ]
          },
          "metadata": {
            "tags": []
          },
          "execution_count": 33
        }
      ]
    },
    {
      "cell_type": "code",
      "metadata": {
        "trusted": true,
        "id": "ORrfbPZoUs9w",
        "colab_type": "code",
        "colab": {}
      },
      "source": [
        "l=['Healthcare', 'Parking', 'Warehouse/storage', 'Manufacturing/industrial', 'Manufacturing/industrial','Retail','Services','Religious worship','Technology/science','Food sales and service','Utility','Other']"
      ],
      "execution_count": 0,
      "outputs": []
    },
    {
      "cell_type": "code",
      "metadata": {
        "trusted": true,
        "id": "QXEZpHFkUs9z",
        "colab_type": "code",
        "colab": {},
        "outputId": "c237403d-6207-4ee1-8890-2708737a79f7"
      },
      "source": [
        "l"
      ],
      "execution_count": 0,
      "outputs": [
        {
          "output_type": "execute_result",
          "data": {
            "text/plain": [
              "['Healthcare',\n",
              " 'Parking',\n",
              " 'Warehouse/storage',\n",
              " 'Manufacturing/industrial',\n",
              " 'Manufacturing/industrial',\n",
              " 'Retail',\n",
              " 'Services',\n",
              " 'Religious worship',\n",
              " 'Technology/science',\n",
              " 'Food sales and service',\n",
              " 'Utility',\n",
              " 'Other']"
            ]
          },
          "metadata": {
            "tags": []
          },
          "execution_count": 35
        }
      ]
    },
    {
      "cell_type": "code",
      "metadata": {
        "trusted": true,
        "id": "JK01UxB5Us92",
        "colab_type": "code",
        "colab": {}
      },
      "source": [
        "for x in l:\n",
        "    meta.primary_use.replace(x,'other',inplace=True)"
      ],
      "execution_count": 0,
      "outputs": []
    },
    {
      "cell_type": "code",
      "metadata": {
        "trusted": true,
        "id": "RIxCnAH8Us94",
        "colab_type": "code",
        "colab": {},
        "outputId": "3b1af603-1cdb-45d9-98f8-c10c1a04ca96"
      },
      "source": [
        "meta.head()"
      ],
      "execution_count": 0,
      "outputs": [
        {
          "output_type": "execute_result",
          "data": {
            "text/plain": [
              "   site_id  building_id primary_use  square_feet\n",
              "0        0            0   Education     8.913550\n",
              "1        0            1   Education     7.908387\n",
              "2        0            2   Education     8.589700\n",
              "3        0            3   Education    10.072597\n",
              "4        0            4   Education    11.666565"
            ],
            "text/html": [
              "<div>\n",
              "<style scoped>\n",
              "    .dataframe tbody tr th:only-of-type {\n",
              "        vertical-align: middle;\n",
              "    }\n",
              "\n",
              "    .dataframe tbody tr th {\n",
              "        vertical-align: top;\n",
              "    }\n",
              "\n",
              "    .dataframe thead th {\n",
              "        text-align: right;\n",
              "    }\n",
              "</style>\n",
              "<table border=\"1\" class=\"dataframe\">\n",
              "  <thead>\n",
              "    <tr style=\"text-align: right;\">\n",
              "      <th></th>\n",
              "      <th>site_id</th>\n",
              "      <th>building_id</th>\n",
              "      <th>primary_use</th>\n",
              "      <th>square_feet</th>\n",
              "    </tr>\n",
              "  </thead>\n",
              "  <tbody>\n",
              "    <tr>\n",
              "      <th>0</th>\n",
              "      <td>0</td>\n",
              "      <td>0</td>\n",
              "      <td>Education</td>\n",
              "      <td>8.913550</td>\n",
              "    </tr>\n",
              "    <tr>\n",
              "      <th>1</th>\n",
              "      <td>0</td>\n",
              "      <td>1</td>\n",
              "      <td>Education</td>\n",
              "      <td>7.908387</td>\n",
              "    </tr>\n",
              "    <tr>\n",
              "      <th>2</th>\n",
              "      <td>0</td>\n",
              "      <td>2</td>\n",
              "      <td>Education</td>\n",
              "      <td>8.589700</td>\n",
              "    </tr>\n",
              "    <tr>\n",
              "      <th>3</th>\n",
              "      <td>0</td>\n",
              "      <td>3</td>\n",
              "      <td>Education</td>\n",
              "      <td>10.072597</td>\n",
              "    </tr>\n",
              "    <tr>\n",
              "      <th>4</th>\n",
              "      <td>0</td>\n",
              "      <td>4</td>\n",
              "      <td>Education</td>\n",
              "      <td>11.666565</td>\n",
              "    </tr>\n",
              "  </tbody>\n",
              "</table>\n",
              "</div>"
            ]
          },
          "metadata": {
            "tags": []
          },
          "execution_count": 37
        }
      ]
    },
    {
      "cell_type": "code",
      "metadata": {
        "trusted": true,
        "id": "Q9dykRTFUs97",
        "colab_type": "code",
        "colab": {},
        "outputId": "82480e4a-cd26-4d38-9aa7-5814c84cf7f8"
      },
      "source": [
        "meta.primary_use.value_counts()"
      ],
      "execution_count": 0,
      "outputs": [
        {
          "output_type": "execute_result",
          "data": {
            "text/plain": [
              "Education                        549\n",
              "Office                           279\n",
              "Entertainment/public assembly    184\n",
              "Public services                  156\n",
              "Lodging/residential              147\n",
              "other                            134\n",
              "Name: primary_use, dtype: int64"
            ]
          },
          "metadata": {
            "tags": []
          },
          "execution_count": 38
        }
      ]
    },
    {
      "cell_type": "code",
      "metadata": {
        "trusted": true,
        "id": "t7JHZIvYUs-A",
        "colab_type": "code",
        "colab": {}
      },
      "source": [
        "dummy = pd.get_dummies(meta.primary_use)"
      ],
      "execution_count": 0,
      "outputs": []
    },
    {
      "cell_type": "code",
      "metadata": {
        "trusted": true,
        "id": "KfFDO9yYUs-D",
        "colab_type": "code",
        "colab": {},
        "outputId": "02525b73-0fc9-4f24-936a-8b4d9ef49586"
      },
      "source": [
        "dummy.head()"
      ],
      "execution_count": 0,
      "outputs": [
        {
          "output_type": "execute_result",
          "data": {
            "text/plain": [
              "   Education  Entertainment/public assembly  Lodging/residential  Office  \\\n",
              "0          1                              0                    0       0   \n",
              "1          1                              0                    0       0   \n",
              "2          1                              0                    0       0   \n",
              "3          1                              0                    0       0   \n",
              "4          1                              0                    0       0   \n",
              "\n",
              "   Public services  other  \n",
              "0                0      0  \n",
              "1                0      0  \n",
              "2                0      0  \n",
              "3                0      0  \n",
              "4                0      0  "
            ],
            "text/html": [
              "<div>\n",
              "<style scoped>\n",
              "    .dataframe tbody tr th:only-of-type {\n",
              "        vertical-align: middle;\n",
              "    }\n",
              "\n",
              "    .dataframe tbody tr th {\n",
              "        vertical-align: top;\n",
              "    }\n",
              "\n",
              "    .dataframe thead th {\n",
              "        text-align: right;\n",
              "    }\n",
              "</style>\n",
              "<table border=\"1\" class=\"dataframe\">\n",
              "  <thead>\n",
              "    <tr style=\"text-align: right;\">\n",
              "      <th></th>\n",
              "      <th>Education</th>\n",
              "      <th>Entertainment/public assembly</th>\n",
              "      <th>Lodging/residential</th>\n",
              "      <th>Office</th>\n",
              "      <th>Public services</th>\n",
              "      <th>other</th>\n",
              "    </tr>\n",
              "  </thead>\n",
              "  <tbody>\n",
              "    <tr>\n",
              "      <th>0</th>\n",
              "      <td>1</td>\n",
              "      <td>0</td>\n",
              "      <td>0</td>\n",
              "      <td>0</td>\n",
              "      <td>0</td>\n",
              "      <td>0</td>\n",
              "    </tr>\n",
              "    <tr>\n",
              "      <th>1</th>\n",
              "      <td>1</td>\n",
              "      <td>0</td>\n",
              "      <td>0</td>\n",
              "      <td>0</td>\n",
              "      <td>0</td>\n",
              "      <td>0</td>\n",
              "    </tr>\n",
              "    <tr>\n",
              "      <th>2</th>\n",
              "      <td>1</td>\n",
              "      <td>0</td>\n",
              "      <td>0</td>\n",
              "      <td>0</td>\n",
              "      <td>0</td>\n",
              "      <td>0</td>\n",
              "    </tr>\n",
              "    <tr>\n",
              "      <th>3</th>\n",
              "      <td>1</td>\n",
              "      <td>0</td>\n",
              "      <td>0</td>\n",
              "      <td>0</td>\n",
              "      <td>0</td>\n",
              "      <td>0</td>\n",
              "    </tr>\n",
              "    <tr>\n",
              "      <th>4</th>\n",
              "      <td>1</td>\n",
              "      <td>0</td>\n",
              "      <td>0</td>\n",
              "      <td>0</td>\n",
              "      <td>0</td>\n",
              "      <td>0</td>\n",
              "    </tr>\n",
              "  </tbody>\n",
              "</table>\n",
              "</div>"
            ]
          },
          "metadata": {
            "tags": []
          },
          "execution_count": 40
        }
      ]
    },
    {
      "cell_type": "code",
      "metadata": {
        "trusted": true,
        "id": "yG22P20NUs-H",
        "colab_type": "code",
        "colab": {}
      },
      "source": [
        "meta = pd.concat([dummy,meta],axis = 1)"
      ],
      "execution_count": 0,
      "outputs": []
    },
    {
      "cell_type": "code",
      "metadata": {
        "trusted": true,
        "id": "8tXW_OoHUs-K",
        "colab_type": "code",
        "colab": {},
        "outputId": "93e3f1b9-01f4-4e6a-ab43-8d61a30fea73"
      },
      "source": [
        "meta.head()"
      ],
      "execution_count": 0,
      "outputs": [
        {
          "output_type": "execute_result",
          "data": {
            "text/plain": [
              "   Education  Entertainment/public assembly  Lodging/residential  Office  \\\n",
              "0          1                              0                    0       0   \n",
              "1          1                              0                    0       0   \n",
              "2          1                              0                    0       0   \n",
              "3          1                              0                    0       0   \n",
              "4          1                              0                    0       0   \n",
              "\n",
              "   Public services  other  site_id  building_id primary_use  square_feet  \n",
              "0                0      0        0            0   Education     8.913550  \n",
              "1                0      0        0            1   Education     7.908387  \n",
              "2                0      0        0            2   Education     8.589700  \n",
              "3                0      0        0            3   Education    10.072597  \n",
              "4                0      0        0            4   Education    11.666565  "
            ],
            "text/html": [
              "<div>\n",
              "<style scoped>\n",
              "    .dataframe tbody tr th:only-of-type {\n",
              "        vertical-align: middle;\n",
              "    }\n",
              "\n",
              "    .dataframe tbody tr th {\n",
              "        vertical-align: top;\n",
              "    }\n",
              "\n",
              "    .dataframe thead th {\n",
              "        text-align: right;\n",
              "    }\n",
              "</style>\n",
              "<table border=\"1\" class=\"dataframe\">\n",
              "  <thead>\n",
              "    <tr style=\"text-align: right;\">\n",
              "      <th></th>\n",
              "      <th>Education</th>\n",
              "      <th>Entertainment/public assembly</th>\n",
              "      <th>Lodging/residential</th>\n",
              "      <th>Office</th>\n",
              "      <th>Public services</th>\n",
              "      <th>other</th>\n",
              "      <th>site_id</th>\n",
              "      <th>building_id</th>\n",
              "      <th>primary_use</th>\n",
              "      <th>square_feet</th>\n",
              "    </tr>\n",
              "  </thead>\n",
              "  <tbody>\n",
              "    <tr>\n",
              "      <th>0</th>\n",
              "      <td>1</td>\n",
              "      <td>0</td>\n",
              "      <td>0</td>\n",
              "      <td>0</td>\n",
              "      <td>0</td>\n",
              "      <td>0</td>\n",
              "      <td>0</td>\n",
              "      <td>0</td>\n",
              "      <td>Education</td>\n",
              "      <td>8.913550</td>\n",
              "    </tr>\n",
              "    <tr>\n",
              "      <th>1</th>\n",
              "      <td>1</td>\n",
              "      <td>0</td>\n",
              "      <td>0</td>\n",
              "      <td>0</td>\n",
              "      <td>0</td>\n",
              "      <td>0</td>\n",
              "      <td>0</td>\n",
              "      <td>1</td>\n",
              "      <td>Education</td>\n",
              "      <td>7.908387</td>\n",
              "    </tr>\n",
              "    <tr>\n",
              "      <th>2</th>\n",
              "      <td>1</td>\n",
              "      <td>0</td>\n",
              "      <td>0</td>\n",
              "      <td>0</td>\n",
              "      <td>0</td>\n",
              "      <td>0</td>\n",
              "      <td>0</td>\n",
              "      <td>2</td>\n",
              "      <td>Education</td>\n",
              "      <td>8.589700</td>\n",
              "    </tr>\n",
              "    <tr>\n",
              "      <th>3</th>\n",
              "      <td>1</td>\n",
              "      <td>0</td>\n",
              "      <td>0</td>\n",
              "      <td>0</td>\n",
              "      <td>0</td>\n",
              "      <td>0</td>\n",
              "      <td>0</td>\n",
              "      <td>3</td>\n",
              "      <td>Education</td>\n",
              "      <td>10.072597</td>\n",
              "    </tr>\n",
              "    <tr>\n",
              "      <th>4</th>\n",
              "      <td>1</td>\n",
              "      <td>0</td>\n",
              "      <td>0</td>\n",
              "      <td>0</td>\n",
              "      <td>0</td>\n",
              "      <td>0</td>\n",
              "      <td>0</td>\n",
              "      <td>4</td>\n",
              "      <td>Education</td>\n",
              "      <td>11.666565</td>\n",
              "    </tr>\n",
              "  </tbody>\n",
              "</table>\n",
              "</div>"
            ]
          },
          "metadata": {
            "tags": []
          },
          "execution_count": 42
        }
      ]
    },
    {
      "cell_type": "code",
      "metadata": {
        "trusted": true,
        "id": "P5kAEDh9Us-M",
        "colab_type": "code",
        "colab": {}
      },
      "source": [
        ""
      ],
      "execution_count": 0,
      "outputs": []
    },
    {
      "cell_type": "code",
      "metadata": {
        "trusted": true,
        "id": "wsOkAiInUs-O",
        "colab_type": "code",
        "colab": {},
        "outputId": "d63124e2-60f4-4a8b-e8fb-41231f0e27ed"
      },
      "source": [
        "meta.head()"
      ],
      "execution_count": 0,
      "outputs": [
        {
          "output_type": "execute_result",
          "data": {
            "text/plain": [
              "   Education  Entertainment/public assembly  Lodging/residential  Office  \\\n",
              "0          1                              0                    0       0   \n",
              "1          1                              0                    0       0   \n",
              "2          1                              0                    0       0   \n",
              "3          1                              0                    0       0   \n",
              "4          1                              0                    0       0   \n",
              "\n",
              "   Public services  other  site_id  building_id primary_use  square_feet  \n",
              "0                0      0        0            0   Education     8.913550  \n",
              "1                0      0        0            1   Education     7.908387  \n",
              "2                0      0        0            2   Education     8.589700  \n",
              "3                0      0        0            3   Education    10.072597  \n",
              "4                0      0        0            4   Education    11.666565  "
            ],
            "text/html": [
              "<div>\n",
              "<style scoped>\n",
              "    .dataframe tbody tr th:only-of-type {\n",
              "        vertical-align: middle;\n",
              "    }\n",
              "\n",
              "    .dataframe tbody tr th {\n",
              "        vertical-align: top;\n",
              "    }\n",
              "\n",
              "    .dataframe thead th {\n",
              "        text-align: right;\n",
              "    }\n",
              "</style>\n",
              "<table border=\"1\" class=\"dataframe\">\n",
              "  <thead>\n",
              "    <tr style=\"text-align: right;\">\n",
              "      <th></th>\n",
              "      <th>Education</th>\n",
              "      <th>Entertainment/public assembly</th>\n",
              "      <th>Lodging/residential</th>\n",
              "      <th>Office</th>\n",
              "      <th>Public services</th>\n",
              "      <th>other</th>\n",
              "      <th>site_id</th>\n",
              "      <th>building_id</th>\n",
              "      <th>primary_use</th>\n",
              "      <th>square_feet</th>\n",
              "    </tr>\n",
              "  </thead>\n",
              "  <tbody>\n",
              "    <tr>\n",
              "      <th>0</th>\n",
              "      <td>1</td>\n",
              "      <td>0</td>\n",
              "      <td>0</td>\n",
              "      <td>0</td>\n",
              "      <td>0</td>\n",
              "      <td>0</td>\n",
              "      <td>0</td>\n",
              "      <td>0</td>\n",
              "      <td>Education</td>\n",
              "      <td>8.913550</td>\n",
              "    </tr>\n",
              "    <tr>\n",
              "      <th>1</th>\n",
              "      <td>1</td>\n",
              "      <td>0</td>\n",
              "      <td>0</td>\n",
              "      <td>0</td>\n",
              "      <td>0</td>\n",
              "      <td>0</td>\n",
              "      <td>0</td>\n",
              "      <td>1</td>\n",
              "      <td>Education</td>\n",
              "      <td>7.908387</td>\n",
              "    </tr>\n",
              "    <tr>\n",
              "      <th>2</th>\n",
              "      <td>1</td>\n",
              "      <td>0</td>\n",
              "      <td>0</td>\n",
              "      <td>0</td>\n",
              "      <td>0</td>\n",
              "      <td>0</td>\n",
              "      <td>0</td>\n",
              "      <td>2</td>\n",
              "      <td>Education</td>\n",
              "      <td>8.589700</td>\n",
              "    </tr>\n",
              "    <tr>\n",
              "      <th>3</th>\n",
              "      <td>1</td>\n",
              "      <td>0</td>\n",
              "      <td>0</td>\n",
              "      <td>0</td>\n",
              "      <td>0</td>\n",
              "      <td>0</td>\n",
              "      <td>0</td>\n",
              "      <td>3</td>\n",
              "      <td>Education</td>\n",
              "      <td>10.072597</td>\n",
              "    </tr>\n",
              "    <tr>\n",
              "      <th>4</th>\n",
              "      <td>1</td>\n",
              "      <td>0</td>\n",
              "      <td>0</td>\n",
              "      <td>0</td>\n",
              "      <td>0</td>\n",
              "      <td>0</td>\n",
              "      <td>0</td>\n",
              "      <td>4</td>\n",
              "      <td>Education</td>\n",
              "      <td>11.666565</td>\n",
              "    </tr>\n",
              "  </tbody>\n",
              "</table>\n",
              "</div>"
            ]
          },
          "metadata": {
            "tags": []
          },
          "execution_count": 43
        }
      ]
    },
    {
      "cell_type": "code",
      "metadata": {
        "trusted": true,
        "id": "kv-tT6VvUs-R",
        "colab_type": "code",
        "colab": {},
        "outputId": "599db9ac-bf5d-4828-ad53-d5349c75854d"
      },
      "source": [
        "meta.head()"
      ],
      "execution_count": 0,
      "outputs": [
        {
          "output_type": "execute_result",
          "data": {
            "text/plain": [
              "   Education  Entertainment/public assembly  Lodging/residential  Office  \\\n",
              "0          1                              0                    0       0   \n",
              "1          1                              0                    0       0   \n",
              "2          1                              0                    0       0   \n",
              "3          1                              0                    0       0   \n",
              "4          1                              0                    0       0   \n",
              "\n",
              "   Public services  other  site_id  building_id primary_use  square_feet  \n",
              "0                0      0        0            0   Education     8.913550  \n",
              "1                0      0        0            1   Education     7.908387  \n",
              "2                0      0        0            2   Education     8.589700  \n",
              "3                0      0        0            3   Education    10.072597  \n",
              "4                0      0        0            4   Education    11.666565  "
            ],
            "text/html": [
              "<div>\n",
              "<style scoped>\n",
              "    .dataframe tbody tr th:only-of-type {\n",
              "        vertical-align: middle;\n",
              "    }\n",
              "\n",
              "    .dataframe tbody tr th {\n",
              "        vertical-align: top;\n",
              "    }\n",
              "\n",
              "    .dataframe thead th {\n",
              "        text-align: right;\n",
              "    }\n",
              "</style>\n",
              "<table border=\"1\" class=\"dataframe\">\n",
              "  <thead>\n",
              "    <tr style=\"text-align: right;\">\n",
              "      <th></th>\n",
              "      <th>Education</th>\n",
              "      <th>Entertainment/public assembly</th>\n",
              "      <th>Lodging/residential</th>\n",
              "      <th>Office</th>\n",
              "      <th>Public services</th>\n",
              "      <th>other</th>\n",
              "      <th>site_id</th>\n",
              "      <th>building_id</th>\n",
              "      <th>primary_use</th>\n",
              "      <th>square_feet</th>\n",
              "    </tr>\n",
              "  </thead>\n",
              "  <tbody>\n",
              "    <tr>\n",
              "      <th>0</th>\n",
              "      <td>1</td>\n",
              "      <td>0</td>\n",
              "      <td>0</td>\n",
              "      <td>0</td>\n",
              "      <td>0</td>\n",
              "      <td>0</td>\n",
              "      <td>0</td>\n",
              "      <td>0</td>\n",
              "      <td>Education</td>\n",
              "      <td>8.913550</td>\n",
              "    </tr>\n",
              "    <tr>\n",
              "      <th>1</th>\n",
              "      <td>1</td>\n",
              "      <td>0</td>\n",
              "      <td>0</td>\n",
              "      <td>0</td>\n",
              "      <td>0</td>\n",
              "      <td>0</td>\n",
              "      <td>0</td>\n",
              "      <td>1</td>\n",
              "      <td>Education</td>\n",
              "      <td>7.908387</td>\n",
              "    </tr>\n",
              "    <tr>\n",
              "      <th>2</th>\n",
              "      <td>1</td>\n",
              "      <td>0</td>\n",
              "      <td>0</td>\n",
              "      <td>0</td>\n",
              "      <td>0</td>\n",
              "      <td>0</td>\n",
              "      <td>0</td>\n",
              "      <td>2</td>\n",
              "      <td>Education</td>\n",
              "      <td>8.589700</td>\n",
              "    </tr>\n",
              "    <tr>\n",
              "      <th>3</th>\n",
              "      <td>1</td>\n",
              "      <td>0</td>\n",
              "      <td>0</td>\n",
              "      <td>0</td>\n",
              "      <td>0</td>\n",
              "      <td>0</td>\n",
              "      <td>0</td>\n",
              "      <td>3</td>\n",
              "      <td>Education</td>\n",
              "      <td>10.072597</td>\n",
              "    </tr>\n",
              "    <tr>\n",
              "      <th>4</th>\n",
              "      <td>1</td>\n",
              "      <td>0</td>\n",
              "      <td>0</td>\n",
              "      <td>0</td>\n",
              "      <td>0</td>\n",
              "      <td>0</td>\n",
              "      <td>0</td>\n",
              "      <td>4</td>\n",
              "      <td>Education</td>\n",
              "      <td>11.666565</td>\n",
              "    </tr>\n",
              "  </tbody>\n",
              "</table>\n",
              "</div>"
            ]
          },
          "metadata": {
            "tags": []
          },
          "execution_count": 44
        }
      ]
    },
    {
      "cell_type": "code",
      "metadata": {
        "trusted": true,
        "id": "nb6ruhI1Us-V",
        "colab_type": "code",
        "colab": {},
        "outputId": "7a135272-2811-4582-b84a-a05e4e5006c1"
      },
      "source": [
        "train.head()"
      ],
      "execution_count": 0,
      "outputs": [
        {
          "output_type": "execute_result",
          "data": {
            "text/plain": [
              "   building_id  meter  timestamp  meter_reading\n",
              "0            0      0 2016-01-01            0.0\n",
              "1            1      0 2016-01-01            0.0\n",
              "2            2      0 2016-01-01            0.0\n",
              "3            3      0 2016-01-01            0.0\n",
              "4            4      0 2016-01-01            0.0"
            ],
            "text/html": [
              "<div>\n",
              "<style scoped>\n",
              "    .dataframe tbody tr th:only-of-type {\n",
              "        vertical-align: middle;\n",
              "    }\n",
              "\n",
              "    .dataframe tbody tr th {\n",
              "        vertical-align: top;\n",
              "    }\n",
              "\n",
              "    .dataframe thead th {\n",
              "        text-align: right;\n",
              "    }\n",
              "</style>\n",
              "<table border=\"1\" class=\"dataframe\">\n",
              "  <thead>\n",
              "    <tr style=\"text-align: right;\">\n",
              "      <th></th>\n",
              "      <th>building_id</th>\n",
              "      <th>meter</th>\n",
              "      <th>timestamp</th>\n",
              "      <th>meter_reading</th>\n",
              "    </tr>\n",
              "  </thead>\n",
              "  <tbody>\n",
              "    <tr>\n",
              "      <th>0</th>\n",
              "      <td>0</td>\n",
              "      <td>0</td>\n",
              "      <td>2016-01-01</td>\n",
              "      <td>0.0</td>\n",
              "    </tr>\n",
              "    <tr>\n",
              "      <th>1</th>\n",
              "      <td>1</td>\n",
              "      <td>0</td>\n",
              "      <td>2016-01-01</td>\n",
              "      <td>0.0</td>\n",
              "    </tr>\n",
              "    <tr>\n",
              "      <th>2</th>\n",
              "      <td>2</td>\n",
              "      <td>0</td>\n",
              "      <td>2016-01-01</td>\n",
              "      <td>0.0</td>\n",
              "    </tr>\n",
              "    <tr>\n",
              "      <th>3</th>\n",
              "      <td>3</td>\n",
              "      <td>0</td>\n",
              "      <td>2016-01-01</td>\n",
              "      <td>0.0</td>\n",
              "    </tr>\n",
              "    <tr>\n",
              "      <th>4</th>\n",
              "      <td>4</td>\n",
              "      <td>0</td>\n",
              "      <td>2016-01-01</td>\n",
              "      <td>0.0</td>\n",
              "    </tr>\n",
              "  </tbody>\n",
              "</table>\n",
              "</div>"
            ]
          },
          "metadata": {
            "tags": []
          },
          "execution_count": 45
        }
      ]
    },
    {
      "cell_type": "code",
      "metadata": {
        "trusted": true,
        "id": "ve9_FERQUs-d",
        "colab_type": "code",
        "colab": {},
        "outputId": "5408a2be-3c01-416e-d741-50df47c78c1a"
      },
      "source": [
        "meta.site_id.isnull().sum()"
      ],
      "execution_count": 0,
      "outputs": [
        {
          "output_type": "execute_result",
          "data": {
            "text/plain": [
              "0"
            ]
          },
          "metadata": {
            "tags": []
          },
          "execution_count": 46
        }
      ]
    },
    {
      "cell_type": "code",
      "metadata": {
        "trusted": true,
        "id": "eidxIoBxUs-l",
        "colab_type": "code",
        "colab": {},
        "outputId": "683c9321-5d63-4406-8ca0-4e63d14897b0"
      },
      "source": [
        "meta.head()"
      ],
      "execution_count": 0,
      "outputs": [
        {
          "output_type": "execute_result",
          "data": {
            "text/plain": [
              "   Education  Entertainment/public assembly  Lodging/residential  Office  \\\n",
              "0          1                              0                    0       0   \n",
              "1          1                              0                    0       0   \n",
              "2          1                              0                    0       0   \n",
              "3          1                              0                    0       0   \n",
              "4          1                              0                    0       0   \n",
              "\n",
              "   Public services  other  site_id  building_id primary_use  square_feet  \n",
              "0                0      0        0            0   Education     8.913550  \n",
              "1                0      0        0            1   Education     7.908387  \n",
              "2                0      0        0            2   Education     8.589700  \n",
              "3                0      0        0            3   Education    10.072597  \n",
              "4                0      0        0            4   Education    11.666565  "
            ],
            "text/html": [
              "<div>\n",
              "<style scoped>\n",
              "    .dataframe tbody tr th:only-of-type {\n",
              "        vertical-align: middle;\n",
              "    }\n",
              "\n",
              "    .dataframe tbody tr th {\n",
              "        vertical-align: top;\n",
              "    }\n",
              "\n",
              "    .dataframe thead th {\n",
              "        text-align: right;\n",
              "    }\n",
              "</style>\n",
              "<table border=\"1\" class=\"dataframe\">\n",
              "  <thead>\n",
              "    <tr style=\"text-align: right;\">\n",
              "      <th></th>\n",
              "      <th>Education</th>\n",
              "      <th>Entertainment/public assembly</th>\n",
              "      <th>Lodging/residential</th>\n",
              "      <th>Office</th>\n",
              "      <th>Public services</th>\n",
              "      <th>other</th>\n",
              "      <th>site_id</th>\n",
              "      <th>building_id</th>\n",
              "      <th>primary_use</th>\n",
              "      <th>square_feet</th>\n",
              "    </tr>\n",
              "  </thead>\n",
              "  <tbody>\n",
              "    <tr>\n",
              "      <th>0</th>\n",
              "      <td>1</td>\n",
              "      <td>0</td>\n",
              "      <td>0</td>\n",
              "      <td>0</td>\n",
              "      <td>0</td>\n",
              "      <td>0</td>\n",
              "      <td>0</td>\n",
              "      <td>0</td>\n",
              "      <td>Education</td>\n",
              "      <td>8.913550</td>\n",
              "    </tr>\n",
              "    <tr>\n",
              "      <th>1</th>\n",
              "      <td>1</td>\n",
              "      <td>0</td>\n",
              "      <td>0</td>\n",
              "      <td>0</td>\n",
              "      <td>0</td>\n",
              "      <td>0</td>\n",
              "      <td>0</td>\n",
              "      <td>1</td>\n",
              "      <td>Education</td>\n",
              "      <td>7.908387</td>\n",
              "    </tr>\n",
              "    <tr>\n",
              "      <th>2</th>\n",
              "      <td>1</td>\n",
              "      <td>0</td>\n",
              "      <td>0</td>\n",
              "      <td>0</td>\n",
              "      <td>0</td>\n",
              "      <td>0</td>\n",
              "      <td>0</td>\n",
              "      <td>2</td>\n",
              "      <td>Education</td>\n",
              "      <td>8.589700</td>\n",
              "    </tr>\n",
              "    <tr>\n",
              "      <th>3</th>\n",
              "      <td>1</td>\n",
              "      <td>0</td>\n",
              "      <td>0</td>\n",
              "      <td>0</td>\n",
              "      <td>0</td>\n",
              "      <td>0</td>\n",
              "      <td>0</td>\n",
              "      <td>3</td>\n",
              "      <td>Education</td>\n",
              "      <td>10.072597</td>\n",
              "    </tr>\n",
              "    <tr>\n",
              "      <th>4</th>\n",
              "      <td>1</td>\n",
              "      <td>0</td>\n",
              "      <td>0</td>\n",
              "      <td>0</td>\n",
              "      <td>0</td>\n",
              "      <td>0</td>\n",
              "      <td>0</td>\n",
              "      <td>4</td>\n",
              "      <td>Education</td>\n",
              "      <td>11.666565</td>\n",
              "    </tr>\n",
              "  </tbody>\n",
              "</table>\n",
              "</div>"
            ]
          },
          "metadata": {
            "tags": []
          },
          "execution_count": 47
        }
      ]
    },
    {
      "cell_type": "code",
      "metadata": {
        "trusted": true,
        "id": "IvtDf2fTUs-o",
        "colab_type": "code",
        "colab": {},
        "outputId": "0b7dd6eb-d67d-4643-82cd-9e114a9c6681"
      },
      "source": [
        "train.head()"
      ],
      "execution_count": 0,
      "outputs": [
        {
          "output_type": "execute_result",
          "data": {
            "text/plain": [
              "   building_id  meter  timestamp  meter_reading\n",
              "0            0      0 2016-01-01            0.0\n",
              "1            1      0 2016-01-01            0.0\n",
              "2            2      0 2016-01-01            0.0\n",
              "3            3      0 2016-01-01            0.0\n",
              "4            4      0 2016-01-01            0.0"
            ],
            "text/html": [
              "<div>\n",
              "<style scoped>\n",
              "    .dataframe tbody tr th:only-of-type {\n",
              "        vertical-align: middle;\n",
              "    }\n",
              "\n",
              "    .dataframe tbody tr th {\n",
              "        vertical-align: top;\n",
              "    }\n",
              "\n",
              "    .dataframe thead th {\n",
              "        text-align: right;\n",
              "    }\n",
              "</style>\n",
              "<table border=\"1\" class=\"dataframe\">\n",
              "  <thead>\n",
              "    <tr style=\"text-align: right;\">\n",
              "      <th></th>\n",
              "      <th>building_id</th>\n",
              "      <th>meter</th>\n",
              "      <th>timestamp</th>\n",
              "      <th>meter_reading</th>\n",
              "    </tr>\n",
              "  </thead>\n",
              "  <tbody>\n",
              "    <tr>\n",
              "      <th>0</th>\n",
              "      <td>0</td>\n",
              "      <td>0</td>\n",
              "      <td>2016-01-01</td>\n",
              "      <td>0.0</td>\n",
              "    </tr>\n",
              "    <tr>\n",
              "      <th>1</th>\n",
              "      <td>1</td>\n",
              "      <td>0</td>\n",
              "      <td>2016-01-01</td>\n",
              "      <td>0.0</td>\n",
              "    </tr>\n",
              "    <tr>\n",
              "      <th>2</th>\n",
              "      <td>2</td>\n",
              "      <td>0</td>\n",
              "      <td>2016-01-01</td>\n",
              "      <td>0.0</td>\n",
              "    </tr>\n",
              "    <tr>\n",
              "      <th>3</th>\n",
              "      <td>3</td>\n",
              "      <td>0</td>\n",
              "      <td>2016-01-01</td>\n",
              "      <td>0.0</td>\n",
              "    </tr>\n",
              "    <tr>\n",
              "      <th>4</th>\n",
              "      <td>4</td>\n",
              "      <td>0</td>\n",
              "      <td>2016-01-01</td>\n",
              "      <td>0.0</td>\n",
              "    </tr>\n",
              "  </tbody>\n",
              "</table>\n",
              "</div>"
            ]
          },
          "metadata": {
            "tags": []
          },
          "execution_count": 48
        }
      ]
    },
    {
      "cell_type": "code",
      "metadata": {
        "trusted": true,
        "id": "qKbfakBGUs-t",
        "colab_type": "code",
        "colab": {},
        "outputId": "50efb9e0-ad4f-4362-def5-38f4e4637344"
      },
      "source": [
        "train.meter.isnull().sum()"
      ],
      "execution_count": 0,
      "outputs": [
        {
          "output_type": "execute_result",
          "data": {
            "text/plain": [
              "0"
            ]
          },
          "metadata": {
            "tags": []
          },
          "execution_count": 49
        }
      ]
    },
    {
      "cell_type": "code",
      "metadata": {
        "trusted": true,
        "id": "UqpWspf9Us-y",
        "colab_type": "code",
        "colab": {},
        "outputId": "3bf48dea-0213-4023-9c02-2b6fdadc9322"
      },
      "source": [
        "train.timestamp.isnull().sum()"
      ],
      "execution_count": 0,
      "outputs": [
        {
          "output_type": "execute_result",
          "data": {
            "text/plain": [
              "0"
            ]
          },
          "metadata": {
            "tags": []
          },
          "execution_count": 50
        }
      ]
    },
    {
      "cell_type": "code",
      "metadata": {
        "trusted": true,
        "id": "D5nyzr2MUs-3",
        "colab_type": "code",
        "colab": {},
        "outputId": "0bc8b207-dc58-4870-a700-850fcd98d089"
      },
      "source": [
        "train.meter_reading.isnull().sum()"
      ],
      "execution_count": 0,
      "outputs": [
        {
          "output_type": "execute_result",
          "data": {
            "text/plain": [
              "0"
            ]
          },
          "metadata": {
            "tags": []
          },
          "execution_count": 51
        }
      ]
    },
    {
      "cell_type": "code",
      "metadata": {
        "trusted": true,
        "id": "MooaGUaXUs-7",
        "colab_type": "code",
        "colab": {}
      },
      "source": [
        ""
      ],
      "execution_count": 0,
      "outputs": []
    },
    {
      "cell_type": "code",
      "metadata": {
        "trusted": true,
        "id": "nIlAsSn8Us--",
        "colab_type": "code",
        "colab": {}
      },
      "source": [
        ""
      ],
      "execution_count": 0,
      "outputs": []
    },
    {
      "cell_type": "code",
      "metadata": {
        "trusted": true,
        "id": "UzWotboBUs_B",
        "colab_type": "code",
        "colab": {},
        "outputId": "2ee890d4-44ef-4698-e22a-fbe4a2387367"
      },
      "source": [
        "train.head()"
      ],
      "execution_count": 0,
      "outputs": [
        {
          "output_type": "execute_result",
          "data": {
            "text/plain": [
              "   building_id  meter  timestamp  meter_reading\n",
              "0            0      0 2016-01-01            0.0\n",
              "1            1      0 2016-01-01            0.0\n",
              "2            2      0 2016-01-01            0.0\n",
              "3            3      0 2016-01-01            0.0\n",
              "4            4      0 2016-01-01            0.0"
            ],
            "text/html": [
              "<div>\n",
              "<style scoped>\n",
              "    .dataframe tbody tr th:only-of-type {\n",
              "        vertical-align: middle;\n",
              "    }\n",
              "\n",
              "    .dataframe tbody tr th {\n",
              "        vertical-align: top;\n",
              "    }\n",
              "\n",
              "    .dataframe thead th {\n",
              "        text-align: right;\n",
              "    }\n",
              "</style>\n",
              "<table border=\"1\" class=\"dataframe\">\n",
              "  <thead>\n",
              "    <tr style=\"text-align: right;\">\n",
              "      <th></th>\n",
              "      <th>building_id</th>\n",
              "      <th>meter</th>\n",
              "      <th>timestamp</th>\n",
              "      <th>meter_reading</th>\n",
              "    </tr>\n",
              "  </thead>\n",
              "  <tbody>\n",
              "    <tr>\n",
              "      <th>0</th>\n",
              "      <td>0</td>\n",
              "      <td>0</td>\n",
              "      <td>2016-01-01</td>\n",
              "      <td>0.0</td>\n",
              "    </tr>\n",
              "    <tr>\n",
              "      <th>1</th>\n",
              "      <td>1</td>\n",
              "      <td>0</td>\n",
              "      <td>2016-01-01</td>\n",
              "      <td>0.0</td>\n",
              "    </tr>\n",
              "    <tr>\n",
              "      <th>2</th>\n",
              "      <td>2</td>\n",
              "      <td>0</td>\n",
              "      <td>2016-01-01</td>\n",
              "      <td>0.0</td>\n",
              "    </tr>\n",
              "    <tr>\n",
              "      <th>3</th>\n",
              "      <td>3</td>\n",
              "      <td>0</td>\n",
              "      <td>2016-01-01</td>\n",
              "      <td>0.0</td>\n",
              "    </tr>\n",
              "    <tr>\n",
              "      <th>4</th>\n",
              "      <td>4</td>\n",
              "      <td>0</td>\n",
              "      <td>2016-01-01</td>\n",
              "      <td>0.0</td>\n",
              "    </tr>\n",
              "  </tbody>\n",
              "</table>\n",
              "</div>"
            ]
          },
          "metadata": {
            "tags": []
          },
          "execution_count": 52
        }
      ]
    },
    {
      "cell_type": "code",
      "metadata": {
        "trusted": true,
        "id": "6U2C-2XeUs_D",
        "colab_type": "code",
        "colab": {},
        "outputId": "6b6a61b3-be0e-4b24-a384-f0cb0abbd765"
      },
      "source": [
        "fig = train['meter'].plot.hist()"
      ],
      "execution_count": 0,
      "outputs": [
        {
          "output_type": "display_data",
          "data": {
            "text/plain": [
              "<Figure size 432x288 with 1 Axes>"
            ],
            "image/png": "[encoded data removed]"
          },
          "metadata": {
            "tags": [],
            "needs_background": "light"
          }
        }
      ]
    },
    {
      "cell_type": "code",
      "metadata": {
        "trusted": true,
        "id": "8YUdHCxTUs_F",
        "colab_type": "code",
        "colab": {},
        "outputId": "b72401bc-bf09-4196-cabd-c26d215ddeb8"
      },
      "source": [
        "fig = train['meter_reading'].plot.hist()"
      ],
      "execution_count": 0,
      "outputs": [
        {
          "output_type": "display_data",
          "data": {
            "text/plain": [
              "<Figure size 432x288 with 1 Axes>"
            ],
            "image/png": "[encoded data removed]"
          },
          "metadata": {
            "tags": [],
            "needs_background": "light"
          }
        }
      ]
    },
    {
      "cell_type": "code",
      "metadata": {
        "trusted": true,
        "id": "GPeqW0-5Us_H",
        "colab_type": "code",
        "colab": {},
        "outputId": "ec566e9f-c6fc-44ee-c72b-03acaeb0a532"
      },
      "source": [
        "train.meter_reading.describe()"
      ],
      "execution_count": 0,
      "outputs": [
        {
          "output_type": "execute_result",
          "data": {
            "text/plain": [
              "count    2.021610e+07\n",
              "mean     2.117121e+03\n",
              "std      1.532356e+05\n",
              "min      0.000000e+00\n",
              "25%      1.830000e+01\n",
              "50%      7.877500e+01\n",
              "75%      2.679840e+02\n",
              "max      2.190470e+07\n",
              "Name: meter_reading, dtype: float64"
            ]
          },
          "metadata": {
            "tags": []
          },
          "execution_count": 55
        }
      ]
    },
    {
      "cell_type": "code",
      "metadata": {
        "trusted": true,
        "id": "dPdCiHMhUs_J",
        "colab_type": "code",
        "colab": {},
        "outputId": "ac195b1b-915e-4066-e48f-ccf880a8dcdd"
      },
      "source": [
        "fig=train.meter_reading.plot.box()"
      ],
      "execution_count": 0,
      "outputs": [
        {
          "output_type": "display_data",
          "data": {
            "text/plain": [
              "<Figure size 432x288 with 1 Axes>"
            ],
            "image/png": "[encoded data removed]"
          },
          "metadata": {
            "tags": [],
            "needs_background": "light"
          }
        }
      ]
    },
    {
      "cell_type": "code",
      "metadata": {
        "trusted": true,
        "id": "T2Q2dRzqUs_L",
        "colab_type": "code",
        "colab": {},
        "outputId": "bca8547f-7e8c-4ad0-991a-071696bed27f"
      },
      "source": [
        "train.head()"
      ],
      "execution_count": 0,
      "outputs": [
        {
          "output_type": "execute_result",
          "data": {
            "text/plain": [
              "   building_id  meter  timestamp  meter_reading\n",
              "0            0      0 2016-01-01            0.0\n",
              "1            1      0 2016-01-01            0.0\n",
              "2            2      0 2016-01-01            0.0\n",
              "3            3      0 2016-01-01            0.0\n",
              "4            4      0 2016-01-01            0.0"
            ],
            "text/html": [
              "<div>\n",
              "<style scoped>\n",
              "    .dataframe tbody tr th:only-of-type {\n",
              "        vertical-align: middle;\n",
              "    }\n",
              "\n",
              "    .dataframe tbody tr th {\n",
              "        vertical-align: top;\n",
              "    }\n",
              "\n",
              "    .dataframe thead th {\n",
              "        text-align: right;\n",
              "    }\n",
              "</style>\n",
              "<table border=\"1\" class=\"dataframe\">\n",
              "  <thead>\n",
              "    <tr style=\"text-align: right;\">\n",
              "      <th></th>\n",
              "      <th>building_id</th>\n",
              "      <th>meter</th>\n",
              "      <th>timestamp</th>\n",
              "      <th>meter_reading</th>\n",
              "    </tr>\n",
              "  </thead>\n",
              "  <tbody>\n",
              "    <tr>\n",
              "      <th>0</th>\n",
              "      <td>0</td>\n",
              "      <td>0</td>\n",
              "      <td>2016-01-01</td>\n",
              "      <td>0.0</td>\n",
              "    </tr>\n",
              "    <tr>\n",
              "      <th>1</th>\n",
              "      <td>1</td>\n",
              "      <td>0</td>\n",
              "      <td>2016-01-01</td>\n",
              "      <td>0.0</td>\n",
              "    </tr>\n",
              "    <tr>\n",
              "      <th>2</th>\n",
              "      <td>2</td>\n",
              "      <td>0</td>\n",
              "      <td>2016-01-01</td>\n",
              "      <td>0.0</td>\n",
              "    </tr>\n",
              "    <tr>\n",
              "      <th>3</th>\n",
              "      <td>3</td>\n",
              "      <td>0</td>\n",
              "      <td>2016-01-01</td>\n",
              "      <td>0.0</td>\n",
              "    </tr>\n",
              "    <tr>\n",
              "      <th>4</th>\n",
              "      <td>4</td>\n",
              "      <td>0</td>\n",
              "      <td>2016-01-01</td>\n",
              "      <td>0.0</td>\n",
              "    </tr>\n",
              "  </tbody>\n",
              "</table>\n",
              "</div>"
            ]
          },
          "metadata": {
            "tags": []
          },
          "execution_count": 57
        }
      ]
    },
    {
      "cell_type": "code",
      "metadata": {
        "trusted": true,
        "id": "OqPhZZCdUs_N",
        "colab_type": "code",
        "colab": {},
        "outputId": "b35f3c19-5afa-4fee-9dd2-d65eb59b8a12"
      },
      "source": [
        "weather.head()"
      ],
      "execution_count": 0,
      "outputs": [
        {
          "output_type": "execute_result",
          "data": {
            "text/plain": [
              "   site_id           timestamp  air_temperature  cloud_coverage  \\\n",
              "0        0 2016-01-01 00:00:00             25.0             6.0   \n",
              "1        0 2016-01-01 01:00:00             24.4             NaN   \n",
              "2        0 2016-01-01 02:00:00             22.8             2.0   \n",
              "3        0 2016-01-01 03:00:00             21.1             2.0   \n",
              "4        0 2016-01-01 04:00:00             20.0             2.0   \n",
              "\n",
              "   dew_temperature  precip_depth_1_hr  sea_level_pressure  wind_direction  \\\n",
              "0             20.0                NaN              1019.7             0.0   \n",
              "1             21.1               -1.0              1020.2            70.0   \n",
              "2             21.1                0.0              1020.2             0.0   \n",
              "3             20.6                0.0              1020.1             0.0   \n",
              "4             20.0               -1.0              1020.0           250.0   \n",
              "\n",
              "   wind_speed  \n",
              "0         0.0  \n",
              "1         1.5  \n",
              "2         0.0  \n",
              "3         0.0  \n",
              "4         2.6  "
            ],
            "text/html": [
              "<div>\n",
              "<style scoped>\n",
              "    .dataframe tbody tr th:only-of-type {\n",
              "        vertical-align: middle;\n",
              "    }\n",
              "\n",
              "    .dataframe tbody tr th {\n",
              "        vertical-align: top;\n",
              "    }\n",
              "\n",
              "    .dataframe thead th {\n",
              "        text-align: right;\n",
              "    }\n",
              "</style>\n",
              "<table border=\"1\" class=\"dataframe\">\n",
              "  <thead>\n",
              "    <tr style=\"text-align: right;\">\n",
              "      <th></th>\n",
              "      <th>site_id</th>\n",
              "      <th>timestamp</th>\n",
              "      <th>air_temperature</th>\n",
              "      <th>cloud_coverage</th>\n",
              "      <th>dew_temperature</th>\n",
              "      <th>precip_depth_1_hr</th>\n",
              "      <th>sea_level_pressure</th>\n",
              "      <th>wind_direction</th>\n",
              "      <th>wind_speed</th>\n",
              "    </tr>\n",
              "  </thead>\n",
              "  <tbody>\n",
              "    <tr>\n",
              "      <th>0</th>\n",
              "      <td>0</td>\n",
              "      <td>2016-01-01 00:00:00</td>\n",
              "      <td>25.0</td>\n",
              "      <td>6.0</td>\n",
              "      <td>20.0</td>\n",
              "      <td>NaN</td>\n",
              "      <td>1019.7</td>\n",
              "      <td>0.0</td>\n",
              "      <td>0.0</td>\n",
              "    </tr>\n",
              "    <tr>\n",
              "      <th>1</th>\n",
              "      <td>0</td>\n",
              "      <td>2016-01-01 01:00:00</td>\n",
              "      <td>24.4</td>\n",
              "      <td>NaN</td>\n",
              "      <td>21.1</td>\n",
              "      <td>-1.0</td>\n",
              "      <td>1020.2</td>\n",
              "      <td>70.0</td>\n",
              "      <td>1.5</td>\n",
              "    </tr>\n",
              "    <tr>\n",
              "      <th>2</th>\n",
              "      <td>0</td>\n",
              "      <td>2016-01-01 02:00:00</td>\n",
              "      <td>22.8</td>\n",
              "      <td>2.0</td>\n",
              "      <td>21.1</td>\n",
              "      <td>0.0</td>\n",
              "      <td>1020.2</td>\n",
              "      <td>0.0</td>\n",
              "      <td>0.0</td>\n",
              "    </tr>\n",
              "    <tr>\n",
              "      <th>3</th>\n",
              "      <td>0</td>\n",
              "      <td>2016-01-01 03:00:00</td>\n",
              "      <td>21.1</td>\n",
              "      <td>2.0</td>\n",
              "      <td>20.6</td>\n",
              "      <td>0.0</td>\n",
              "      <td>1020.1</td>\n",
              "      <td>0.0</td>\n",
              "      <td>0.0</td>\n",
              "    </tr>\n",
              "    <tr>\n",
              "      <th>4</th>\n",
              "      <td>0</td>\n",
              "      <td>2016-01-01 04:00:00</td>\n",
              "      <td>20.0</td>\n",
              "      <td>2.0</td>\n",
              "      <td>20.0</td>\n",
              "      <td>-1.0</td>\n",
              "      <td>1020.0</td>\n",
              "      <td>250.0</td>\n",
              "      <td>2.6</td>\n",
              "    </tr>\n",
              "  </tbody>\n",
              "</table>\n",
              "</div>"
            ]
          },
          "metadata": {
            "tags": []
          },
          "execution_count": 58
        }
      ]
    },
    {
      "cell_type": "code",
      "metadata": {
        "trusted": true,
        "id": "7_AAmSc0Us_S",
        "colab_type": "code",
        "colab": {},
        "outputId": "ddcff986-96d5-4a3b-c95b-f5a4fbcf466b"
      },
      "source": [
        "fig = weather['site_id'].plot.hist()"
      ],
      "execution_count": 0,
      "outputs": [
        {
          "output_type": "display_data",
          "data": {
            "text/plain": [
              "<Figure size 432x288 with 1 Axes>"
            ],
            "image/png": "[encoded data removed]"
          },
          "metadata": {
            "tags": [],
            "needs_background": "light"
          }
        }
      ]
    },
    {
      "cell_type": "code",
      "metadata": {
        "trusted": true,
        "id": "7vF-US1gUs_U",
        "colab_type": "code",
        "colab": {},
        "outputId": "56b8a4ea-f674-4dcc-cbd8-c1f13eae0955"
      },
      "source": [
        "weather.shape"
      ],
      "execution_count": 0,
      "outputs": [
        {
          "output_type": "execute_result",
          "data": {
            "text/plain": [
              "(139773, 9)"
            ]
          },
          "metadata": {
            "tags": []
          },
          "execution_count": 60
        }
      ]
    },
    {
      "cell_type": "markdown",
      "metadata": {
        "id": "YhE-b1XuUs_Y",
        "colab_type": "raw"
      },
      "source": [
        "train.shape"
      ]
    },
    {
      "cell_type": "code",
      "metadata": {
        "trusted": true,
        "id": "2eQTbnTFUs_Z",
        "colab_type": "code",
        "colab": {},
        "outputId": "a558129b-595a-40c1-969c-f122b3c31822"
      },
      "source": [
        "train.shape"
      ],
      "execution_count": 0,
      "outputs": [
        {
          "output_type": "execute_result",
          "data": {
            "text/plain": [
              "(20216100, 4)"
            ]
          },
          "metadata": {
            "tags": []
          },
          "execution_count": 61
        }
      ]
    },
    {
      "cell_type": "code",
      "metadata": {
        "trusted": true,
        "id": "pHIvqaV_Us_c",
        "colab_type": "code",
        "colab": {},
        "outputId": "1a9e251e-b23c-40c3-8743-318edc80a089"
      },
      "source": [
        "meta.shape"
      ],
      "execution_count": 0,
      "outputs": [
        {
          "output_type": "execute_result",
          "data": {
            "text/plain": [
              "(1449, 10)"
            ]
          },
          "metadata": {
            "tags": []
          },
          "execution_count": 62
        }
      ]
    },
    {
      "cell_type": "code",
      "metadata": {
        "trusted": true,
        "id": "C-H9lQpHUs_h",
        "colab_type": "code",
        "colab": {},
        "outputId": "1cd41030-914c-4306-8be9-38e052448712"
      },
      "source": [
        "weather.head()"
      ],
      "execution_count": 0,
      "outputs": [
        {
          "output_type": "execute_result",
          "data": {
            "text/plain": [
              "   site_id           timestamp  air_temperature  cloud_coverage  \\\n",
              "0        0 2016-01-01 00:00:00             25.0             6.0   \n",
              "1        0 2016-01-01 01:00:00             24.4             NaN   \n",
              "2        0 2016-01-01 02:00:00             22.8             2.0   \n",
              "3        0 2016-01-01 03:00:00             21.1             2.0   \n",
              "4        0 2016-01-01 04:00:00             20.0             2.0   \n",
              "\n",
              "   dew_temperature  precip_depth_1_hr  sea_level_pressure  wind_direction  \\\n",
              "0             20.0                NaN              1019.7             0.0   \n",
              "1             21.1               -1.0              1020.2            70.0   \n",
              "2             21.1                0.0              1020.2             0.0   \n",
              "3             20.6                0.0              1020.1             0.0   \n",
              "4             20.0               -1.0              1020.0           250.0   \n",
              "\n",
              "   wind_speed  \n",
              "0         0.0  \n",
              "1         1.5  \n",
              "2         0.0  \n",
              "3         0.0  \n",
              "4         2.6  "
            ],
            "text/html": [
              "<div>\n",
              "<style scoped>\n",
              "    .dataframe tbody tr th:only-of-type {\n",
              "        vertical-align: middle;\n",
              "    }\n",
              "\n",
              "    .dataframe tbody tr th {\n",
              "        vertical-align: top;\n",
              "    }\n",
              "\n",
              "    .dataframe thead th {\n",
              "        text-align: right;\n",
              "    }\n",
              "</style>\n",
              "<table border=\"1\" class=\"dataframe\">\n",
              "  <thead>\n",
              "    <tr style=\"text-align: right;\">\n",
              "      <th></th>\n",
              "      <th>site_id</th>\n",
              "      <th>timestamp</th>\n",
              "      <th>air_temperature</th>\n",
              "      <th>cloud_coverage</th>\n",
              "      <th>dew_temperature</th>\n",
              "      <th>precip_depth_1_hr</th>\n",
              "      <th>sea_level_pressure</th>\n",
              "      <th>wind_direction</th>\n",
              "      <th>wind_speed</th>\n",
              "    </tr>\n",
              "  </thead>\n",
              "  <tbody>\n",
              "    <tr>\n",
              "      <th>0</th>\n",
              "      <td>0</td>\n",
              "      <td>2016-01-01 00:00:00</td>\n",
              "      <td>25.0</td>\n",
              "      <td>6.0</td>\n",
              "      <td>20.0</td>\n",
              "      <td>NaN</td>\n",
              "      <td>1019.7</td>\n",
              "      <td>0.0</td>\n",
              "      <td>0.0</td>\n",
              "    </tr>\n",
              "    <tr>\n",
              "      <th>1</th>\n",
              "      <td>0</td>\n",
              "      <td>2016-01-01 01:00:00</td>\n",
              "      <td>24.4</td>\n",
              "      <td>NaN</td>\n",
              "      <td>21.1</td>\n",
              "      <td>-1.0</td>\n",
              "      <td>1020.2</td>\n",
              "      <td>70.0</td>\n",
              "      <td>1.5</td>\n",
              "    </tr>\n",
              "    <tr>\n",
              "      <th>2</th>\n",
              "      <td>0</td>\n",
              "      <td>2016-01-01 02:00:00</td>\n",
              "      <td>22.8</td>\n",
              "      <td>2.0</td>\n",
              "      <td>21.1</td>\n",
              "      <td>0.0</td>\n",
              "      <td>1020.2</td>\n",
              "      <td>0.0</td>\n",
              "      <td>0.0</td>\n",
              "    </tr>\n",
              "    <tr>\n",
              "      <th>3</th>\n",
              "      <td>0</td>\n",
              "      <td>2016-01-01 03:00:00</td>\n",
              "      <td>21.1</td>\n",
              "      <td>2.0</td>\n",
              "      <td>20.6</td>\n",
              "      <td>0.0</td>\n",
              "      <td>1020.1</td>\n",
              "      <td>0.0</td>\n",
              "      <td>0.0</td>\n",
              "    </tr>\n",
              "    <tr>\n",
              "      <th>4</th>\n",
              "      <td>0</td>\n",
              "      <td>2016-01-01 04:00:00</td>\n",
              "      <td>20.0</td>\n",
              "      <td>2.0</td>\n",
              "      <td>20.0</td>\n",
              "      <td>-1.0</td>\n",
              "      <td>1020.0</td>\n",
              "      <td>250.0</td>\n",
              "      <td>2.6</td>\n",
              "    </tr>\n",
              "  </tbody>\n",
              "</table>\n",
              "</div>"
            ]
          },
          "metadata": {
            "tags": []
          },
          "execution_count": 63
        }
      ]
    },
    {
      "cell_type": "code",
      "metadata": {
        "trusted": true,
        "id": "NvExeaQWUs_l",
        "colab_type": "code",
        "colab": {},
        "outputId": "a7a76ae7-8213-4dde-f0c9-130cdce8b959"
      },
      "source": [
        "weather.air_temperature.isnull().sum()"
      ],
      "execution_count": 0,
      "outputs": [
        {
          "output_type": "execute_result",
          "data": {
            "text/plain": [
              "55"
            ]
          },
          "metadata": {
            "tags": []
          },
          "execution_count": 64
        }
      ]
    },
    {
      "cell_type": "code",
      "metadata": {
        "trusted": true,
        "id": "178bS95iUs_o",
        "colab_type": "code",
        "colab": {},
        "outputId": "27195709-09af-4852-858e-698016e46c44"
      },
      "source": [
        "weather.cloud_coverage.isnull().sum()"
      ],
      "execution_count": 0,
      "outputs": [
        {
          "output_type": "execute_result",
          "data": {
            "text/plain": [
              "69173"
            ]
          },
          "metadata": {
            "tags": []
          },
          "execution_count": 65
        }
      ]
    },
    {
      "cell_type": "code",
      "metadata": {
        "trusted": true,
        "id": "ca2Su8PEUs_r",
        "colab_type": "code",
        "colab": {},
        "outputId": "43ae2278-a5e9-4388-cf7d-9f89adc29f4c"
      },
      "source": [
        "weather.dew_temperature.isnull().sum()"
      ],
      "execution_count": 0,
      "outputs": [
        {
          "output_type": "execute_result",
          "data": {
            "text/plain": [
              "113"
            ]
          },
          "metadata": {
            "tags": []
          },
          "execution_count": 66
        }
      ]
    },
    {
      "cell_type": "code",
      "metadata": {
        "trusted": true,
        "id": "SRsxnJXpUs_u",
        "colab_type": "code",
        "colab": {},
        "outputId": "8dbaae2e-be01-4125-cf2b-a47ef9e0f9e0"
      },
      "source": [
        "weather.precip_depth_1_hr.isnull().sum()"
      ],
      "execution_count": 0,
      "outputs": [
        {
          "output_type": "execute_result",
          "data": {
            "text/plain": [
              "50289"
            ]
          },
          "metadata": {
            "tags": []
          },
          "execution_count": 67
        }
      ]
    },
    {
      "cell_type": "code",
      "metadata": {
        "trusted": true,
        "id": "WoA4GYqcUs_0",
        "colab_type": "code",
        "colab": {},
        "outputId": "27b38d77-1500-493a-c576-7607cb3fc648"
      },
      "source": [
        "weather.wind_direction.isnull().sum()"
      ],
      "execution_count": 0,
      "outputs": [
        {
          "output_type": "execute_result",
          "data": {
            "text/plain": [
              "6268"
            ]
          },
          "metadata": {
            "tags": []
          },
          "execution_count": 68
        }
      ]
    },
    {
      "cell_type": "code",
      "metadata": {
        "trusted": true,
        "id": "mdeggHhVUs_2",
        "colab_type": "code",
        "colab": {},
        "outputId": "19bd4b0b-6bd6-4548-8049-c17d1fdb2ef6"
      },
      "source": [
        "weather.wind_speed.isnull().sum()"
      ],
      "execution_count": 0,
      "outputs": [
        {
          "output_type": "execute_result",
          "data": {
            "text/plain": [
              "304"
            ]
          },
          "metadata": {
            "tags": []
          },
          "execution_count": 69
        }
      ]
    },
    {
      "cell_type": "markdown",
      "metadata": {
        "id": "Ytgq_d7IUs_4",
        "colab_type": "text"
      },
      "source": [
        "# air_temperature"
      ]
    },
    {
      "cell_type": "code",
      "metadata": {
        "trusted": true,
        "id": "hV0I7aanUs_5",
        "colab_type": "code",
        "colab": {},
        "outputId": "def3dfd9-e6c1-4209-b17e-5c3169d0a169"
      },
      "source": [
        "weather.air_temperature.isnull().sum()"
      ],
      "execution_count": 0,
      "outputs": [
        {
          "output_type": "execute_result",
          "data": {
            "text/plain": [
              "55"
            ]
          },
          "metadata": {
            "tags": []
          },
          "execution_count": 70
        }
      ]
    },
    {
      "cell_type": "code",
      "metadata": {
        "trusted": true,
        "id": "SyvE0EYPUs_8",
        "colab_type": "code",
        "colab": {}
      },
      "source": [
        "weather['air_temperature'] = weather['air_temperature'].replace(np.nan, weather.air_temperature.mean())"
      ],
      "execution_count": 0,
      "outputs": []
    },
    {
      "cell_type": "code",
      "metadata": {
        "trusted": true,
        "id": "26GqzG2_Us_9",
        "colab_type": "code",
        "colab": {},
        "outputId": "52ae2e92-9d2e-47c1-9a6a-86aa0c076862"
      },
      "source": [
        "fig = weather['air_temperature'].plot.hist()"
      ],
      "execution_count": 0,
      "outputs": [
        {
          "output_type": "display_data",
          "data": {
            "text/plain": [
              "<Figure size 432x288 with 1 Axes>"
            ],
            "image/png": "[encoded data removed]"
          },
          "metadata": {
            "tags": [],
            "needs_background": "light"
          }
        }
      ]
    },
    {
      "cell_type": "code",
      "metadata": {
        "trusted": true,
        "id": "3wS9FO06UtAB",
        "colab_type": "code",
        "colab": {}
      },
      "source": [
        "air_temperature = (weather.air_temperature-weather.air_temperature.min())/(weather.air_temperature.max()-weather.air_temperature.min())"
      ],
      "execution_count": 0,
      "outputs": []
    },
    {
      "cell_type": "code",
      "metadata": {
        "trusted": true,
        "id": "zcFNB8V-UtAD",
        "colab_type": "code",
        "colab": {}
      },
      "source": [
        "weather.air_temperature = air_temperature"
      ],
      "execution_count": 0,
      "outputs": []
    },
    {
      "cell_type": "code",
      "metadata": {
        "trusted": true,
        "id": "BGZKGKLfUtAF",
        "colab_type": "code",
        "colab": {},
        "outputId": "0c1bfd02-3f1f-400a-9163-1e77da7103ae"
      },
      "source": [
        "weather.head()"
      ],
      "execution_count": 0,
      "outputs": [
        {
          "output_type": "execute_result",
          "data": {
            "text/plain": [
              "   site_id           timestamp  air_temperature  cloud_coverage  \\\n",
              "0        0 2016-01-01 00:00:00         0.708279             6.0   \n",
              "1        0 2016-01-01 01:00:00         0.700394             NaN   \n",
              "2        0 2016-01-01 02:00:00         0.679369             2.0   \n",
              "3        0 2016-01-01 03:00:00         0.657030             2.0   \n",
              "4        0 2016-01-01 04:00:00         0.642576             2.0   \n",
              "\n",
              "   dew_temperature  precip_depth_1_hr  sea_level_pressure  wind_direction  \\\n",
              "0             20.0                NaN              1019.7             0.0   \n",
              "1             21.1               -1.0              1020.2            70.0   \n",
              "2             21.1                0.0              1020.2             0.0   \n",
              "3             20.6                0.0              1020.1             0.0   \n",
              "4             20.0               -1.0              1020.0           250.0   \n",
              "\n",
              "   wind_speed  \n",
              "0         0.0  \n",
              "1         1.5  \n",
              "2         0.0  \n",
              "3         0.0  \n",
              "4         2.6  "
            ],
            "text/html": [
              "<div>\n",
              "<style scoped>\n",
              "    .dataframe tbody tr th:only-of-type {\n",
              "        vertical-align: middle;\n",
              "    }\n",
              "\n",
              "    .dataframe tbody tr th {\n",
              "        vertical-align: top;\n",
              "    }\n",
              "\n",
              "    .dataframe thead th {\n",
              "        text-align: right;\n",
              "    }\n",
              "</style>\n",
              "<table border=\"1\" class=\"dataframe\">\n",
              "  <thead>\n",
              "    <tr style=\"text-align: right;\">\n",
              "      <th></th>\n",
              "      <th>site_id</th>\n",
              "      <th>timestamp</th>\n",
              "      <th>air_temperature</th>\n",
              "      <th>cloud_coverage</th>\n",
              "      <th>dew_temperature</th>\n",
              "      <th>precip_depth_1_hr</th>\n",
              "      <th>sea_level_pressure</th>\n",
              "      <th>wind_direction</th>\n",
              "      <th>wind_speed</th>\n",
              "    </tr>\n",
              "  </thead>\n",
              "  <tbody>\n",
              "    <tr>\n",
              "      <th>0</th>\n",
              "      <td>0</td>\n",
              "      <td>2016-01-01 00:00:00</td>\n",
              "      <td>0.708279</td>\n",
              "      <td>6.0</td>\n",
              "      <td>20.0</td>\n",
              "      <td>NaN</td>\n",
              "      <td>1019.7</td>\n",
              "      <td>0.0</td>\n",
              "      <td>0.0</td>\n",
              "    </tr>\n",
              "    <tr>\n",
              "      <th>1</th>\n",
              "      <td>0</td>\n",
              "      <td>2016-01-01 01:00:00</td>\n",
              "      <td>0.700394</td>\n",
              "      <td>NaN</td>\n",
              "      <td>21.1</td>\n",
              "      <td>-1.0</td>\n",
              "      <td>1020.2</td>\n",
              "      <td>70.0</td>\n",
              "      <td>1.5</td>\n",
              "    </tr>\n",
              "    <tr>\n",
              "      <th>2</th>\n",
              "      <td>0</td>\n",
              "      <td>2016-01-01 02:00:00</td>\n",
              "      <td>0.679369</td>\n",
              "      <td>2.0</td>\n",
              "      <td>21.1</td>\n",
              "      <td>0.0</td>\n",
              "      <td>1020.2</td>\n",
              "      <td>0.0</td>\n",
              "      <td>0.0</td>\n",
              "    </tr>\n",
              "    <tr>\n",
              "      <th>3</th>\n",
              "      <td>0</td>\n",
              "      <td>2016-01-01 03:00:00</td>\n",
              "      <td>0.657030</td>\n",
              "      <td>2.0</td>\n",
              "      <td>20.6</td>\n",
              "      <td>0.0</td>\n",
              "      <td>1020.1</td>\n",
              "      <td>0.0</td>\n",
              "      <td>0.0</td>\n",
              "    </tr>\n",
              "    <tr>\n",
              "      <th>4</th>\n",
              "      <td>0</td>\n",
              "      <td>2016-01-01 04:00:00</td>\n",
              "      <td>0.642576</td>\n",
              "      <td>2.0</td>\n",
              "      <td>20.0</td>\n",
              "      <td>-1.0</td>\n",
              "      <td>1020.0</td>\n",
              "      <td>250.0</td>\n",
              "      <td>2.6</td>\n",
              "    </tr>\n",
              "  </tbody>\n",
              "</table>\n",
              "</div>"
            ]
          },
          "metadata": {
            "tags": []
          },
          "execution_count": 75
        }
      ]
    },
    {
      "cell_type": "markdown",
      "metadata": {
        "id": "fauf4iwFUtAN",
        "colab_type": "text"
      },
      "source": [
        "# cloud_coverage"
      ]
    },
    {
      "cell_type": "code",
      "metadata": {
        "trusted": true,
        "id": "zYnoG_PzUtAN",
        "colab_type": "code",
        "colab": {},
        "outputId": "019cdf49-86a5-452a-cb23-3c49fe05d223"
      },
      "source": [
        "weather.cloud_coverage.isnull().sum()"
      ],
      "execution_count": 0,
      "outputs": [
        {
          "output_type": "execute_result",
          "data": {
            "text/plain": [
              "69173"
            ]
          },
          "metadata": {
            "tags": []
          },
          "execution_count": 76
        }
      ]
    },
    {
      "cell_type": "code",
      "metadata": {
        "trusted": true,
        "id": "laGqDU33UtAP",
        "colab_type": "code",
        "colab": {},
        "outputId": "3d6160aa-bcc9-4b32-d1cd-b92fe6141699"
      },
      "source": [
        "weather.shape"
      ],
      "execution_count": 0,
      "outputs": [
        {
          "output_type": "execute_result",
          "data": {
            "text/plain": [
              "(139773, 9)"
            ]
          },
          "metadata": {
            "tags": []
          },
          "execution_count": 77
        }
      ]
    },
    {
      "cell_type": "code",
      "metadata": {
        "trusted": true,
        "id": "CjDMdO08UtAR",
        "colab_type": "code",
        "colab": {}
      },
      "source": [
        "weather.drop(\"cloud_coverage\",axis=1,inplace=True)"
      ],
      "execution_count": 0,
      "outputs": []
    },
    {
      "cell_type": "code",
      "metadata": {
        "trusted": true,
        "id": "Vnr3fpJMUtAT",
        "colab_type": "code",
        "colab": {},
        "outputId": "869c8661-0784-44ab-efea-ceab712e2534"
      },
      "source": [
        "weather.head()"
      ],
      "execution_count": 0,
      "outputs": [
        {
          "output_type": "execute_result",
          "data": {
            "text/plain": [
              "   site_id           timestamp  air_temperature  dew_temperature  \\\n",
              "0        0 2016-01-01 00:00:00         0.708279             20.0   \n",
              "1        0 2016-01-01 01:00:00         0.700394             21.1   \n",
              "2        0 2016-01-01 02:00:00         0.679369             21.1   \n",
              "3        0 2016-01-01 03:00:00         0.657030             20.6   \n",
              "4        0 2016-01-01 04:00:00         0.642576             20.0   \n",
              "\n",
              "   precip_depth_1_hr  sea_level_pressure  wind_direction  wind_speed  \n",
              "0                NaN              1019.7             0.0         0.0  \n",
              "1               -1.0              1020.2            70.0         1.5  \n",
              "2                0.0              1020.2             0.0         0.0  \n",
              "3                0.0              1020.1             0.0         0.0  \n",
              "4               -1.0              1020.0           250.0         2.6  "
            ],
            "text/html": [
              "<div>\n",
              "<style scoped>\n",
              "    .dataframe tbody tr th:only-of-type {\n",
              "        vertical-align: middle;\n",
              "    }\n",
              "\n",
              "    .dataframe tbody tr th {\n",
              "        vertical-align: top;\n",
              "    }\n",
              "\n",
              "    .dataframe thead th {\n",
              "        text-align: right;\n",
              "    }\n",
              "</style>\n",
              "<table border=\"1\" class=\"dataframe\">\n",
              "  <thead>\n",
              "    <tr style=\"text-align: right;\">\n",
              "      <th></th>\n",
              "      <th>site_id</th>\n",
              "      <th>timestamp</th>\n",
              "      <th>air_temperature</th>\n",
              "      <th>dew_temperature</th>\n",
              "      <th>precip_depth_1_hr</th>\n",
              "      <th>sea_level_pressure</th>\n",
              "      <th>wind_direction</th>\n",
              "      <th>wind_speed</th>\n",
              "    </tr>\n",
              "  </thead>\n",
              "  <tbody>\n",
              "    <tr>\n",
              "      <th>0</th>\n",
              "      <td>0</td>\n",
              "      <td>2016-01-01 00:00:00</td>\n",
              "      <td>0.708279</td>\n",
              "      <td>20.0</td>\n",
              "      <td>NaN</td>\n",
              "      <td>1019.7</td>\n",
              "      <td>0.0</td>\n",
              "      <td>0.0</td>\n",
              "    </tr>\n",
              "    <tr>\n",
              "      <th>1</th>\n",
              "      <td>0</td>\n",
              "      <td>2016-01-01 01:00:00</td>\n",
              "      <td>0.700394</td>\n",
              "      <td>21.1</td>\n",
              "      <td>-1.0</td>\n",
              "      <td>1020.2</td>\n",
              "      <td>70.0</td>\n",
              "      <td>1.5</td>\n",
              "    </tr>\n",
              "    <tr>\n",
              "      <th>2</th>\n",
              "      <td>0</td>\n",
              "      <td>2016-01-01 02:00:00</td>\n",
              "      <td>0.679369</td>\n",
              "      <td>21.1</td>\n",
              "      <td>0.0</td>\n",
              "      <td>1020.2</td>\n",
              "      <td>0.0</td>\n",
              "      <td>0.0</td>\n",
              "    </tr>\n",
              "    <tr>\n",
              "      <th>3</th>\n",
              "      <td>0</td>\n",
              "      <td>2016-01-01 03:00:00</td>\n",
              "      <td>0.657030</td>\n",
              "      <td>20.6</td>\n",
              "      <td>0.0</td>\n",
              "      <td>1020.1</td>\n",
              "      <td>0.0</td>\n",
              "      <td>0.0</td>\n",
              "    </tr>\n",
              "    <tr>\n",
              "      <th>4</th>\n",
              "      <td>0</td>\n",
              "      <td>2016-01-01 04:00:00</td>\n",
              "      <td>0.642576</td>\n",
              "      <td>20.0</td>\n",
              "      <td>-1.0</td>\n",
              "      <td>1020.0</td>\n",
              "      <td>250.0</td>\n",
              "      <td>2.6</td>\n",
              "    </tr>\n",
              "  </tbody>\n",
              "</table>\n",
              "</div>"
            ]
          },
          "metadata": {
            "tags": []
          },
          "execution_count": 79
        }
      ]
    },
    {
      "cell_type": "markdown",
      "metadata": {
        "id": "moxZlzboUtAV",
        "colab_type": "text"
      },
      "source": [
        "\n",
        "# dew_temperature"
      ]
    },
    {
      "cell_type": "code",
      "metadata": {
        "trusted": true,
        "id": "d1uxfvzDUtAW",
        "colab_type": "code",
        "colab": {},
        "outputId": "13477054-272f-4416-8ab3-a9064e016c85"
      },
      "source": [
        "weather.dew_temperature.isnull().sum()"
      ],
      "execution_count": 0,
      "outputs": [
        {
          "output_type": "execute_result",
          "data": {
            "text/plain": [
              "113"
            ]
          },
          "metadata": {
            "tags": []
          },
          "execution_count": 80
        }
      ]
    },
    {
      "cell_type": "code",
      "metadata": {
        "trusted": true,
        "id": "AB_7Xv_2UtAc",
        "colab_type": "code",
        "colab": {}
      },
      "source": [
        "weather['dew_temperature'] = weather['dew_temperature'].replace(np.nan, weather.dew_temperature.mean())"
      ],
      "execution_count": 0,
      "outputs": []
    },
    {
      "cell_type": "code",
      "metadata": {
        "trusted": true,
        "id": "uHhRLpD1UtAe",
        "colab_type": "code",
        "colab": {},
        "outputId": "f0fddff5-f3cb-426b-fcb5-762c72e9b0d0"
      },
      "source": [
        "weather.dew_temperature.isnull().sum()"
      ],
      "execution_count": 0,
      "outputs": [
        {
          "output_type": "execute_result",
          "data": {
            "text/plain": [
              "0"
            ]
          },
          "metadata": {
            "tags": []
          },
          "execution_count": 82
        }
      ]
    },
    {
      "cell_type": "code",
      "metadata": {
        "trusted": true,
        "id": "8aZxpLj2UtAg",
        "colab_type": "code",
        "colab": {},
        "outputId": "9971c21e-3ca3-4542-ff07-ceab3b2c71b5"
      },
      "source": [
        "fig = weather['dew_temperature'].plot.hist()"
      ],
      "execution_count": 0,
      "outputs": [
        {
          "output_type": "display_data",
          "data": {
            "text/plain": [
              "<Figure size 432x288 with 1 Axes>"
            ],
            "image/png": "[encoded data removed]"
          },
          "metadata": {
            "tags": [],
            "needs_background": "light"
          }
        }
      ]
    },
    {
      "cell_type": "code",
      "metadata": {
        "trusted": true,
        "id": "-vdtLiG7UtAi",
        "colab_type": "code",
        "colab": {}
      },
      "source": [
        ""
      ],
      "execution_count": 0,
      "outputs": []
    },
    {
      "cell_type": "code",
      "metadata": {
        "trusted": true,
        "id": "8e-0UPr4UtAk",
        "colab_type": "code",
        "colab": {}
      },
      "source": [
        "dew_temperature = (weather.dew_temperature-weather.dew_temperature.min())/(weather.dew_temperature.max()-weather.dew_temperature.min())"
      ],
      "execution_count": 0,
      "outputs": []
    },
    {
      "cell_type": "code",
      "metadata": {
        "trusted": true,
        "id": "V7x3w9AjUtAn",
        "colab_type": "code",
        "colab": {}
      },
      "source": [
        "weather.dew_temperature=dew_temperature"
      ],
      "execution_count": 0,
      "outputs": []
    },
    {
      "cell_type": "code",
      "metadata": {
        "trusted": true,
        "id": "B-jurQsBUtAp",
        "colab_type": "code",
        "colab": {},
        "outputId": "e0cd83df-da74-4b39-b930-8773e73fd7b6"
      },
      "source": [
        "weather.head()"
      ],
      "execution_count": 0,
      "outputs": [
        {
          "output_type": "execute_result",
          "data": {
            "text/plain": [
              "   site_id           timestamp  air_temperature  dew_temperature  \\\n",
              "0        0 2016-01-01 00:00:00         0.708279         0.900164   \n",
              "1        0 2016-01-01 01:00:00         0.700394         0.918167   \n",
              "2        0 2016-01-01 02:00:00         0.679369         0.918167   \n",
              "3        0 2016-01-01 03:00:00         0.657030         0.909984   \n",
              "4        0 2016-01-01 04:00:00         0.642576         0.900164   \n",
              "\n",
              "   precip_depth_1_hr  sea_level_pressure  wind_direction  wind_speed  \n",
              "0                NaN              1019.7             0.0         0.0  \n",
              "1               -1.0              1020.2            70.0         1.5  \n",
              "2                0.0              1020.2             0.0         0.0  \n",
              "3                0.0              1020.1             0.0         0.0  \n",
              "4               -1.0              1020.0           250.0         2.6  "
            ],
            "text/html": [
              "<div>\n",
              "<style scoped>\n",
              "    .dataframe tbody tr th:only-of-type {\n",
              "        vertical-align: middle;\n",
              "    }\n",
              "\n",
              "    .dataframe tbody tr th {\n",
              "        vertical-align: top;\n",
              "    }\n",
              "\n",
              "    .dataframe thead th {\n",
              "        text-align: right;\n",
              "    }\n",
              "</style>\n",
              "<table border=\"1\" class=\"dataframe\">\n",
              "  <thead>\n",
              "    <tr style=\"text-align: right;\">\n",
              "      <th></th>\n",
              "      <th>site_id</th>\n",
              "      <th>timestamp</th>\n",
              "      <th>air_temperature</th>\n",
              "      <th>dew_temperature</th>\n",
              "      <th>precip_depth_1_hr</th>\n",
              "      <th>sea_level_pressure</th>\n",
              "      <th>wind_direction</th>\n",
              "      <th>wind_speed</th>\n",
              "    </tr>\n",
              "  </thead>\n",
              "  <tbody>\n",
              "    <tr>\n",
              "      <th>0</th>\n",
              "      <td>0</td>\n",
              "      <td>2016-01-01 00:00:00</td>\n",
              "      <td>0.708279</td>\n",
              "      <td>0.900164</td>\n",
              "      <td>NaN</td>\n",
              "      <td>1019.7</td>\n",
              "      <td>0.0</td>\n",
              "      <td>0.0</td>\n",
              "    </tr>\n",
              "    <tr>\n",
              "      <th>1</th>\n",
              "      <td>0</td>\n",
              "      <td>2016-01-01 01:00:00</td>\n",
              "      <td>0.700394</td>\n",
              "      <td>0.918167</td>\n",
              "      <td>-1.0</td>\n",
              "      <td>1020.2</td>\n",
              "      <td>70.0</td>\n",
              "      <td>1.5</td>\n",
              "    </tr>\n",
              "    <tr>\n",
              "      <th>2</th>\n",
              "      <td>0</td>\n",
              "      <td>2016-01-01 02:00:00</td>\n",
              "      <td>0.679369</td>\n",
              "      <td>0.918167</td>\n",
              "      <td>0.0</td>\n",
              "      <td>1020.2</td>\n",
              "      <td>0.0</td>\n",
              "      <td>0.0</td>\n",
              "    </tr>\n",
              "    <tr>\n",
              "      <th>3</th>\n",
              "      <td>0</td>\n",
              "      <td>2016-01-01 03:00:00</td>\n",
              "      <td>0.657030</td>\n",
              "      <td>0.909984</td>\n",
              "      <td>0.0</td>\n",
              "      <td>1020.1</td>\n",
              "      <td>0.0</td>\n",
              "      <td>0.0</td>\n",
              "    </tr>\n",
              "    <tr>\n",
              "      <th>4</th>\n",
              "      <td>0</td>\n",
              "      <td>2016-01-01 04:00:00</td>\n",
              "      <td>0.642576</td>\n",
              "      <td>0.900164</td>\n",
              "      <td>-1.0</td>\n",
              "      <td>1020.0</td>\n",
              "      <td>250.0</td>\n",
              "      <td>2.6</td>\n",
              "    </tr>\n",
              "  </tbody>\n",
              "</table>\n",
              "</div>"
            ]
          },
          "metadata": {
            "tags": []
          },
          "execution_count": 86
        }
      ]
    },
    {
      "cell_type": "code",
      "metadata": {
        "trusted": true,
        "id": "h252cKhoUtAr",
        "colab_type": "code",
        "colab": {}
      },
      "source": [
        ""
      ],
      "execution_count": 0,
      "outputs": []
    },
    {
      "cell_type": "markdown",
      "metadata": {
        "id": "sG4sFECyUtAs",
        "colab_type": "text"
      },
      "source": [
        "# precip_depth_1_hr"
      ]
    },
    {
      "cell_type": "code",
      "metadata": {
        "trusted": true,
        "id": "Rggp9mQMUtAt",
        "colab_type": "code",
        "colab": {},
        "outputId": "8a0fd0e1-178b-4e5b-e7de-411c175efe53"
      },
      "source": [
        "weather.precip_depth_1_hr.isnull().sum()"
      ],
      "execution_count": 0,
      "outputs": [
        {
          "output_type": "execute_result",
          "data": {
            "text/plain": [
              "50289"
            ]
          },
          "metadata": {
            "tags": []
          },
          "execution_count": 87
        }
      ]
    },
    {
      "cell_type": "code",
      "metadata": {
        "trusted": true,
        "id": "N2da4bB9UtA2",
        "colab_type": "code",
        "colab": {}
      },
      "source": [
        "weather.drop(\"precip_depth_1_hr\",axis=1,inplace=True)"
      ],
      "execution_count": 0,
      "outputs": []
    },
    {
      "cell_type": "code",
      "metadata": {
        "trusted": true,
        "id": "Ef3YXbVKUtA6",
        "colab_type": "code",
        "colab": {},
        "outputId": "44d02fb3-47cd-4841-8748-6e033ef1270f"
      },
      "source": [
        "weather.head()"
      ],
      "execution_count": 0,
      "outputs": [
        {
          "output_type": "execute_result",
          "data": {
            "text/plain": [
              "   site_id           timestamp  air_temperature  dew_temperature  \\\n",
              "0        0 2016-01-01 00:00:00         0.708279         0.900164   \n",
              "1        0 2016-01-01 01:00:00         0.700394         0.918167   \n",
              "2        0 2016-01-01 02:00:00         0.679369         0.918167   \n",
              "3        0 2016-01-01 03:00:00         0.657030         0.909984   \n",
              "4        0 2016-01-01 04:00:00         0.642576         0.900164   \n",
              "\n",
              "   sea_level_pressure  wind_direction  wind_speed  \n",
              "0              1019.7             0.0         0.0  \n",
              "1              1020.2            70.0         1.5  \n",
              "2              1020.2             0.0         0.0  \n",
              "3              1020.1             0.0         0.0  \n",
              "4              1020.0           250.0         2.6  "
            ],
            "text/html": [
              "<div>\n",
              "<style scoped>\n",
              "    .dataframe tbody tr th:only-of-type {\n",
              "        vertical-align: middle;\n",
              "    }\n",
              "\n",
              "    .dataframe tbody tr th {\n",
              "        vertical-align: top;\n",
              "    }\n",
              "\n",
              "    .dataframe thead th {\n",
              "        text-align: right;\n",
              "    }\n",
              "</style>\n",
              "<table border=\"1\" class=\"dataframe\">\n",
              "  <thead>\n",
              "    <tr style=\"text-align: right;\">\n",
              "      <th></th>\n",
              "      <th>site_id</th>\n",
              "      <th>timestamp</th>\n",
              "      <th>air_temperature</th>\n",
              "      <th>dew_temperature</th>\n",
              "      <th>sea_level_pressure</th>\n",
              "      <th>wind_direction</th>\n",
              "      <th>wind_speed</th>\n",
              "    </tr>\n",
              "  </thead>\n",
              "  <tbody>\n",
              "    <tr>\n",
              "      <th>0</th>\n",
              "      <td>0</td>\n",
              "      <td>2016-01-01 00:00:00</td>\n",
              "      <td>0.708279</td>\n",
              "      <td>0.900164</td>\n",
              "      <td>1019.7</td>\n",
              "      <td>0.0</td>\n",
              "      <td>0.0</td>\n",
              "    </tr>\n",
              "    <tr>\n",
              "      <th>1</th>\n",
              "      <td>0</td>\n",
              "      <td>2016-01-01 01:00:00</td>\n",
              "      <td>0.700394</td>\n",
              "      <td>0.918167</td>\n",
              "      <td>1020.2</td>\n",
              "      <td>70.0</td>\n",
              "      <td>1.5</td>\n",
              "    </tr>\n",
              "    <tr>\n",
              "      <th>2</th>\n",
              "      <td>0</td>\n",
              "      <td>2016-01-01 02:00:00</td>\n",
              "      <td>0.679369</td>\n",
              "      <td>0.918167</td>\n",
              "      <td>1020.2</td>\n",
              "      <td>0.0</td>\n",
              "      <td>0.0</td>\n",
              "    </tr>\n",
              "    <tr>\n",
              "      <th>3</th>\n",
              "      <td>0</td>\n",
              "      <td>2016-01-01 03:00:00</td>\n",
              "      <td>0.657030</td>\n",
              "      <td>0.909984</td>\n",
              "      <td>1020.1</td>\n",
              "      <td>0.0</td>\n",
              "      <td>0.0</td>\n",
              "    </tr>\n",
              "    <tr>\n",
              "      <th>4</th>\n",
              "      <td>0</td>\n",
              "      <td>2016-01-01 04:00:00</td>\n",
              "      <td>0.642576</td>\n",
              "      <td>0.900164</td>\n",
              "      <td>1020.0</td>\n",
              "      <td>250.0</td>\n",
              "      <td>2.6</td>\n",
              "    </tr>\n",
              "  </tbody>\n",
              "</table>\n",
              "</div>"
            ]
          },
          "metadata": {
            "tags": []
          },
          "execution_count": 89
        }
      ]
    },
    {
      "cell_type": "markdown",
      "metadata": {
        "id": "bplNjeUXUtA-",
        "colab_type": "text"
      },
      "source": [
        "# wind_direction"
      ]
    },
    {
      "cell_type": "code",
      "metadata": {
        "trusted": true,
        "id": "vcgqinZeUtA-",
        "colab_type": "code",
        "colab": {},
        "outputId": "57b3de7e-b44f-4e8c-b6d3-c8ea2cda63ef"
      },
      "source": [
        "weather.wind_direction.isnull().sum()"
      ],
      "execution_count": 0,
      "outputs": [
        {
          "output_type": "execute_result",
          "data": {
            "text/plain": [
              "6268"
            ]
          },
          "metadata": {
            "tags": []
          },
          "execution_count": 90
        }
      ]
    },
    {
      "cell_type": "code",
      "metadata": {
        "trusted": true,
        "id": "nWTXu25aUtBA",
        "colab_type": "code",
        "colab": {}
      },
      "source": [
        "weather['wind_direction'] = weather['wind_direction'].replace(np.nan, weather.wind_direction.mean())"
      ],
      "execution_count": 0,
      "outputs": []
    },
    {
      "cell_type": "code",
      "metadata": {
        "trusted": true,
        "id": "biZAcpdyUtBB",
        "colab_type": "code",
        "colab": {},
        "outputId": "19f761e6-79a8-4c15-e59a-f792952ee0cd"
      },
      "source": [
        "weather.wind_direction.isnull().sum()"
      ],
      "execution_count": 0,
      "outputs": [
        {
          "output_type": "execute_result",
          "data": {
            "text/plain": [
              "0"
            ]
          },
          "metadata": {
            "tags": []
          },
          "execution_count": 92
        }
      ]
    },
    {
      "cell_type": "code",
      "metadata": {
        "trusted": true,
        "id": "h4YTisgHUtBD",
        "colab_type": "code",
        "colab": {},
        "outputId": "3c988b14-2ad3-46e6-d22a-60ca8dc35338"
      },
      "source": [
        "fig = weather['wind_direction'].plot.hist()"
      ],
      "execution_count": 0,
      "outputs": [
        {
          "output_type": "display_data",
          "data": {
            "text/plain": [
              "<Figure size 432x288 with 1 Axes>"
            ],
            "image/png": "[encoded data removed]"
          },
          "metadata": {
            "tags": [],
            "needs_background": "light"
          }
        }
      ]
    },
    {
      "cell_type": "markdown",
      "metadata": {
        "id": "idyngl0PUtBE",
        "colab_type": "text"
      },
      "source": [
        "# wind_speed"
      ]
    },
    {
      "cell_type": "code",
      "metadata": {
        "trusted": true,
        "id": "oV3LOI8LUtBF",
        "colab_type": "code",
        "colab": {},
        "outputId": "8a91723b-f4c8-444e-f377-fd171fe5b00d"
      },
      "source": [
        "weather.wind_speed.isnull().sum()"
      ],
      "execution_count": 0,
      "outputs": [
        {
          "output_type": "execute_result",
          "data": {
            "text/plain": [
              "304"
            ]
          },
          "metadata": {
            "tags": []
          },
          "execution_count": 94
        }
      ]
    },
    {
      "cell_type": "code",
      "metadata": {
        "trusted": true,
        "id": "jG4CKTFFUtBH",
        "colab_type": "code",
        "colab": {}
      },
      "source": [
        "weather['wind_speed'] = weather['wind_speed'].replace(np.nan, weather.wind_speed.mean())"
      ],
      "execution_count": 0,
      "outputs": []
    },
    {
      "cell_type": "code",
      "metadata": {
        "trusted": true,
        "id": "ZSzupA6mUtBI",
        "colab_type": "code",
        "colab": {},
        "outputId": "3f1e1f0b-b071-4748-cf81-68a4805de52f"
      },
      "source": [
        "weather.wind_speed.isnull().sum()"
      ],
      "execution_count": 0,
      "outputs": [
        {
          "output_type": "execute_result",
          "data": {
            "text/plain": [
              "0"
            ]
          },
          "metadata": {
            "tags": []
          },
          "execution_count": 96
        }
      ]
    },
    {
      "cell_type": "code",
      "metadata": {
        "trusted": true,
        "id": "3ttmYk_6UtBL",
        "colab_type": "code",
        "colab": {},
        "outputId": "18900f1c-9dec-4df2-9dc6-7bc421d8a739"
      },
      "source": [
        "fig = weather['wind_speed'].plot.hist()"
      ],
      "execution_count": 0,
      "outputs": [
        {
          "output_type": "display_data",
          "data": {
            "text/plain": [
              "<Figure size 432x288 with 1 Axes>"
            ],
            "image/png": "[encoded data removed]"
          },
          "metadata": {
            "tags": [],
            "needs_background": "light"
          }
        }
      ]
    },
    {
      "cell_type": "code",
      "metadata": {
        "trusted": true,
        "id": "kHBk8G08UtBN",
        "colab_type": "code",
        "colab": {},
        "outputId": "f00fae81-ed71-4a96-c9d5-5998d9e7a1a1"
      },
      "source": [
        "\n",
        "weather.head()"
      ],
      "execution_count": 0,
      "outputs": [
        {
          "output_type": "execute_result",
          "data": {
            "text/plain": [
              "   site_id           timestamp  air_temperature  dew_temperature  \\\n",
              "0        0 2016-01-01 00:00:00         0.708279         0.900164   \n",
              "1        0 2016-01-01 01:00:00         0.700394         0.918167   \n",
              "2        0 2016-01-01 02:00:00         0.679369         0.918167   \n",
              "3        0 2016-01-01 03:00:00         0.657030         0.909984   \n",
              "4        0 2016-01-01 04:00:00         0.642576         0.900164   \n",
              "\n",
              "   sea_level_pressure  wind_direction  wind_speed  \n",
              "0              1019.7             0.0         0.0  \n",
              "1              1020.2            70.0         1.5  \n",
              "2              1020.2             0.0         0.0  \n",
              "3              1020.1             0.0         0.0  \n",
              "4              1020.0           250.0         2.6  "
            ],
            "text/html": [
              "<div>\n",
              "<style scoped>\n",
              "    .dataframe tbody tr th:only-of-type {\n",
              "        vertical-align: middle;\n",
              "    }\n",
              "\n",
              "    .dataframe tbody tr th {\n",
              "        vertical-align: top;\n",
              "    }\n",
              "\n",
              "    .dataframe thead th {\n",
              "        text-align: right;\n",
              "    }\n",
              "</style>\n",
              "<table border=\"1\" class=\"dataframe\">\n",
              "  <thead>\n",
              "    <tr style=\"text-align: right;\">\n",
              "      <th></th>\n",
              "      <th>site_id</th>\n",
              "      <th>timestamp</th>\n",
              "      <th>air_temperature</th>\n",
              "      <th>dew_temperature</th>\n",
              "      <th>sea_level_pressure</th>\n",
              "      <th>wind_direction</th>\n",
              "      <th>wind_speed</th>\n",
              "    </tr>\n",
              "  </thead>\n",
              "  <tbody>\n",
              "    <tr>\n",
              "      <th>0</th>\n",
              "      <td>0</td>\n",
              "      <td>2016-01-01 00:00:00</td>\n",
              "      <td>0.708279</td>\n",
              "      <td>0.900164</td>\n",
              "      <td>1019.7</td>\n",
              "      <td>0.0</td>\n",
              "      <td>0.0</td>\n",
              "    </tr>\n",
              "    <tr>\n",
              "      <th>1</th>\n",
              "      <td>0</td>\n",
              "      <td>2016-01-01 01:00:00</td>\n",
              "      <td>0.700394</td>\n",
              "      <td>0.918167</td>\n",
              "      <td>1020.2</td>\n",
              "      <td>70.0</td>\n",
              "      <td>1.5</td>\n",
              "    </tr>\n",
              "    <tr>\n",
              "      <th>2</th>\n",
              "      <td>0</td>\n",
              "      <td>2016-01-01 02:00:00</td>\n",
              "      <td>0.679369</td>\n",
              "      <td>0.918167</td>\n",
              "      <td>1020.2</td>\n",
              "      <td>0.0</td>\n",
              "      <td>0.0</td>\n",
              "    </tr>\n",
              "    <tr>\n",
              "      <th>3</th>\n",
              "      <td>0</td>\n",
              "      <td>2016-01-01 03:00:00</td>\n",
              "      <td>0.657030</td>\n",
              "      <td>0.909984</td>\n",
              "      <td>1020.1</td>\n",
              "      <td>0.0</td>\n",
              "      <td>0.0</td>\n",
              "    </tr>\n",
              "    <tr>\n",
              "      <th>4</th>\n",
              "      <td>0</td>\n",
              "      <td>2016-01-01 04:00:00</td>\n",
              "      <td>0.642576</td>\n",
              "      <td>0.900164</td>\n",
              "      <td>1020.0</td>\n",
              "      <td>250.0</td>\n",
              "      <td>2.6</td>\n",
              "    </tr>\n",
              "  </tbody>\n",
              "</table>\n",
              "</div>"
            ]
          },
          "metadata": {
            "tags": []
          },
          "execution_count": 98
        }
      ]
    },
    {
      "cell_type": "markdown",
      "metadata": {
        "id": "0hzdjqqLUtBP",
        "colab_type": "text"
      },
      "source": [
        "# sea_level_pressure"
      ]
    },
    {
      "cell_type": "code",
      "metadata": {
        "trusted": true,
        "id": "vIsPVmj-UtBP",
        "colab_type": "code",
        "colab": {},
        "outputId": "c176db1f-ee98-4860-b403-575cb2142936"
      },
      "source": [
        "weather.sea_level_pressure.isnull().sum()"
      ],
      "execution_count": 0,
      "outputs": [
        {
          "output_type": "execute_result",
          "data": {
            "text/plain": [
              "10618"
            ]
          },
          "metadata": {
            "tags": []
          },
          "execution_count": 99
        }
      ]
    },
    {
      "cell_type": "code",
      "metadata": {
        "trusted": true,
        "id": "zZe_XIp_UtBR",
        "colab_type": "code",
        "colab": {},
        "outputId": "678228e1-9898-454e-e6a2-a7f7b9ff32ed"
      },
      "source": [
        "\n",
        "weather.shape"
      ],
      "execution_count": 0,
      "outputs": [
        {
          "output_type": "execute_result",
          "data": {
            "text/plain": [
              "(139773, 7)"
            ]
          },
          "metadata": {
            "tags": []
          },
          "execution_count": 100
        }
      ]
    },
    {
      "cell_type": "code",
      "metadata": {
        "trusted": true,
        "id": "kx_vhmn-UtBS",
        "colab_type": "code",
        "colab": {}
      },
      "source": [
        "weather['sea_level_pressure'] = weather['sea_level_pressure'].replace(np.nan, weather.sea_level_pressure.mean())"
      ],
      "execution_count": 0,
      "outputs": []
    },
    {
      "cell_type": "code",
      "metadata": {
        "trusted": true,
        "id": "XMnMxQjMUtBU",
        "colab_type": "code",
        "colab": {},
        "outputId": "22fae4f3-801b-4fcb-84bb-d4217766084d"
      },
      "source": [
        "weather.sea_level_pressure.isnull().sum()"
      ],
      "execution_count": 0,
      "outputs": [
        {
          "output_type": "execute_result",
          "data": {
            "text/plain": [
              "0"
            ]
          },
          "metadata": {
            "tags": []
          },
          "execution_count": 102
        }
      ]
    },
    {
      "cell_type": "code",
      "metadata": {
        "scrolled": true,
        "trusted": true,
        "id": "zw0E9w03UtBW",
        "colab_type": "code",
        "colab": {},
        "outputId": "0ab67dc5-c363-4765-ba9c-b361999b1bb0"
      },
      "source": [
        "fig = weather['sea_level_pressure'].plot.hist()"
      ],
      "execution_count": 0,
      "outputs": [
        {
          "output_type": "display_data",
          "data": {
            "text/plain": [
              "<Figure size 432x288 with 1 Axes>"
            ],
            "image/png": "[encoded data removed]"
          },
          "metadata": {
            "tags": [],
            "needs_background": "light"
          }
        }
      ]
    },
    {
      "cell_type": "code",
      "metadata": {
        "trusted": true,
        "id": "OJIKiY1_UtBY",
        "colab_type": "code",
        "colab": {}
      },
      "source": [
        "sea_level_pressure = (weather.sea_level_pressure-weather.sea_level_pressure.min())/(weather.sea_level_pressure.max()-weather.sea_level_pressure.min())"
      ],
      "execution_count": 0,
      "outputs": []
    },
    {
      "cell_type": "code",
      "metadata": {
        "trusted": true,
        "id": "tExDnfTWUtBc",
        "colab_type": "code",
        "colab": {}
      },
      "source": [
        "sea_level_pressure = weather.sea_level_pressure"
      ],
      "execution_count": 0,
      "outputs": []
    },
    {
      "cell_type": "code",
      "metadata": {
        "trusted": true,
        "id": "XncDEkSUUtBe",
        "colab_type": "code",
        "colab": {},
        "outputId": "cd8e556f-c5c5-4234-e717-dcf95077ac26"
      },
      "source": [
        "weather.head()"
      ],
      "execution_count": 0,
      "outputs": [
        {
          "output_type": "execute_result",
          "data": {
            "text/plain": [
              "   site_id           timestamp  air_temperature  dew_temperature  \\\n",
              "0        0 2016-01-01 00:00:00         0.708279         0.900164   \n",
              "1        0 2016-01-01 01:00:00         0.700394         0.918167   \n",
              "2        0 2016-01-01 02:00:00         0.679369         0.918167   \n",
              "3        0 2016-01-01 03:00:00         0.657030         0.909984   \n",
              "4        0 2016-01-01 04:00:00         0.642576         0.900164   \n",
              "\n",
              "   sea_level_pressure  wind_direction  wind_speed  \n",
              "0              1019.7             0.0         0.0  \n",
              "1              1020.2            70.0         1.5  \n",
              "2              1020.2             0.0         0.0  \n",
              "3              1020.1             0.0         0.0  \n",
              "4              1020.0           250.0         2.6  "
            ],
            "text/html": [
              "<div>\n",
              "<style scoped>\n",
              "    .dataframe tbody tr th:only-of-type {\n",
              "        vertical-align: middle;\n",
              "    }\n",
              "\n",
              "    .dataframe tbody tr th {\n",
              "        vertical-align: top;\n",
              "    }\n",
              "\n",
              "    .dataframe thead th {\n",
              "        text-align: right;\n",
              "    }\n",
              "</style>\n",
              "<table border=\"1\" class=\"dataframe\">\n",
              "  <thead>\n",
              "    <tr style=\"text-align: right;\">\n",
              "      <th></th>\n",
              "      <th>site_id</th>\n",
              "      <th>timestamp</th>\n",
              "      <th>air_temperature</th>\n",
              "      <th>dew_temperature</th>\n",
              "      <th>sea_level_pressure</th>\n",
              "      <th>wind_direction</th>\n",
              "      <th>wind_speed</th>\n",
              "    </tr>\n",
              "  </thead>\n",
              "  <tbody>\n",
              "    <tr>\n",
              "      <th>0</th>\n",
              "      <td>0</td>\n",
              "      <td>2016-01-01 00:00:00</td>\n",
              "      <td>0.708279</td>\n",
              "      <td>0.900164</td>\n",
              "      <td>1019.7</td>\n",
              "      <td>0.0</td>\n",
              "      <td>0.0</td>\n",
              "    </tr>\n",
              "    <tr>\n",
              "      <th>1</th>\n",
              "      <td>0</td>\n",
              "      <td>2016-01-01 01:00:00</td>\n",
              "      <td>0.700394</td>\n",
              "      <td>0.918167</td>\n",
              "      <td>1020.2</td>\n",
              "      <td>70.0</td>\n",
              "      <td>1.5</td>\n",
              "    </tr>\n",
              "    <tr>\n",
              "      <th>2</th>\n",
              "      <td>0</td>\n",
              "      <td>2016-01-01 02:00:00</td>\n",
              "      <td>0.679369</td>\n",
              "      <td>0.918167</td>\n",
              "      <td>1020.2</td>\n",
              "      <td>0.0</td>\n",
              "      <td>0.0</td>\n",
              "    </tr>\n",
              "    <tr>\n",
              "      <th>3</th>\n",
              "      <td>0</td>\n",
              "      <td>2016-01-01 03:00:00</td>\n",
              "      <td>0.657030</td>\n",
              "      <td>0.909984</td>\n",
              "      <td>1020.1</td>\n",
              "      <td>0.0</td>\n",
              "      <td>0.0</td>\n",
              "    </tr>\n",
              "    <tr>\n",
              "      <th>4</th>\n",
              "      <td>0</td>\n",
              "      <td>2016-01-01 04:00:00</td>\n",
              "      <td>0.642576</td>\n",
              "      <td>0.900164</td>\n",
              "      <td>1020.0</td>\n",
              "      <td>250.0</td>\n",
              "      <td>2.6</td>\n",
              "    </tr>\n",
              "  </tbody>\n",
              "</table>\n",
              "</div>"
            ]
          },
          "metadata": {
            "tags": []
          },
          "execution_count": 106
        }
      ]
    },
    {
      "cell_type": "markdown",
      "metadata": {
        "id": "vFi1CQVrUtBi",
        "colab_type": "text"
      },
      "source": [
        "\n",
        "# PCA LL TEMPERATURE"
      ]
    },
    {
      "cell_type": "code",
      "metadata": {
        "trusted": true,
        "id": "l4QXK1QtUtBi",
        "colab_type": "code",
        "colab": {}
      },
      "source": [
        "features = ['air_temperature','dew_temperature']"
      ],
      "execution_count": 0,
      "outputs": []
    },
    {
      "cell_type": "code",
      "metadata": {
        "trusted": true,
        "id": "bzScZOlOUtBl",
        "colab_type": "code",
        "colab": {}
      },
      "source": [
        "x = weather.loc[:, features].values"
      ],
      "execution_count": 0,
      "outputs": []
    },
    {
      "cell_type": "code",
      "metadata": {
        "trusted": true,
        "id": "iGHsZk9MUtBn",
        "colab_type": "code",
        "colab": {},
        "outputId": "f67b9634-15b5-4183-a73e-23f413bffeb1"
      },
      "source": [
        "x"
      ],
      "execution_count": 0,
      "outputs": [
        {
          "output_type": "execute_result",
          "data": {
            "text/plain": [
              "array([[0.70827858, 0.90016367],\n",
              "       [0.70039422, 0.91816694],\n",
              "       [0.67936925, 0.91816694],\n",
              "       ...,\n",
              "       [0.41655716, 0.45499182],\n",
              "       [0.4086728 , 0.46317512],\n",
              "       [0.4021025 , 0.4811784 ]])"
            ]
          },
          "metadata": {
            "tags": []
          },
          "execution_count": 109
        }
      ]
    },
    {
      "cell_type": "code",
      "metadata": {
        "trusted": true,
        "id": "c7fAhclVUtBp",
        "colab_type": "code",
        "colab": {}
      },
      "source": [
        "from sklearn.decomposition import PCA"
      ],
      "execution_count": 0,
      "outputs": []
    },
    {
      "cell_type": "code",
      "metadata": {
        "trusted": true,
        "id": "-3S2VarHUtBr",
        "colab_type": "code",
        "colab": {}
      },
      "source": [
        "pca = PCA(n_components=1)\n",
        "principalComponents = pca.fit_transform(x)"
      ],
      "execution_count": 0,
      "outputs": []
    },
    {
      "cell_type": "code",
      "metadata": {
        "trusted": true,
        "id": "GzWPgv9pUtBt",
        "colab_type": "code",
        "colab": {},
        "outputId": "d017ede1-9276-4928-9193-f566d7b25e1e"
      },
      "source": [
        "principalComponents"
      ],
      "execution_count": 0,
      "outputs": [
        {
          "output_type": "execute_result",
          "data": {
            "text/plain": [
              "array([[-0.24795407],\n",
              "       [-0.25666077],\n",
              "       [-0.24313097],\n",
              "       ...,\n",
              "       [ 0.28052284],\n",
              "       [ 0.2793327 ],\n",
              "       [ 0.26978039]])"
            ]
          },
          "metadata": {
            "tags": []
          },
          "execution_count": 112
        }
      ]
    },
    {
      "cell_type": "code",
      "metadata": {
        "trusted": true,
        "id": "o4aUORihUtBu",
        "colab_type": "code",
        "colab": {},
        "outputId": "074a331d-c5c6-4130-c00b-d1a69a911d47"
      },
      "source": [
        "weather.head()"
      ],
      "execution_count": 0,
      "outputs": [
        {
          "output_type": "execute_result",
          "data": {
            "text/plain": [
              "   site_id           timestamp  air_temperature  dew_temperature  \\\n",
              "0        0 2016-01-01 00:00:00         0.708279         0.900164   \n",
              "1        0 2016-01-01 01:00:00         0.700394         0.918167   \n",
              "2        0 2016-01-01 02:00:00         0.679369         0.918167   \n",
              "3        0 2016-01-01 03:00:00         0.657030         0.909984   \n",
              "4        0 2016-01-01 04:00:00         0.642576         0.900164   \n",
              "\n",
              "   sea_level_pressure  wind_direction  wind_speed  \n",
              "0              1019.7             0.0         0.0  \n",
              "1              1020.2            70.0         1.5  \n",
              "2              1020.2             0.0         0.0  \n",
              "3              1020.1             0.0         0.0  \n",
              "4              1020.0           250.0         2.6  "
            ],
            "text/html": [
              "<div>\n",
              "<style scoped>\n",
              "    .dataframe tbody tr th:only-of-type {\n",
              "        vertical-align: middle;\n",
              "    }\n",
              "\n",
              "    .dataframe tbody tr th {\n",
              "        vertical-align: top;\n",
              "    }\n",
              "\n",
              "    .dataframe thead th {\n",
              "        text-align: right;\n",
              "    }\n",
              "</style>\n",
              "<table border=\"1\" class=\"dataframe\">\n",
              "  <thead>\n",
              "    <tr style=\"text-align: right;\">\n",
              "      <th></th>\n",
              "      <th>site_id</th>\n",
              "      <th>timestamp</th>\n",
              "      <th>air_temperature</th>\n",
              "      <th>dew_temperature</th>\n",
              "      <th>sea_level_pressure</th>\n",
              "      <th>wind_direction</th>\n",
              "      <th>wind_speed</th>\n",
              "    </tr>\n",
              "  </thead>\n",
              "  <tbody>\n",
              "    <tr>\n",
              "      <th>0</th>\n",
              "      <td>0</td>\n",
              "      <td>2016-01-01 00:00:00</td>\n",
              "      <td>0.708279</td>\n",
              "      <td>0.900164</td>\n",
              "      <td>1019.7</td>\n",
              "      <td>0.0</td>\n",
              "      <td>0.0</td>\n",
              "    </tr>\n",
              "    <tr>\n",
              "      <th>1</th>\n",
              "      <td>0</td>\n",
              "      <td>2016-01-01 01:00:00</td>\n",
              "      <td>0.700394</td>\n",
              "      <td>0.918167</td>\n",
              "      <td>1020.2</td>\n",
              "      <td>70.0</td>\n",
              "      <td>1.5</td>\n",
              "    </tr>\n",
              "    <tr>\n",
              "      <th>2</th>\n",
              "      <td>0</td>\n",
              "      <td>2016-01-01 02:00:00</td>\n",
              "      <td>0.679369</td>\n",
              "      <td>0.918167</td>\n",
              "      <td>1020.2</td>\n",
              "      <td>0.0</td>\n",
              "      <td>0.0</td>\n",
              "    </tr>\n",
              "    <tr>\n",
              "      <th>3</th>\n",
              "      <td>0</td>\n",
              "      <td>2016-01-01 03:00:00</td>\n",
              "      <td>0.657030</td>\n",
              "      <td>0.909984</td>\n",
              "      <td>1020.1</td>\n",
              "      <td>0.0</td>\n",
              "      <td>0.0</td>\n",
              "    </tr>\n",
              "    <tr>\n",
              "      <th>4</th>\n",
              "      <td>0</td>\n",
              "      <td>2016-01-01 04:00:00</td>\n",
              "      <td>0.642576</td>\n",
              "      <td>0.900164</td>\n",
              "      <td>1020.0</td>\n",
              "      <td>250.0</td>\n",
              "      <td>2.6</td>\n",
              "    </tr>\n",
              "  </tbody>\n",
              "</table>\n",
              "</div>"
            ]
          },
          "metadata": {
            "tags": []
          },
          "execution_count": 113
        }
      ]
    },
    {
      "cell_type": "code",
      "metadata": {
        "trusted": true,
        "id": "-XCXOw0-UtBw",
        "colab_type": "code",
        "colab": {}
      },
      "source": [
        "weather.drop(\"air_temperature\",axis=1,inplace=True)"
      ],
      "execution_count": 0,
      "outputs": []
    },
    {
      "cell_type": "code",
      "metadata": {
        "trusted": true,
        "id": "4RJ7Zs-bUtBz",
        "colab_type": "code",
        "colab": {}
      },
      "source": [
        "weather.drop(\"dew_temperature\",axis=1,inplace=True)"
      ],
      "execution_count": 0,
      "outputs": []
    },
    {
      "cell_type": "code",
      "metadata": {
        "trusted": true,
        "id": "jiKO1Yc6UtB2",
        "colab_type": "code",
        "colab": {}
      },
      "source": [
        "weather['temperature'] = principalComponents"
      ],
      "execution_count": 0,
      "outputs": []
    },
    {
      "cell_type": "code",
      "metadata": {
        "trusted": true,
        "id": "AfUrwiFsUtB4",
        "colab_type": "code",
        "colab": {},
        "outputId": "649596ad-c301-4824-e8f2-d6765f44db35"
      },
      "source": [
        "weather['temperature'].isnull().sum()"
      ],
      "execution_count": 0,
      "outputs": [
        {
          "output_type": "execute_result",
          "data": {
            "text/plain": [
              "0"
            ]
          },
          "metadata": {
            "tags": []
          },
          "execution_count": 117
        }
      ]
    },
    {
      "cell_type": "code",
      "metadata": {
        "trusted": true,
        "id": "AeHhGhaFUtB6",
        "colab_type": "code",
        "colab": {},
        "outputId": "a7792c20-b2b5-4b33-9dbb-0310e183937c"
      },
      "source": [
        "weather.head()"
      ],
      "execution_count": 0,
      "outputs": [
        {
          "output_type": "execute_result",
          "data": {
            "text/plain": [
              "   site_id           timestamp  sea_level_pressure  wind_direction  \\\n",
              "0        0 2016-01-01 00:00:00              1019.7             0.0   \n",
              "1        0 2016-01-01 01:00:00              1020.2            70.0   \n",
              "2        0 2016-01-01 02:00:00              1020.2             0.0   \n",
              "3        0 2016-01-01 03:00:00              1020.1             0.0   \n",
              "4        0 2016-01-01 04:00:00              1020.0           250.0   \n",
              "\n",
              "   wind_speed  temperature  \n",
              "0         0.0    -0.247954  \n",
              "1         1.5    -0.256661  \n",
              "2         0.0    -0.243131  \n",
              "3         0.0    -0.222492  \n",
              "4         2.6    -0.205673  "
            ],
            "text/html": [
              "<div>\n",
              "<style scoped>\n",
              "    .dataframe tbody tr th:only-of-type {\n",
              "        vertical-align: middle;\n",
              "    }\n",
              "\n",
              "    .dataframe tbody tr th {\n",
              "        vertical-align: top;\n",
              "    }\n",
              "\n",
              "    .dataframe thead th {\n",
              "        text-align: right;\n",
              "    }\n",
              "</style>\n",
              "<table border=\"1\" class=\"dataframe\">\n",
              "  <thead>\n",
              "    <tr style=\"text-align: right;\">\n",
              "      <th></th>\n",
              "      <th>site_id</th>\n",
              "      <th>timestamp</th>\n",
              "      <th>sea_level_pressure</th>\n",
              "      <th>wind_direction</th>\n",
              "      <th>wind_speed</th>\n",
              "      <th>temperature</th>\n",
              "    </tr>\n",
              "  </thead>\n",
              "  <tbody>\n",
              "    <tr>\n",
              "      <th>0</th>\n",
              "      <td>0</td>\n",
              "      <td>2016-01-01 00:00:00</td>\n",
              "      <td>1019.7</td>\n",
              "      <td>0.0</td>\n",
              "      <td>0.0</td>\n",
              "      <td>-0.247954</td>\n",
              "    </tr>\n",
              "    <tr>\n",
              "      <th>1</th>\n",
              "      <td>0</td>\n",
              "      <td>2016-01-01 01:00:00</td>\n",
              "      <td>1020.2</td>\n",
              "      <td>70.0</td>\n",
              "      <td>1.5</td>\n",
              "      <td>-0.256661</td>\n",
              "    </tr>\n",
              "    <tr>\n",
              "      <th>2</th>\n",
              "      <td>0</td>\n",
              "      <td>2016-01-01 02:00:00</td>\n",
              "      <td>1020.2</td>\n",
              "      <td>0.0</td>\n",
              "      <td>0.0</td>\n",
              "      <td>-0.243131</td>\n",
              "    </tr>\n",
              "    <tr>\n",
              "      <th>3</th>\n",
              "      <td>0</td>\n",
              "      <td>2016-01-01 03:00:00</td>\n",
              "      <td>1020.1</td>\n",
              "      <td>0.0</td>\n",
              "      <td>0.0</td>\n",
              "      <td>-0.222492</td>\n",
              "    </tr>\n",
              "    <tr>\n",
              "      <th>4</th>\n",
              "      <td>0</td>\n",
              "      <td>2016-01-01 04:00:00</td>\n",
              "      <td>1020.0</td>\n",
              "      <td>250.0</td>\n",
              "      <td>2.6</td>\n",
              "      <td>-0.205673</td>\n",
              "    </tr>\n",
              "  </tbody>\n",
              "</table>\n",
              "</div>"
            ]
          },
          "metadata": {
            "tags": []
          },
          "execution_count": 118
        }
      ]
    },
    {
      "cell_type": "code",
      "metadata": {
        "trusted": true,
        "id": "eZMU3LW5UtB7",
        "colab_type": "code",
        "colab": {},
        "outputId": "a35a1486-d3de-4472-da6a-5c603f570e5d"
      },
      "source": [
        "fig = weather['temperature'].plot.hist()"
      ],
      "execution_count": 0,
      "outputs": [
        {
          "output_type": "display_data",
          "data": {
            "text/plain": [
              "<Figure size 432x288 with 1 Axes>"
            ],
            "image/png": "[encoded data removed]"
          },
          "metadata": {
            "tags": [],
            "needs_background": "light"
          }
        }
      ]
    },
    {
      "cell_type": "markdown",
      "metadata": {
        "id": "ycvIdkMpUtB9",
        "colab_type": "text"
      },
      "source": [
        "# PCA LL WIND"
      ]
    },
    {
      "cell_type": "code",
      "metadata": {
        "trusted": true,
        "id": "RkGG5154UtB9",
        "colab_type": "code",
        "colab": {},
        "outputId": "5aa3943a-4845-4974-fee6-527c8419682a"
      },
      "source": [
        "weather.dtypes"
      ],
      "execution_count": 0,
      "outputs": [
        {
          "output_type": "execute_result",
          "data": {
            "text/plain": [
              "site_id                        int64\n",
              "timestamp             datetime64[ns]\n",
              "sea_level_pressure           float64\n",
              "wind_direction               float64\n",
              "wind_speed                   float64\n",
              "temperature                  float64\n",
              "dtype: object"
            ]
          },
          "metadata": {
            "tags": []
          },
          "execution_count": 120
        }
      ]
    },
    {
      "cell_type": "code",
      "metadata": {
        "trusted": true,
        "id": "-SFnefwxUtB_",
        "colab_type": "code",
        "colab": {}
      },
      "source": [
        "wind_direction = (weather.wind_direction-weather.wind_direction.min())/(weather.wind_direction.max()-weather.wind_direction.min())"
      ],
      "execution_count": 0,
      "outputs": []
    },
    {
      "cell_type": "code",
      "metadata": {
        "trusted": true,
        "id": "gQuaWq-6UtCA",
        "colab_type": "code",
        "colab": {}
      },
      "source": [
        "weather.wind_direction = wind_direction"
      ],
      "execution_count": 0,
      "outputs": []
    },
    {
      "cell_type": "code",
      "metadata": {
        "trusted": true,
        "id": "EGNZ4SO7UtCD",
        "colab_type": "code",
        "colab": {}
      },
      "source": [
        "wind_speed = (weather.wind_speed-weather.wind_speed.min())/(weather.wind_speed.max()-weather.wind_speed.min())"
      ],
      "execution_count": 0,
      "outputs": []
    },
    {
      "cell_type": "code",
      "metadata": {
        "trusted": true,
        "id": "bfGLZHbRUtCE",
        "colab_type": "code",
        "colab": {}
      },
      "source": [
        "weather.wind_speed= wind_speed"
      ],
      "execution_count": 0,
      "outputs": []
    },
    {
      "cell_type": "code",
      "metadata": {
        "trusted": true,
        "id": "7V2Cdu_1UtCH",
        "colab_type": "code",
        "colab": {},
        "outputId": "c786dcf8-0633-4202-ee2d-0688ba864512"
      },
      "source": [
        "weather.head()"
      ],
      "execution_count": 0,
      "outputs": [
        {
          "output_type": "execute_result",
          "data": {
            "text/plain": [
              "   site_id           timestamp  sea_level_pressure  wind_direction  \\\n",
              "0        0 2016-01-01 00:00:00              1019.7        0.000000   \n",
              "1        0 2016-01-01 01:00:00              1020.2        0.194444   \n",
              "2        0 2016-01-01 02:00:00              1020.2        0.000000   \n",
              "3        0 2016-01-01 03:00:00              1020.1        0.000000   \n",
              "4        0 2016-01-01 04:00:00              1020.0        0.694444   \n",
              "\n",
              "   wind_speed  temperature  \n",
              "0    0.000000    -0.247954  \n",
              "1    0.078947    -0.256661  \n",
              "2    0.000000    -0.243131  \n",
              "3    0.000000    -0.222492  \n",
              "4    0.136842    -0.205673  "
            ],
            "text/html": [
              "<div>\n",
              "<style scoped>\n",
              "    .dataframe tbody tr th:only-of-type {\n",
              "        vertical-align: middle;\n",
              "    }\n",
              "\n",
              "    .dataframe tbody tr th {\n",
              "        vertical-align: top;\n",
              "    }\n",
              "\n",
              "    .dataframe thead th {\n",
              "        text-align: right;\n",
              "    }\n",
              "</style>\n",
              "<table border=\"1\" class=\"dataframe\">\n",
              "  <thead>\n",
              "    <tr style=\"text-align: right;\">\n",
              "      <th></th>\n",
              "      <th>site_id</th>\n",
              "      <th>timestamp</th>\n",
              "      <th>sea_level_pressure</th>\n",
              "      <th>wind_direction</th>\n",
              "      <th>wind_speed</th>\n",
              "      <th>temperature</th>\n",
              "    </tr>\n",
              "  </thead>\n",
              "  <tbody>\n",
              "    <tr>\n",
              "      <th>0</th>\n",
              "      <td>0</td>\n",
              "      <td>2016-01-01 00:00:00</td>\n",
              "      <td>1019.7</td>\n",
              "      <td>0.000000</td>\n",
              "      <td>0.000000</td>\n",
              "      <td>-0.247954</td>\n",
              "    </tr>\n",
              "    <tr>\n",
              "      <th>1</th>\n",
              "      <td>0</td>\n",
              "      <td>2016-01-01 01:00:00</td>\n",
              "      <td>1020.2</td>\n",
              "      <td>0.194444</td>\n",
              "      <td>0.078947</td>\n",
              "      <td>-0.256661</td>\n",
              "    </tr>\n",
              "    <tr>\n",
              "      <th>2</th>\n",
              "      <td>0</td>\n",
              "      <td>2016-01-01 02:00:00</td>\n",
              "      <td>1020.2</td>\n",
              "      <td>0.000000</td>\n",
              "      <td>0.000000</td>\n",
              "      <td>-0.243131</td>\n",
              "    </tr>\n",
              "    <tr>\n",
              "      <th>3</th>\n",
              "      <td>0</td>\n",
              "      <td>2016-01-01 03:00:00</td>\n",
              "      <td>1020.1</td>\n",
              "      <td>0.000000</td>\n",
              "      <td>0.000000</td>\n",
              "      <td>-0.222492</td>\n",
              "    </tr>\n",
              "    <tr>\n",
              "      <th>4</th>\n",
              "      <td>0</td>\n",
              "      <td>2016-01-01 04:00:00</td>\n",
              "      <td>1020.0</td>\n",
              "      <td>0.694444</td>\n",
              "      <td>0.136842</td>\n",
              "      <td>-0.205673</td>\n",
              "    </tr>\n",
              "  </tbody>\n",
              "</table>\n",
              "</div>"
            ]
          },
          "metadata": {
            "tags": []
          },
          "execution_count": 125
        }
      ]
    },
    {
      "cell_type": "code",
      "metadata": {
        "trusted": true,
        "id": "pzN1o_GVUtCK",
        "colab_type": "code",
        "colab": {}
      },
      "source": [
        "feature = ['wind_direction','wind_speed']"
      ],
      "execution_count": 0,
      "outputs": []
    },
    {
      "cell_type": "code",
      "metadata": {
        "trusted": true,
        "id": "uzcHMRHPUtCL",
        "colab_type": "code",
        "colab": {}
      },
      "source": [
        "y = weather.loc[:, feature].values"
      ],
      "execution_count": 0,
      "outputs": []
    },
    {
      "cell_type": "code",
      "metadata": {
        "trusted": true,
        "id": "AbWU4qlUUtCM",
        "colab_type": "code",
        "colab": {}
      },
      "source": [
        "pca = PCA(n_components=1)\n",
        "wind= pca.fit_transform(y)"
      ],
      "execution_count": 0,
      "outputs": []
    },
    {
      "cell_type": "code",
      "metadata": {
        "trusted": true,
        "id": "U4-Ogk2HUtCO",
        "colab_type": "code",
        "colab": {}
      },
      "source": [
        "weather['wind']=wind"
      ],
      "execution_count": 0,
      "outputs": []
    },
    {
      "cell_type": "code",
      "metadata": {
        "trusted": true,
        "id": "Ai0sQAUpUtCQ",
        "colab_type": "code",
        "colab": {},
        "outputId": "93f071e0-dc1a-4be9-96a2-ab132595950c"
      },
      "source": [
        "weather.wind.isnull().sum()"
      ],
      "execution_count": 0,
      "outputs": [
        {
          "output_type": "execute_result",
          "data": {
            "text/plain": [
              "0"
            ]
          },
          "metadata": {
            "tags": []
          },
          "execution_count": 130
        }
      ]
    },
    {
      "cell_type": "code",
      "metadata": {
        "trusted": true,
        "id": "H5PAZyHOUtCR",
        "colab_type": "code",
        "colab": {},
        "outputId": "42ea5c15-5843-45c6-a60d-505236901e87"
      },
      "source": [
        "weather.head()"
      ],
      "execution_count": 0,
      "outputs": [
        {
          "output_type": "execute_result",
          "data": {
            "text/plain": [
              "   site_id           timestamp  sea_level_pressure  wind_direction  \\\n",
              "0        0 2016-01-01 00:00:00              1019.7        0.000000   \n",
              "1        0 2016-01-01 01:00:00              1020.2        0.194444   \n",
              "2        0 2016-01-01 02:00:00              1020.2        0.000000   \n",
              "3        0 2016-01-01 03:00:00              1020.1        0.000000   \n",
              "4        0 2016-01-01 04:00:00              1020.0        0.694444   \n",
              "\n",
              "   wind_speed  temperature      wind  \n",
              "0    0.000000    -0.247954 -0.525354  \n",
              "1    0.078947    -0.256661 -0.320619  \n",
              "2    0.000000    -0.243131 -0.525354  \n",
              "3    0.000000    -0.222492 -0.525354  \n",
              "4    0.136842    -0.205673  0.182119  "
            ],
            "text/html": [
              "<div>\n",
              "<style scoped>\n",
              "    .dataframe tbody tr th:only-of-type {\n",
              "        vertical-align: middle;\n",
              "    }\n",
              "\n",
              "    .dataframe tbody tr th {\n",
              "        vertical-align: top;\n",
              "    }\n",
              "\n",
              "    .dataframe thead th {\n",
              "        text-align: right;\n",
              "    }\n",
              "</style>\n",
              "<table border=\"1\" class=\"dataframe\">\n",
              "  <thead>\n",
              "    <tr style=\"text-align: right;\">\n",
              "      <th></th>\n",
              "      <th>site_id</th>\n",
              "      <th>timestamp</th>\n",
              "      <th>sea_level_pressure</th>\n",
              "      <th>wind_direction</th>\n",
              "      <th>wind_speed</th>\n",
              "      <th>temperature</th>\n",
              "      <th>wind</th>\n",
              "    </tr>\n",
              "  </thead>\n",
              "  <tbody>\n",
              "    <tr>\n",
              "      <th>0</th>\n",
              "      <td>0</td>\n",
              "      <td>2016-01-01 00:00:00</td>\n",
              "      <td>1019.7</td>\n",
              "      <td>0.000000</td>\n",
              "      <td>0.000000</td>\n",
              "      <td>-0.247954</td>\n",
              "      <td>-0.525354</td>\n",
              "    </tr>\n",
              "    <tr>\n",
              "      <th>1</th>\n",
              "      <td>0</td>\n",
              "      <td>2016-01-01 01:00:00</td>\n",
              "      <td>1020.2</td>\n",
              "      <td>0.194444</td>\n",
              "      <td>0.078947</td>\n",
              "      <td>-0.256661</td>\n",
              "      <td>-0.320619</td>\n",
              "    </tr>\n",
              "    <tr>\n",
              "      <th>2</th>\n",
              "      <td>0</td>\n",
              "      <td>2016-01-01 02:00:00</td>\n",
              "      <td>1020.2</td>\n",
              "      <td>0.000000</td>\n",
              "      <td>0.000000</td>\n",
              "      <td>-0.243131</td>\n",
              "      <td>-0.525354</td>\n",
              "    </tr>\n",
              "    <tr>\n",
              "      <th>3</th>\n",
              "      <td>0</td>\n",
              "      <td>2016-01-01 03:00:00</td>\n",
              "      <td>1020.1</td>\n",
              "      <td>0.000000</td>\n",
              "      <td>0.000000</td>\n",
              "      <td>-0.222492</td>\n",
              "      <td>-0.525354</td>\n",
              "    </tr>\n",
              "    <tr>\n",
              "      <th>4</th>\n",
              "      <td>0</td>\n",
              "      <td>2016-01-01 04:00:00</td>\n",
              "      <td>1020.0</td>\n",
              "      <td>0.694444</td>\n",
              "      <td>0.136842</td>\n",
              "      <td>-0.205673</td>\n",
              "      <td>0.182119</td>\n",
              "    </tr>\n",
              "  </tbody>\n",
              "</table>\n",
              "</div>"
            ]
          },
          "metadata": {
            "tags": []
          },
          "execution_count": 131
        }
      ]
    },
    {
      "cell_type": "code",
      "metadata": {
        "trusted": true,
        "id": "jJ6kmwNMUtCT",
        "colab_type": "code",
        "colab": {}
      },
      "source": [
        "weather.drop(\"wind_direction\",axis=1,inplace=True)"
      ],
      "execution_count": 0,
      "outputs": []
    },
    {
      "cell_type": "code",
      "metadata": {
        "trusted": true,
        "id": "zfGl_H13UtCZ",
        "colab_type": "code",
        "colab": {}
      },
      "source": [
        "weather.drop(\"wind_speed\",axis=1,inplace=True)"
      ],
      "execution_count": 0,
      "outputs": []
    },
    {
      "cell_type": "code",
      "metadata": {
        "trusted": true,
        "id": "0xV6vZgjUtCd",
        "colab_type": "code",
        "colab": {},
        "outputId": "0140e4c9-e7f6-47a0-fe53-a8e0a298246e"
      },
      "source": [
        "weather.head()"
      ],
      "execution_count": 0,
      "outputs": [
        {
          "output_type": "execute_result",
          "data": {
            "text/plain": [
              "   site_id           timestamp  sea_level_pressure  temperature      wind\n",
              "0        0 2016-01-01 00:00:00              1019.7    -0.247954 -0.525354\n",
              "1        0 2016-01-01 01:00:00              1020.2    -0.256661 -0.320619\n",
              "2        0 2016-01-01 02:00:00              1020.2    -0.243131 -0.525354\n",
              "3        0 2016-01-01 03:00:00              1020.1    -0.222492 -0.525354\n",
              "4        0 2016-01-01 04:00:00              1020.0    -0.205673  0.182119"
            ],
            "text/html": [
              "<div>\n",
              "<style scoped>\n",
              "    .dataframe tbody tr th:only-of-type {\n",
              "        vertical-align: middle;\n",
              "    }\n",
              "\n",
              "    .dataframe tbody tr th {\n",
              "        vertical-align: top;\n",
              "    }\n",
              "\n",
              "    .dataframe thead th {\n",
              "        text-align: right;\n",
              "    }\n",
              "</style>\n",
              "<table border=\"1\" class=\"dataframe\">\n",
              "  <thead>\n",
              "    <tr style=\"text-align: right;\">\n",
              "      <th></th>\n",
              "      <th>site_id</th>\n",
              "      <th>timestamp</th>\n",
              "      <th>sea_level_pressure</th>\n",
              "      <th>temperature</th>\n",
              "      <th>wind</th>\n",
              "    </tr>\n",
              "  </thead>\n",
              "  <tbody>\n",
              "    <tr>\n",
              "      <th>0</th>\n",
              "      <td>0</td>\n",
              "      <td>2016-01-01 00:00:00</td>\n",
              "      <td>1019.7</td>\n",
              "      <td>-0.247954</td>\n",
              "      <td>-0.525354</td>\n",
              "    </tr>\n",
              "    <tr>\n",
              "      <th>1</th>\n",
              "      <td>0</td>\n",
              "      <td>2016-01-01 01:00:00</td>\n",
              "      <td>1020.2</td>\n",
              "      <td>-0.256661</td>\n",
              "      <td>-0.320619</td>\n",
              "    </tr>\n",
              "    <tr>\n",
              "      <th>2</th>\n",
              "      <td>0</td>\n",
              "      <td>2016-01-01 02:00:00</td>\n",
              "      <td>1020.2</td>\n",
              "      <td>-0.243131</td>\n",
              "      <td>-0.525354</td>\n",
              "    </tr>\n",
              "    <tr>\n",
              "      <th>3</th>\n",
              "      <td>0</td>\n",
              "      <td>2016-01-01 03:00:00</td>\n",
              "      <td>1020.1</td>\n",
              "      <td>-0.222492</td>\n",
              "      <td>-0.525354</td>\n",
              "    </tr>\n",
              "    <tr>\n",
              "      <th>4</th>\n",
              "      <td>0</td>\n",
              "      <td>2016-01-01 04:00:00</td>\n",
              "      <td>1020.0</td>\n",
              "      <td>-0.205673</td>\n",
              "      <td>0.182119</td>\n",
              "    </tr>\n",
              "  </tbody>\n",
              "</table>\n",
              "</div>"
            ]
          },
          "metadata": {
            "tags": []
          },
          "execution_count": 134
        }
      ]
    },
    {
      "cell_type": "code",
      "metadata": {
        "trusted": true,
        "id": "zAVOzroJUtCg",
        "colab_type": "code",
        "colab": {},
        "outputId": "41159513-75dc-48e5-8b5b-8c47892ac764"
      },
      "source": [
        "fig = weather['wind'].plot.hist()"
      ],
      "execution_count": 0,
      "outputs": [
        {
          "output_type": "display_data",
          "data": {
            "text/plain": [
              "<Figure size 432x288 with 1 Axes>"
            ],
            "image/png": "[encoded data removed]"
          },
          "metadata": {
            "tags": [],
            "needs_background": "light"
          }
        }
      ]
    },
    {
      "cell_type": "code",
      "metadata": {
        "trusted": true,
        "id": "UEqIYi1qUtCm",
        "colab_type": "code",
        "colab": {}
      },
      "source": [
        ""
      ],
      "execution_count": 0,
      "outputs": []
    },
    {
      "cell_type": "code",
      "metadata": {
        "trusted": true,
        "id": "G-Id9a4dUtCt",
        "colab_type": "code",
        "colab": {},
        "outputId": "b1bdc0c3-236b-4898-e7ea-97cdf1391cf0"
      },
      "source": [
        "weather.head()"
      ],
      "execution_count": 0,
      "outputs": [
        {
          "output_type": "execute_result",
          "data": {
            "text/plain": [
              "   site_id           timestamp  sea_level_pressure  temperature      wind\n",
              "0        0 2016-01-01 00:00:00              1019.7    -0.247954 -0.525354\n",
              "1        0 2016-01-01 01:00:00              1020.2    -0.256661 -0.320619\n",
              "2        0 2016-01-01 02:00:00              1020.2    -0.243131 -0.525354\n",
              "3        0 2016-01-01 03:00:00              1020.1    -0.222492 -0.525354\n",
              "4        0 2016-01-01 04:00:00              1020.0    -0.205673  0.182119"
            ],
            "text/html": [
              "<div>\n",
              "<style scoped>\n",
              "    .dataframe tbody tr th:only-of-type {\n",
              "        vertical-align: middle;\n",
              "    }\n",
              "\n",
              "    .dataframe tbody tr th {\n",
              "        vertical-align: top;\n",
              "    }\n",
              "\n",
              "    .dataframe thead th {\n",
              "        text-align: right;\n",
              "    }\n",
              "</style>\n",
              "<table border=\"1\" class=\"dataframe\">\n",
              "  <thead>\n",
              "    <tr style=\"text-align: right;\">\n",
              "      <th></th>\n",
              "      <th>site_id</th>\n",
              "      <th>timestamp</th>\n",
              "      <th>sea_level_pressure</th>\n",
              "      <th>temperature</th>\n",
              "      <th>wind</th>\n",
              "    </tr>\n",
              "  </thead>\n",
              "  <tbody>\n",
              "    <tr>\n",
              "      <th>0</th>\n",
              "      <td>0</td>\n",
              "      <td>2016-01-01 00:00:00</td>\n",
              "      <td>1019.7</td>\n",
              "      <td>-0.247954</td>\n",
              "      <td>-0.525354</td>\n",
              "    </tr>\n",
              "    <tr>\n",
              "      <th>1</th>\n",
              "      <td>0</td>\n",
              "      <td>2016-01-01 01:00:00</td>\n",
              "      <td>1020.2</td>\n",
              "      <td>-0.256661</td>\n",
              "      <td>-0.320619</td>\n",
              "    </tr>\n",
              "    <tr>\n",
              "      <th>2</th>\n",
              "      <td>0</td>\n",
              "      <td>2016-01-01 02:00:00</td>\n",
              "      <td>1020.2</td>\n",
              "      <td>-0.243131</td>\n",
              "      <td>-0.525354</td>\n",
              "    </tr>\n",
              "    <tr>\n",
              "      <th>3</th>\n",
              "      <td>0</td>\n",
              "      <td>2016-01-01 03:00:00</td>\n",
              "      <td>1020.1</td>\n",
              "      <td>-0.222492</td>\n",
              "      <td>-0.525354</td>\n",
              "    </tr>\n",
              "    <tr>\n",
              "      <th>4</th>\n",
              "      <td>0</td>\n",
              "      <td>2016-01-01 04:00:00</td>\n",
              "      <td>1020.0</td>\n",
              "      <td>-0.205673</td>\n",
              "      <td>0.182119</td>\n",
              "    </tr>\n",
              "  </tbody>\n",
              "</table>\n",
              "</div>"
            ]
          },
          "metadata": {
            "tags": []
          },
          "execution_count": 136
        }
      ]
    },
    {
      "cell_type": "code",
      "metadata": {
        "trusted": true,
        "id": "-vZM6JhCUtCw",
        "colab_type": "code",
        "colab": {},
        "outputId": "fa002142-e455-405e-8723-9fa8b717c76b"
      },
      "source": [
        "weather.head()"
      ],
      "execution_count": 0,
      "outputs": [
        {
          "output_type": "execute_result",
          "data": {
            "text/plain": [
              "   site_id           timestamp  sea_level_pressure  temperature      wind\n",
              "0        0 2016-01-01 00:00:00              1019.7    -0.247954 -0.525354\n",
              "1        0 2016-01-01 01:00:00              1020.2    -0.256661 -0.320619\n",
              "2        0 2016-01-01 02:00:00              1020.2    -0.243131 -0.525354\n",
              "3        0 2016-01-01 03:00:00              1020.1    -0.222492 -0.525354\n",
              "4        0 2016-01-01 04:00:00              1020.0    -0.205673  0.182119"
            ],
            "text/html": [
              "<div>\n",
              "<style scoped>\n",
              "    .dataframe tbody tr th:only-of-type {\n",
              "        vertical-align: middle;\n",
              "    }\n",
              "\n",
              "    .dataframe tbody tr th {\n",
              "        vertical-align: top;\n",
              "    }\n",
              "\n",
              "    .dataframe thead th {\n",
              "        text-align: right;\n",
              "    }\n",
              "</style>\n",
              "<table border=\"1\" class=\"dataframe\">\n",
              "  <thead>\n",
              "    <tr style=\"text-align: right;\">\n",
              "      <th></th>\n",
              "      <th>site_id</th>\n",
              "      <th>timestamp</th>\n",
              "      <th>sea_level_pressure</th>\n",
              "      <th>temperature</th>\n",
              "      <th>wind</th>\n",
              "    </tr>\n",
              "  </thead>\n",
              "  <tbody>\n",
              "    <tr>\n",
              "      <th>0</th>\n",
              "      <td>0</td>\n",
              "      <td>2016-01-01 00:00:00</td>\n",
              "      <td>1019.7</td>\n",
              "      <td>-0.247954</td>\n",
              "      <td>-0.525354</td>\n",
              "    </tr>\n",
              "    <tr>\n",
              "      <th>1</th>\n",
              "      <td>0</td>\n",
              "      <td>2016-01-01 01:00:00</td>\n",
              "      <td>1020.2</td>\n",
              "      <td>-0.256661</td>\n",
              "      <td>-0.320619</td>\n",
              "    </tr>\n",
              "    <tr>\n",
              "      <th>2</th>\n",
              "      <td>0</td>\n",
              "      <td>2016-01-01 02:00:00</td>\n",
              "      <td>1020.2</td>\n",
              "      <td>-0.243131</td>\n",
              "      <td>-0.525354</td>\n",
              "    </tr>\n",
              "    <tr>\n",
              "      <th>3</th>\n",
              "      <td>0</td>\n",
              "      <td>2016-01-01 03:00:00</td>\n",
              "      <td>1020.1</td>\n",
              "      <td>-0.222492</td>\n",
              "      <td>-0.525354</td>\n",
              "    </tr>\n",
              "    <tr>\n",
              "      <th>4</th>\n",
              "      <td>0</td>\n",
              "      <td>2016-01-01 04:00:00</td>\n",
              "      <td>1020.0</td>\n",
              "      <td>-0.205673</td>\n",
              "      <td>0.182119</td>\n",
              "    </tr>\n",
              "  </tbody>\n",
              "</table>\n",
              "</div>"
            ]
          },
          "metadata": {
            "tags": []
          },
          "execution_count": 137
        }
      ]
    },
    {
      "cell_type": "code",
      "metadata": {
        "trusted": true,
        "id": "M00LBY2YUtCy",
        "colab_type": "code",
        "colab": {}
      },
      "source": [
        "sea_level_pressure = (weather.sea_level_pressure-weather.sea_level_pressure.min())/(weather.sea_level_pressure.max()-weather.sea_level_pressure.min())"
      ],
      "execution_count": 0,
      "outputs": []
    },
    {
      "cell_type": "code",
      "metadata": {
        "trusted": true,
        "id": "gRZXqzlPUtCz",
        "colab_type": "code",
        "colab": {}
      },
      "source": [
        "weather.sea_level_pressure=sea_level_pressure"
      ],
      "execution_count": 0,
      "outputs": []
    },
    {
      "cell_type": "code",
      "metadata": {
        "trusted": true,
        "id": "r1xHZkCWUtC0",
        "colab_type": "code",
        "colab": {},
        "outputId": "391ec10d-bc9a-4863-9338-943ea18e974b"
      },
      "source": [
        "weather.head()"
      ],
      "execution_count": 0,
      "outputs": [
        {
          "output_type": "execute_result",
          "data": {
            "text/plain": [
              "   site_id           timestamp  sea_level_pressure  temperature      wind\n",
              "0        0 2016-01-01 00:00:00            0.666235    -0.247954 -0.525354\n",
              "1        0 2016-01-01 01:00:00            0.672704    -0.256661 -0.320619\n",
              "2        0 2016-01-01 02:00:00            0.672704    -0.243131 -0.525354\n",
              "3        0 2016-01-01 03:00:00            0.671410    -0.222492 -0.525354\n",
              "4        0 2016-01-01 04:00:00            0.670116    -0.205673  0.182119"
            ],
            "text/html": [
              "<div>\n",
              "<style scoped>\n",
              "    .dataframe tbody tr th:only-of-type {\n",
              "        vertical-align: middle;\n",
              "    }\n",
              "\n",
              "    .dataframe tbody tr th {\n",
              "        vertical-align: top;\n",
              "    }\n",
              "\n",
              "    .dataframe thead th {\n",
              "        text-align: right;\n",
              "    }\n",
              "</style>\n",
              "<table border=\"1\" class=\"dataframe\">\n",
              "  <thead>\n",
              "    <tr style=\"text-align: right;\">\n",
              "      <th></th>\n",
              "      <th>site_id</th>\n",
              "      <th>timestamp</th>\n",
              "      <th>sea_level_pressure</th>\n",
              "      <th>temperature</th>\n",
              "      <th>wind</th>\n",
              "    </tr>\n",
              "  </thead>\n",
              "  <tbody>\n",
              "    <tr>\n",
              "      <th>0</th>\n",
              "      <td>0</td>\n",
              "      <td>2016-01-01 00:00:00</td>\n",
              "      <td>0.666235</td>\n",
              "      <td>-0.247954</td>\n",
              "      <td>-0.525354</td>\n",
              "    </tr>\n",
              "    <tr>\n",
              "      <th>1</th>\n",
              "      <td>0</td>\n",
              "      <td>2016-01-01 01:00:00</td>\n",
              "      <td>0.672704</td>\n",
              "      <td>-0.256661</td>\n",
              "      <td>-0.320619</td>\n",
              "    </tr>\n",
              "    <tr>\n",
              "      <th>2</th>\n",
              "      <td>0</td>\n",
              "      <td>2016-01-01 02:00:00</td>\n",
              "      <td>0.672704</td>\n",
              "      <td>-0.243131</td>\n",
              "      <td>-0.525354</td>\n",
              "    </tr>\n",
              "    <tr>\n",
              "      <th>3</th>\n",
              "      <td>0</td>\n",
              "      <td>2016-01-01 03:00:00</td>\n",
              "      <td>0.671410</td>\n",
              "      <td>-0.222492</td>\n",
              "      <td>-0.525354</td>\n",
              "    </tr>\n",
              "    <tr>\n",
              "      <th>4</th>\n",
              "      <td>0</td>\n",
              "      <td>2016-01-01 04:00:00</td>\n",
              "      <td>0.670116</td>\n",
              "      <td>-0.205673</td>\n",
              "      <td>0.182119</td>\n",
              "    </tr>\n",
              "  </tbody>\n",
              "</table>\n",
              "</div>"
            ]
          },
          "metadata": {
            "tags": []
          },
          "execution_count": 140
        }
      ]
    },
    {
      "cell_type": "code",
      "metadata": {
        "trusted": true,
        "id": "e0j2MXPjUtC1",
        "colab_type": "code",
        "colab": {},
        "outputId": "3961a045-a557-44e4-fd7f-a9917ada16a6"
      },
      "source": [
        "train.head()"
      ],
      "execution_count": 0,
      "outputs": [
        {
          "output_type": "execute_result",
          "data": {
            "text/plain": [
              "   building_id  meter  timestamp  meter_reading\n",
              "0            0      0 2016-01-01            0.0\n",
              "1            1      0 2016-01-01            0.0\n",
              "2            2      0 2016-01-01            0.0\n",
              "3            3      0 2016-01-01            0.0\n",
              "4            4      0 2016-01-01            0.0"
            ],
            "text/html": [
              "<div>\n",
              "<style scoped>\n",
              "    .dataframe tbody tr th:only-of-type {\n",
              "        vertical-align: middle;\n",
              "    }\n",
              "\n",
              "    .dataframe tbody tr th {\n",
              "        vertical-align: top;\n",
              "    }\n",
              "\n",
              "    .dataframe thead th {\n",
              "        text-align: right;\n",
              "    }\n",
              "</style>\n",
              "<table border=\"1\" class=\"dataframe\">\n",
              "  <thead>\n",
              "    <tr style=\"text-align: right;\">\n",
              "      <th></th>\n",
              "      <th>building_id</th>\n",
              "      <th>meter</th>\n",
              "      <th>timestamp</th>\n",
              "      <th>meter_reading</th>\n",
              "    </tr>\n",
              "  </thead>\n",
              "  <tbody>\n",
              "    <tr>\n",
              "      <th>0</th>\n",
              "      <td>0</td>\n",
              "      <td>0</td>\n",
              "      <td>2016-01-01</td>\n",
              "      <td>0.0</td>\n",
              "    </tr>\n",
              "    <tr>\n",
              "      <th>1</th>\n",
              "      <td>1</td>\n",
              "      <td>0</td>\n",
              "      <td>2016-01-01</td>\n",
              "      <td>0.0</td>\n",
              "    </tr>\n",
              "    <tr>\n",
              "      <th>2</th>\n",
              "      <td>2</td>\n",
              "      <td>0</td>\n",
              "      <td>2016-01-01</td>\n",
              "      <td>0.0</td>\n",
              "    </tr>\n",
              "    <tr>\n",
              "      <th>3</th>\n",
              "      <td>3</td>\n",
              "      <td>0</td>\n",
              "      <td>2016-01-01</td>\n",
              "      <td>0.0</td>\n",
              "    </tr>\n",
              "    <tr>\n",
              "      <th>4</th>\n",
              "      <td>4</td>\n",
              "      <td>0</td>\n",
              "      <td>2016-01-01</td>\n",
              "      <td>0.0</td>\n",
              "    </tr>\n",
              "  </tbody>\n",
              "</table>\n",
              "</div>"
            ]
          },
          "metadata": {
            "tags": []
          },
          "execution_count": 141
        }
      ]
    },
    {
      "cell_type": "code",
      "metadata": {
        "trusted": true,
        "id": "dsjydH1IUtDB",
        "colab_type": "code",
        "colab": {}
      },
      "source": [
        ""
      ],
      "execution_count": 0,
      "outputs": []
    },
    {
      "cell_type": "code",
      "metadata": {
        "trusted": true,
        "id": "IGdQ8YozUtDF",
        "colab_type": "code",
        "colab": {},
        "outputId": "ac0395d8-e87a-453c-c37f-8840cffcddb8"
      },
      "source": [
        "train.head()"
      ],
      "execution_count": 0,
      "outputs": [
        {
          "output_type": "execute_result",
          "data": {
            "text/plain": [
              "   building_id  meter  timestamp  meter_reading\n",
              "0            0      0 2016-01-01            0.0\n",
              "1            1      0 2016-01-01            0.0\n",
              "2            2      0 2016-01-01            0.0\n",
              "3            3      0 2016-01-01            0.0\n",
              "4            4      0 2016-01-01            0.0"
            ],
            "text/html": [
              "<div>\n",
              "<style scoped>\n",
              "    .dataframe tbody tr th:only-of-type {\n",
              "        vertical-align: middle;\n",
              "    }\n",
              "\n",
              "    .dataframe tbody tr th {\n",
              "        vertical-align: top;\n",
              "    }\n",
              "\n",
              "    .dataframe thead th {\n",
              "        text-align: right;\n",
              "    }\n",
              "</style>\n",
              "<table border=\"1\" class=\"dataframe\">\n",
              "  <thead>\n",
              "    <tr style=\"text-align: right;\">\n",
              "      <th></th>\n",
              "      <th>building_id</th>\n",
              "      <th>meter</th>\n",
              "      <th>timestamp</th>\n",
              "      <th>meter_reading</th>\n",
              "    </tr>\n",
              "  </thead>\n",
              "  <tbody>\n",
              "    <tr>\n",
              "      <th>0</th>\n",
              "      <td>0</td>\n",
              "      <td>0</td>\n",
              "      <td>2016-01-01</td>\n",
              "      <td>0.0</td>\n",
              "    </tr>\n",
              "    <tr>\n",
              "      <th>1</th>\n",
              "      <td>1</td>\n",
              "      <td>0</td>\n",
              "      <td>2016-01-01</td>\n",
              "      <td>0.0</td>\n",
              "    </tr>\n",
              "    <tr>\n",
              "      <th>2</th>\n",
              "      <td>2</td>\n",
              "      <td>0</td>\n",
              "      <td>2016-01-01</td>\n",
              "      <td>0.0</td>\n",
              "    </tr>\n",
              "    <tr>\n",
              "      <th>3</th>\n",
              "      <td>3</td>\n",
              "      <td>0</td>\n",
              "      <td>2016-01-01</td>\n",
              "      <td>0.0</td>\n",
              "    </tr>\n",
              "    <tr>\n",
              "      <th>4</th>\n",
              "      <td>4</td>\n",
              "      <td>0</td>\n",
              "      <td>2016-01-01</td>\n",
              "      <td>0.0</td>\n",
              "    </tr>\n",
              "  </tbody>\n",
              "</table>\n",
              "</div>"
            ]
          },
          "metadata": {
            "tags": []
          },
          "execution_count": 142
        }
      ]
    },
    {
      "cell_type": "code",
      "metadata": {
        "trusted": true,
        "id": "j-eZhl3cUtDH",
        "colab_type": "code",
        "colab": {},
        "outputId": "0b877fc0-140e-475c-eb98-96a63b5e8e4c"
      },
      "source": [
        "meta.head()"
      ],
      "execution_count": 0,
      "outputs": [
        {
          "output_type": "execute_result",
          "data": {
            "text/plain": [
              "   Education  Entertainment/public assembly  Lodging/residential  Office  \\\n",
              "0          1                              0                    0       0   \n",
              "1          1                              0                    0       0   \n",
              "2          1                              0                    0       0   \n",
              "3          1                              0                    0       0   \n",
              "4          1                              0                    0       0   \n",
              "\n",
              "   Public services  other  site_id  building_id primary_use  square_feet  \n",
              "0                0      0        0            0   Education     8.913550  \n",
              "1                0      0        0            1   Education     7.908387  \n",
              "2                0      0        0            2   Education     8.589700  \n",
              "3                0      0        0            3   Education    10.072597  \n",
              "4                0      0        0            4   Education    11.666565  "
            ],
            "text/html": [
              "<div>\n",
              "<style scoped>\n",
              "    .dataframe tbody tr th:only-of-type {\n",
              "        vertical-align: middle;\n",
              "    }\n",
              "\n",
              "    .dataframe tbody tr th {\n",
              "        vertical-align: top;\n",
              "    }\n",
              "\n",
              "    .dataframe thead th {\n",
              "        text-align: right;\n",
              "    }\n",
              "</style>\n",
              "<table border=\"1\" class=\"dataframe\">\n",
              "  <thead>\n",
              "    <tr style=\"text-align: right;\">\n",
              "      <th></th>\n",
              "      <th>Education</th>\n",
              "      <th>Entertainment/public assembly</th>\n",
              "      <th>Lodging/residential</th>\n",
              "      <th>Office</th>\n",
              "      <th>Public services</th>\n",
              "      <th>other</th>\n",
              "      <th>site_id</th>\n",
              "      <th>building_id</th>\n",
              "      <th>primary_use</th>\n",
              "      <th>square_feet</th>\n",
              "    </tr>\n",
              "  </thead>\n",
              "  <tbody>\n",
              "    <tr>\n",
              "      <th>0</th>\n",
              "      <td>1</td>\n",
              "      <td>0</td>\n",
              "      <td>0</td>\n",
              "      <td>0</td>\n",
              "      <td>0</td>\n",
              "      <td>0</td>\n",
              "      <td>0</td>\n",
              "      <td>0</td>\n",
              "      <td>Education</td>\n",
              "      <td>8.913550</td>\n",
              "    </tr>\n",
              "    <tr>\n",
              "      <th>1</th>\n",
              "      <td>1</td>\n",
              "      <td>0</td>\n",
              "      <td>0</td>\n",
              "      <td>0</td>\n",
              "      <td>0</td>\n",
              "      <td>0</td>\n",
              "      <td>0</td>\n",
              "      <td>1</td>\n",
              "      <td>Education</td>\n",
              "      <td>7.908387</td>\n",
              "    </tr>\n",
              "    <tr>\n",
              "      <th>2</th>\n",
              "      <td>1</td>\n",
              "      <td>0</td>\n",
              "      <td>0</td>\n",
              "      <td>0</td>\n",
              "      <td>0</td>\n",
              "      <td>0</td>\n",
              "      <td>0</td>\n",
              "      <td>2</td>\n",
              "      <td>Education</td>\n",
              "      <td>8.589700</td>\n",
              "    </tr>\n",
              "    <tr>\n",
              "      <th>3</th>\n",
              "      <td>1</td>\n",
              "      <td>0</td>\n",
              "      <td>0</td>\n",
              "      <td>0</td>\n",
              "      <td>0</td>\n",
              "      <td>0</td>\n",
              "      <td>0</td>\n",
              "      <td>3</td>\n",
              "      <td>Education</td>\n",
              "      <td>10.072597</td>\n",
              "    </tr>\n",
              "    <tr>\n",
              "      <th>4</th>\n",
              "      <td>1</td>\n",
              "      <td>0</td>\n",
              "      <td>0</td>\n",
              "      <td>0</td>\n",
              "      <td>0</td>\n",
              "      <td>0</td>\n",
              "      <td>0</td>\n",
              "      <td>4</td>\n",
              "      <td>Education</td>\n",
              "      <td>11.666565</td>\n",
              "    </tr>\n",
              "  </tbody>\n",
              "</table>\n",
              "</div>"
            ]
          },
          "metadata": {
            "tags": []
          },
          "execution_count": 143
        }
      ]
    },
    {
      "cell_type": "code",
      "metadata": {
        "trusted": true,
        "id": "xcGohxe3UtDR",
        "colab_type": "code",
        "colab": {}
      },
      "source": [
        "meta.drop(\"primary_use\",axis=1,inplace=True)"
      ],
      "execution_count": 0,
      "outputs": []
    },
    {
      "cell_type": "code",
      "metadata": {
        "trusted": true,
        "id": "ZBCZU2euUtDX",
        "colab_type": "code",
        "colab": {},
        "outputId": "82814412-736f-4da9-f0bd-5d1eca3ba439"
      },
      "source": [
        "meta.head()"
      ],
      "execution_count": 0,
      "outputs": [
        {
          "output_type": "execute_result",
          "data": {
            "text/plain": [
              "   Education  Entertainment/public assembly  Lodging/residential  Office  \\\n",
              "0          1                              0                    0       0   \n",
              "1          1                              0                    0       0   \n",
              "2          1                              0                    0       0   \n",
              "3          1                              0                    0       0   \n",
              "4          1                              0                    0       0   \n",
              "\n",
              "   Public services  other  site_id  building_id  square_feet  \n",
              "0                0      0        0            0     8.913550  \n",
              "1                0      0        0            1     7.908387  \n",
              "2                0      0        0            2     8.589700  \n",
              "3                0      0        0            3    10.072597  \n",
              "4                0      0        0            4    11.666565  "
            ],
            "text/html": [
              "<div>\n",
              "<style scoped>\n",
              "    .dataframe tbody tr th:only-of-type {\n",
              "        vertical-align: middle;\n",
              "    }\n",
              "\n",
              "    .dataframe tbody tr th {\n",
              "        vertical-align: top;\n",
              "    }\n",
              "\n",
              "    .dataframe thead th {\n",
              "        text-align: right;\n",
              "    }\n",
              "</style>\n",
              "<table border=\"1\" class=\"dataframe\">\n",
              "  <thead>\n",
              "    <tr style=\"text-align: right;\">\n",
              "      <th></th>\n",
              "      <th>Education</th>\n",
              "      <th>Entertainment/public assembly</th>\n",
              "      <th>Lodging/residential</th>\n",
              "      <th>Office</th>\n",
              "      <th>Public services</th>\n",
              "      <th>other</th>\n",
              "      <th>site_id</th>\n",
              "      <th>building_id</th>\n",
              "      <th>square_feet</th>\n",
              "    </tr>\n",
              "  </thead>\n",
              "  <tbody>\n",
              "    <tr>\n",
              "      <th>0</th>\n",
              "      <td>1</td>\n",
              "      <td>0</td>\n",
              "      <td>0</td>\n",
              "      <td>0</td>\n",
              "      <td>0</td>\n",
              "      <td>0</td>\n",
              "      <td>0</td>\n",
              "      <td>0</td>\n",
              "      <td>8.913550</td>\n",
              "    </tr>\n",
              "    <tr>\n",
              "      <th>1</th>\n",
              "      <td>1</td>\n",
              "      <td>0</td>\n",
              "      <td>0</td>\n",
              "      <td>0</td>\n",
              "      <td>0</td>\n",
              "      <td>0</td>\n",
              "      <td>0</td>\n",
              "      <td>1</td>\n",
              "      <td>7.908387</td>\n",
              "    </tr>\n",
              "    <tr>\n",
              "      <th>2</th>\n",
              "      <td>1</td>\n",
              "      <td>0</td>\n",
              "      <td>0</td>\n",
              "      <td>0</td>\n",
              "      <td>0</td>\n",
              "      <td>0</td>\n",
              "      <td>0</td>\n",
              "      <td>2</td>\n",
              "      <td>8.589700</td>\n",
              "    </tr>\n",
              "    <tr>\n",
              "      <th>3</th>\n",
              "      <td>1</td>\n",
              "      <td>0</td>\n",
              "      <td>0</td>\n",
              "      <td>0</td>\n",
              "      <td>0</td>\n",
              "      <td>0</td>\n",
              "      <td>0</td>\n",
              "      <td>3</td>\n",
              "      <td>10.072597</td>\n",
              "    </tr>\n",
              "    <tr>\n",
              "      <th>4</th>\n",
              "      <td>1</td>\n",
              "      <td>0</td>\n",
              "      <td>0</td>\n",
              "      <td>0</td>\n",
              "      <td>0</td>\n",
              "      <td>0</td>\n",
              "      <td>0</td>\n",
              "      <td>4</td>\n",
              "      <td>11.666565</td>\n",
              "    </tr>\n",
              "  </tbody>\n",
              "</table>\n",
              "</div>"
            ]
          },
          "metadata": {
            "tags": []
          },
          "execution_count": 145
        }
      ]
    },
    {
      "cell_type": "code",
      "metadata": {
        "trusted": true,
        "id": "HMfl6U7dUtDh",
        "colab_type": "code",
        "colab": {}
      },
      "source": [
        "square_feet=(meta.square_feet-meta.square_feet.min())/(meta.square_feet.max()-meta.square_feet.min())"
      ],
      "execution_count": 0,
      "outputs": []
    },
    {
      "cell_type": "code",
      "metadata": {
        "trusted": true,
        "id": "lMR9mRdjUtDm",
        "colab_type": "code",
        "colab": {}
      },
      "source": [
        "meta.square_feet=square_feet"
      ],
      "execution_count": 0,
      "outputs": []
    },
    {
      "cell_type": "code",
      "metadata": {
        "trusted": true,
        "id": "hoWdVQi3UtD2",
        "colab_type": "code",
        "colab": {},
        "outputId": "443a74bd-7094-431d-b057-2db749282be6"
      },
      "source": [
        "meta.head()"
      ],
      "execution_count": 0,
      "outputs": [
        {
          "output_type": "execute_result",
          "data": {
            "text/plain": [
              "   Education  Entertainment/public assembly  Lodging/residential  Office  \\\n",
              "0          1                              0                    0       0   \n",
              "1          1                              0                    0       0   \n",
              "2          1                              0                    0       0   \n",
              "3          1                              0                    0       0   \n",
              "4          1                              0                    0       0   \n",
              "\n",
              "   Public services  other  site_id  building_id  square_feet  \n",
              "0                0      0        0            0     0.406656  \n",
              "1                0      0        0            1     0.281582  \n",
              "2                0      0        0            2     0.366359  \n",
              "3                0      0        0            3     0.550878  \n",
              "4                0      0        0            4     0.749218  "
            ],
            "text/html": [
              "<div>\n",
              "<style scoped>\n",
              "    .dataframe tbody tr th:only-of-type {\n",
              "        vertical-align: middle;\n",
              "    }\n",
              "\n",
              "    .dataframe tbody tr th {\n",
              "        vertical-align: top;\n",
              "    }\n",
              "\n",
              "    .dataframe thead th {\n",
              "        text-align: right;\n",
              "    }\n",
              "</style>\n",
              "<table border=\"1\" class=\"dataframe\">\n",
              "  <thead>\n",
              "    <tr style=\"text-align: right;\">\n",
              "      <th></th>\n",
              "      <th>Education</th>\n",
              "      <th>Entertainment/public assembly</th>\n",
              "      <th>Lodging/residential</th>\n",
              "      <th>Office</th>\n",
              "      <th>Public services</th>\n",
              "      <th>other</th>\n",
              "      <th>site_id</th>\n",
              "      <th>building_id</th>\n",
              "      <th>square_feet</th>\n",
              "    </tr>\n",
              "  </thead>\n",
              "  <tbody>\n",
              "    <tr>\n",
              "      <th>0</th>\n",
              "      <td>1</td>\n",
              "      <td>0</td>\n",
              "      <td>0</td>\n",
              "      <td>0</td>\n",
              "      <td>0</td>\n",
              "      <td>0</td>\n",
              "      <td>0</td>\n",
              "      <td>0</td>\n",
              "      <td>0.406656</td>\n",
              "    </tr>\n",
              "    <tr>\n",
              "      <th>1</th>\n",
              "      <td>1</td>\n",
              "      <td>0</td>\n",
              "      <td>0</td>\n",
              "      <td>0</td>\n",
              "      <td>0</td>\n",
              "      <td>0</td>\n",
              "      <td>0</td>\n",
              "      <td>1</td>\n",
              "      <td>0.281582</td>\n",
              "    </tr>\n",
              "    <tr>\n",
              "      <th>2</th>\n",
              "      <td>1</td>\n",
              "      <td>0</td>\n",
              "      <td>0</td>\n",
              "      <td>0</td>\n",
              "      <td>0</td>\n",
              "      <td>0</td>\n",
              "      <td>0</td>\n",
              "      <td>2</td>\n",
              "      <td>0.366359</td>\n",
              "    </tr>\n",
              "    <tr>\n",
              "      <th>3</th>\n",
              "      <td>1</td>\n",
              "      <td>0</td>\n",
              "      <td>0</td>\n",
              "      <td>0</td>\n",
              "      <td>0</td>\n",
              "      <td>0</td>\n",
              "      <td>0</td>\n",
              "      <td>3</td>\n",
              "      <td>0.550878</td>\n",
              "    </tr>\n",
              "    <tr>\n",
              "      <th>4</th>\n",
              "      <td>1</td>\n",
              "      <td>0</td>\n",
              "      <td>0</td>\n",
              "      <td>0</td>\n",
              "      <td>0</td>\n",
              "      <td>0</td>\n",
              "      <td>0</td>\n",
              "      <td>4</td>\n",
              "      <td>0.749218</td>\n",
              "    </tr>\n",
              "  </tbody>\n",
              "</table>\n",
              "</div>"
            ]
          },
          "metadata": {
            "tags": []
          },
          "execution_count": 148
        }
      ]
    },
    {
      "cell_type": "code",
      "metadata": {
        "trusted": true,
        "id": "fHsoZiDRUtD4",
        "colab_type": "code",
        "colab": {}
      },
      "source": [
        "result = train.merge(meta,on=['building_id'],how='left')"
      ],
      "execution_count": 0,
      "outputs": []
    },
    {
      "cell_type": "code",
      "metadata": {
        "trusted": true,
        "id": "GiJe0p_HUtD8",
        "colab_type": "code",
        "colab": {},
        "outputId": "ffd45e89-ca9c-4d1f-9a03-5d4d12629d7a"
      },
      "source": [
        "weather.dtypes"
      ],
      "execution_count": 0,
      "outputs": [
        {
          "output_type": "execute_result",
          "data": {
            "text/plain": [
              "site_id                        int64\n",
              "timestamp             datetime64[ns]\n",
              "sea_level_pressure           float64\n",
              "temperature                  float64\n",
              "wind                         float64\n",
              "dtype: object"
            ]
          },
          "metadata": {
            "tags": []
          },
          "execution_count": 150
        }
      ]
    },
    {
      "cell_type": "code",
      "metadata": {
        "trusted": true,
        "id": "mNlBlp8lUtD_",
        "colab_type": "code",
        "colab": {},
        "outputId": "3edd2f5a-da8f-4a3c-9c22-e8a798ca479f"
      },
      "source": [
        "result.dtypes"
      ],
      "execution_count": 0,
      "outputs": [
        {
          "output_type": "execute_result",
          "data": {
            "text/plain": [
              "building_id                               int64\n",
              "meter                                     int64\n",
              "timestamp                        datetime64[ns]\n",
              "meter_reading                           float64\n",
              "Education                                 uint8\n",
              "Entertainment/public assembly             uint8\n",
              "Lodging/residential                       uint8\n",
              "Office                                    uint8\n",
              "Public services                           uint8\n",
              "other                                     uint8\n",
              "site_id                                   int64\n",
              "square_feet                             float64\n",
              "dtype: object"
            ]
          },
          "metadata": {
            "tags": []
          },
          "execution_count": 151
        }
      ]
    },
    {
      "cell_type": "code",
      "metadata": {
        "trusted": true,
        "id": "6bCO1cS_UtEH",
        "colab_type": "code",
        "colab": {}
      },
      "source": [
        "result = result.merge(weather,on=['timestamp','site_id'],how='left')"
      ],
      "execution_count": 0,
      "outputs": []
    },
    {
      "cell_type": "code",
      "metadata": {
        "trusted": true,
        "id": "0gqNaBpEUtEJ",
        "colab_type": "code",
        "colab": {},
        "outputId": "5de7a14c-ecc6-41a2-f09c-bc69445287da"
      },
      "source": [
        "result.dtypes"
      ],
      "execution_count": 0,
      "outputs": [
        {
          "output_type": "execute_result",
          "data": {
            "text/plain": [
              "building_id                               int64\n",
              "meter                                     int64\n",
              "timestamp                        datetime64[ns]\n",
              "meter_reading                           float64\n",
              "Education                                 uint8\n",
              "Entertainment/public assembly             uint8\n",
              "Lodging/residential                       uint8\n",
              "Office                                    uint8\n",
              "Public services                           uint8\n",
              "other                                     uint8\n",
              "site_id                                   int64\n",
              "square_feet                             float64\n",
              "sea_level_pressure                      float64\n",
              "temperature                             float64\n",
              "wind                                    float64\n",
              "dtype: object"
            ]
          },
          "metadata": {
            "tags": []
          },
          "execution_count": 153
        }
      ]
    },
    {
      "cell_type": "code",
      "metadata": {
        "trusted": true,
        "id": "56tx_YmcUtEM",
        "colab_type": "code",
        "colab": {},
        "outputId": "e17db553-2f07-4c3d-8892-354ddd029122"
      },
      "source": [
        "result.shape"
      ],
      "execution_count": 0,
      "outputs": [
        {
          "output_type": "execute_result",
          "data": {
            "text/plain": [
              "(20216100, 15)"
            ]
          },
          "metadata": {
            "tags": []
          },
          "execution_count": 154
        }
      ]
    },
    {
      "cell_type": "code",
      "metadata": {
        "trusted": true,
        "id": "uuuIcVAJUtEQ",
        "colab_type": "code",
        "colab": {},
        "outputId": "fb598118-28ed-4494-9175-c517170e69ae"
      },
      "source": [
        "from keras.layers import Dense, Dropout, Flatten, LSTM, Embedding"
      ],
      "execution_count": 0,
      "outputs": [
        {
          "output_type": "stream",
          "text": [
            "Using TensorFlow backend.\n"
          ],
          "name": "stderr"
        }
      ]
    },
    {
      "cell_type": "code",
      "metadata": {
        "trusted": true,
        "id": "dFnkzOgjUtES",
        "colab_type": "code",
        "colab": {}
      },
      "source": [
        "result['meter_reading'] = np.log1p(result['meter_reading'])"
      ],
      "execution_count": 0,
      "outputs": []
    },
    {
      "cell_type": "code",
      "metadata": {
        "trusted": true,
        "id": "zRTd1rBcUtEU",
        "colab_type": "code",
        "colab": {},
        "outputId": "8eb83009-a4ff-42f9-e8c9-f74808860e57"
      },
      "source": [
        "result['meter_reading']"
      ],
      "execution_count": 0,
      "outputs": [
        {
          "output_type": "execute_result",
          "data": {
            "text/plain": [
              "0           0.000000\n",
              "1           0.000000\n",
              "2           0.000000\n",
              "3           0.000000\n",
              "4           0.000000\n",
              "              ...   \n",
              "20216095    2.277267\n",
              "20216096    1.762159\n",
              "20216097    0.000000\n",
              "20216098    5.078761\n",
              "20216099    1.348073\n",
              "Name: meter_reading, Length: 20216100, dtype: float64"
            ]
          },
          "metadata": {
            "tags": []
          },
          "execution_count": 157
        }
      ]
    },
    {
      "cell_type": "code",
      "metadata": {
        "trusted": true,
        "id": "gnOU9scIUtEV",
        "colab_type": "code",
        "colab": {}
      },
      "source": [
        "result['month'] = result['timestamp'].dt.month\n",
        "result['day'] = result['timestamp'].dt.weekday\n",
        "result['year'] = result['timestamp'].dt.year\n",
        "result['hour'] = result['timestamp'].dt.hour"
      ],
      "execution_count": 0,
      "outputs": []
    },
    {
      "cell_type": "code",
      "metadata": {
        "trusted": true,
        "id": "teaAjrMfUtEW",
        "colab_type": "code",
        "colab": {},
        "outputId": "4edc7a1b-8c5f-4a8b-b4db-518d2265ad0a"
      },
      "source": [
        "result.dtypes"
      ],
      "execution_count": 0,
      "outputs": [
        {
          "output_type": "execute_result",
          "data": {
            "text/plain": [
              "building_id                               int64\n",
              "meter                                     int64\n",
              "timestamp                        datetime64[ns]\n",
              "meter_reading                           float64\n",
              "Education                                 uint8\n",
              "Entertainment/public assembly             uint8\n",
              "Lodging/residential                       uint8\n",
              "Office                                    uint8\n",
              "Public services                           uint8\n",
              "other                                     uint8\n",
              "site_id                                   int64\n",
              "square_feet                             float64\n",
              "sea_level_pressure                      float64\n",
              "temperature                             float64\n",
              "wind                                    float64\n",
              "month                                     int64\n",
              "day                                       int64\n",
              "year                                      int64\n",
              "hour                                      int64\n",
              "dtype: object"
            ]
          },
          "metadata": {
            "tags": []
          },
          "execution_count": 159
        }
      ]
    },
    {
      "cell_type": "code",
      "metadata": {
        "trusted": true,
        "id": "Sep37mEVUtEY",
        "colab_type": "code",
        "colab": {}
      },
      "source": [
        "result.drop(\"timestamp\",axis=1,inplace=True)"
      ],
      "execution_count": 0,
      "outputs": []
    },
    {
      "cell_type": "code",
      "metadata": {
        "trusted": true,
        "id": "0JagA1YGUtEa",
        "colab_type": "code",
        "colab": {},
        "outputId": "6c1d3304-80ce-489a-8cba-f7b35a0a2e2a"
      },
      "source": [
        "result.dtypes"
      ],
      "execution_count": 0,
      "outputs": [
        {
          "output_type": "execute_result",
          "data": {
            "text/plain": [
              "building_id                        int64\n",
              "meter                              int64\n",
              "meter_reading                    float64\n",
              "Education                          uint8\n",
              "Entertainment/public assembly      uint8\n",
              "Lodging/residential                uint8\n",
              "Office                             uint8\n",
              "Public services                    uint8\n",
              "other                              uint8\n",
              "site_id                            int64\n",
              "square_feet                      float64\n",
              "sea_level_pressure               float64\n",
              "temperature                      float64\n",
              "wind                             float64\n",
              "month                              int64\n",
              "day                                int64\n",
              "year                               int64\n",
              "hour                               int64\n",
              "dtype: object"
            ]
          },
          "metadata": {
            "tags": []
          },
          "execution_count": 161
        }
      ]
    },
    {
      "cell_type": "code",
      "metadata": {
        "trusted": true,
        "id": "-P0GvTouUtEd",
        "colab_type": "code",
        "colab": {}
      },
      "source": [
        "result.drop(\"building_id\",axis=1,inplace=True)"
      ],
      "execution_count": 0,
      "outputs": []
    },
    {
      "cell_type": "code",
      "metadata": {
        "trusted": true,
        "id": "TCdUo9tmUtEf",
        "colab_type": "code",
        "colab": {},
        "outputId": "88ed2e90-1e28-4791-fd9d-5c84eed4d97d"
      },
      "source": [
        "result.isnull().sum()"
      ],
      "execution_count": 0,
      "outputs": [
        {
          "output_type": "execute_result",
          "data": {
            "text/plain": [
              "meter                                0\n",
              "meter_reading                        0\n",
              "Education                            0\n",
              "Entertainment/public assembly        0\n",
              "Lodging/residential                  0\n",
              "Office                               0\n",
              "Public services                      0\n",
              "other                                0\n",
              "site_id                              0\n",
              "square_feet                          0\n",
              "sea_level_pressure               90495\n",
              "temperature                      90495\n",
              "wind                             90495\n",
              "month                                0\n",
              "day                                  0\n",
              "year                                 0\n",
              "hour                                 0\n",
              "dtype: int64"
            ]
          },
          "metadata": {
            "tags": []
          },
          "execution_count": 163
        }
      ]
    },
    {
      "cell_type": "code",
      "metadata": {
        "trusted": true,
        "id": "sMzE8bn1UtEh",
        "colab_type": "code",
        "colab": {}
      },
      "source": [
        ""
      ],
      "execution_count": 0,
      "outputs": []
    },
    {
      "cell_type": "code",
      "metadata": {
        "trusted": true,
        "id": "Z9vvn8vSUtEi",
        "colab_type": "code",
        "colab": {},
        "outputId": "c3ee8d97-e5bf-4c53-cdae-de335ad00ee9"
      },
      "source": [
        "result.dtypes"
      ],
      "execution_count": 0,
      "outputs": [
        {
          "output_type": "execute_result",
          "data": {
            "text/plain": [
              "meter                              int64\n",
              "meter_reading                    float64\n",
              "Education                          uint8\n",
              "Entertainment/public assembly      uint8\n",
              "Lodging/residential                uint8\n",
              "Office                             uint8\n",
              "Public services                    uint8\n",
              "other                              uint8\n",
              "site_id                            int64\n",
              "square_feet                      float64\n",
              "sea_level_pressure               float64\n",
              "temperature                      float64\n",
              "wind                             float64\n",
              "month                              int64\n",
              "day                                int64\n",
              "year                               int64\n",
              "hour                               int64\n",
              "dtype: object"
            ]
          },
          "metadata": {
            "tags": []
          },
          "execution_count": 164
        }
      ]
    },
    {
      "cell_type": "code",
      "metadata": {
        "trusted": true,
        "id": "qxwI-8TIUtEk",
        "colab_type": "code",
        "colab": {}
      },
      "source": [
        "x = result[['meter','Education','Office','Public services','other','square_feet','sea_level_pressure','temperature','wind','month','day','hour','site_id','Entertainment/public assembly','Lodging/residential']]"
      ],
      "execution_count": 0,
      "outputs": []
    },
    {
      "cell_type": "code",
      "metadata": {
        "trusted": true,
        "id": "lEfI8_qiUtEm",
        "colab_type": "code",
        "colab": {},
        "outputId": "131e283b-d9f6-4c55-dbf5-3582188f8ff5"
      },
      "source": [
        "x.head()"
      ],
      "execution_count": 0,
      "outputs": [
        {
          "output_type": "execute_result",
          "data": {
            "text/plain": [
              "   meter  Education  Office  Public services  other  square_feet  \\\n",
              "0      0          1       0                0      0     0.406656   \n",
              "1      0          1       0                0      0     0.281582   \n",
              "2      0          1       0                0      0     0.366359   \n",
              "3      0          1       0                0      0     0.550878   \n",
              "4      0          1       0                0      0     0.749218   \n",
              "\n",
              "   sea_level_pressure  temperature      wind  month  day  hour  site_id  \\\n",
              "0            0.666235    -0.247954 -0.525354      1    4     0        0   \n",
              "1            0.666235    -0.247954 -0.525354      1    4     0        0   \n",
              "2            0.666235    -0.247954 -0.525354      1    4     0        0   \n",
              "3            0.666235    -0.247954 -0.525354      1    4     0        0   \n",
              "4            0.666235    -0.247954 -0.525354      1    4     0        0   \n",
              "\n",
              "   Entertainment/public assembly  Lodging/residential  \n",
              "0                              0                    0  \n",
              "1                              0                    0  \n",
              "2                              0                    0  \n",
              "3                              0                    0  \n",
              "4                              0                    0  "
            ],
            "text/html": [
              "<div>\n",
              "<style scoped>\n",
              "    .dataframe tbody tr th:only-of-type {\n",
              "        vertical-align: middle;\n",
              "    }\n",
              "\n",
              "    .dataframe tbody tr th {\n",
              "        vertical-align: top;\n",
              "    }\n",
              "\n",
              "    .dataframe thead th {\n",
              "        text-align: right;\n",
              "    }\n",
              "</style>\n",
              "<table border=\"1\" class=\"dataframe\">\n",
              "  <thead>\n",
              "    <tr style=\"text-align: right;\">\n",
              "      <th></th>\n",
              "      <th>meter</th>\n",
              "      <th>Education</th>\n",
              "      <th>Office</th>\n",
              "      <th>Public services</th>\n",
              "      <th>other</th>\n",
              "      <th>square_feet</th>\n",
              "      <th>sea_level_pressure</th>\n",
              "      <th>temperature</th>\n",
              "      <th>wind</th>\n",
              "      <th>month</th>\n",
              "      <th>day</th>\n",
              "      <th>hour</th>\n",
              "      <th>site_id</th>\n",
              "      <th>Entertainment/public assembly</th>\n",
              "      <th>Lodging/residential</th>\n",
              "    </tr>\n",
              "  </thead>\n",
              "  <tbody>\n",
              "    <tr>\n",
              "      <th>0</th>\n",
              "      <td>0</td>\n",
              "      <td>1</td>\n",
              "      <td>0</td>\n",
              "      <td>0</td>\n",
              "      <td>0</td>\n",
              "      <td>0.406656</td>\n",
              "      <td>0.666235</td>\n",
              "      <td>-0.247954</td>\n",
              "      <td>-0.525354</td>\n",
              "      <td>1</td>\n",
              "      <td>4</td>\n",
              "      <td>0</td>\n",
              "      <td>0</td>\n",
              "      <td>0</td>\n",
              "      <td>0</td>\n",
              "    </tr>\n",
              "    <tr>\n",
              "      <th>1</th>\n",
              "      <td>0</td>\n",
              "      <td>1</td>\n",
              "      <td>0</td>\n",
              "      <td>0</td>\n",
              "      <td>0</td>\n",
              "      <td>0.281582</td>\n",
              "      <td>0.666235</td>\n",
              "      <td>-0.247954</td>\n",
              "      <td>-0.525354</td>\n",
              "      <td>1</td>\n",
              "      <td>4</td>\n",
              "      <td>0</td>\n",
              "      <td>0</td>\n",
              "      <td>0</td>\n",
              "      <td>0</td>\n",
              "    </tr>\n",
              "    <tr>\n",
              "      <th>2</th>\n",
              "      <td>0</td>\n",
              "      <td>1</td>\n",
              "      <td>0</td>\n",
              "      <td>0</td>\n",
              "      <td>0</td>\n",
              "      <td>0.366359</td>\n",
              "      <td>0.666235</td>\n",
              "      <td>-0.247954</td>\n",
              "      <td>-0.525354</td>\n",
              "      <td>1</td>\n",
              "      <td>4</td>\n",
              "      <td>0</td>\n",
              "      <td>0</td>\n",
              "      <td>0</td>\n",
              "      <td>0</td>\n",
              "    </tr>\n",
              "    <tr>\n",
              "      <th>3</th>\n",
              "      <td>0</td>\n",
              "      <td>1</td>\n",
              "      <td>0</td>\n",
              "      <td>0</td>\n",
              "      <td>0</td>\n",
              "      <td>0.550878</td>\n",
              "      <td>0.666235</td>\n",
              "      <td>-0.247954</td>\n",
              "      <td>-0.525354</td>\n",
              "      <td>1</td>\n",
              "      <td>4</td>\n",
              "      <td>0</td>\n",
              "      <td>0</td>\n",
              "      <td>0</td>\n",
              "      <td>0</td>\n",
              "    </tr>\n",
              "    <tr>\n",
              "      <th>4</th>\n",
              "      <td>0</td>\n",
              "      <td>1</td>\n",
              "      <td>0</td>\n",
              "      <td>0</td>\n",
              "      <td>0</td>\n",
              "      <td>0.749218</td>\n",
              "      <td>0.666235</td>\n",
              "      <td>-0.247954</td>\n",
              "      <td>-0.525354</td>\n",
              "      <td>1</td>\n",
              "      <td>4</td>\n",
              "      <td>0</td>\n",
              "      <td>0</td>\n",
              "      <td>0</td>\n",
              "      <td>0</td>\n",
              "    </tr>\n",
              "  </tbody>\n",
              "</table>\n",
              "</div>"
            ]
          },
          "metadata": {
            "tags": []
          },
          "execution_count": 166
        }
      ]
    },
    {
      "cell_type": "code",
      "metadata": {
        "trusted": true,
        "id": "_VAH315bUtEn",
        "colab_type": "code",
        "colab": {},
        "outputId": "20909db9-e50e-495b-d5de-f1f162894e02"
      },
      "source": [
        "x.dtypes"
      ],
      "execution_count": 0,
      "outputs": [
        {
          "output_type": "execute_result",
          "data": {
            "text/plain": [
              "meter                              int64\n",
              "Education                          uint8\n",
              "Office                             uint8\n",
              "Public services                    uint8\n",
              "other                              uint8\n",
              "square_feet                      float64\n",
              "sea_level_pressure               float64\n",
              "temperature                      float64\n",
              "wind                             float64\n",
              "month                              int64\n",
              "day                                int64\n",
              "hour                               int64\n",
              "site_id                            int64\n",
              "Entertainment/public assembly      uint8\n",
              "Lodging/residential                uint8\n",
              "dtype: object"
            ]
          },
          "metadata": {
            "tags": []
          },
          "execution_count": 167
        }
      ]
    },
    {
      "cell_type": "code",
      "metadata": {
        "trusted": true,
        "id": "aISw9kkDUtEp",
        "colab_type": "code",
        "colab": {},
        "outputId": "582b49b3-e863-4c05-f2bb-e6787ccd9546"
      },
      "source": [
        "x['Lodging/residential'] = x['Lodging/residential'].apply(pd.to_numeric, errors='ignore')"
      ],
      "execution_count": 0,
      "outputs": [
        {
          "output_type": "stream",
          "text": [
            "/opt/conda/lib/python3.6/site-packages/ipykernel_launcher.py:1: SettingWithCopyWarning: \n",
            "A value is trying to be set on a copy of a slice from a DataFrame.\n",
            "Try using .loc[row_indexer,col_indexer] = value instead\n",
            "\n",
            "See the caveats in the documentation: http://pandas.pydata.org/pandas-docs/stable/user_guide/indexing.html#returning-a-view-versus-a-copy\n",
            "  \"\"\"Entry point for launching an IPython kernel.\n"
          ],
          "name": "stderr"
        }
      ]
    },
    {
      "cell_type": "code",
      "metadata": {
        "trusted": true,
        "id": "rLEt31r8UtEr",
        "colab_type": "code",
        "colab": {},
        "outputId": "8c6cf935-db07-4655-fabe-351dfbb1b307"
      },
      "source": [
        "x.isnull().any()"
      ],
      "execution_count": 0,
      "outputs": [
        {
          "output_type": "execute_result",
          "data": {
            "text/plain": [
              "meter                            False\n",
              "Education                        False\n",
              "Office                           False\n",
              "Public services                  False\n",
              "other                            False\n",
              "square_feet                      False\n",
              "sea_level_pressure                True\n",
              "temperature                       True\n",
              "wind                              True\n",
              "month                            False\n",
              "day                              False\n",
              "hour                             False\n",
              "site_id                          False\n",
              "Entertainment/public assembly    False\n",
              "Lodging/residential              False\n",
              "dtype: bool"
            ]
          },
          "metadata": {
            "tags": []
          },
          "execution_count": 169
        }
      ]
    },
    {
      "cell_type": "code",
      "metadata": {
        "trusted": true,
        "id": "bRZl4gFnUtEv",
        "colab_type": "code",
        "colab": {},
        "outputId": "b9cb8904-855a-4064-eea7-b27a1f045662"
      },
      "source": [
        "x['temperature'] = x['temperature'].replace(np.nan,x.temperature.mean())"
      ],
      "execution_count": 0,
      "outputs": [
        {
          "output_type": "stream",
          "text": [
            "/opt/conda/lib/python3.6/site-packages/ipykernel_launcher.py:1: SettingWithCopyWarning: \n",
            "A value is trying to be set on a copy of a slice from a DataFrame.\n",
            "Try using .loc[row_indexer,col_indexer] = value instead\n",
            "\n",
            "See the caveats in the documentation: http://pandas.pydata.org/pandas-docs/stable/user_guide/indexing.html#returning-a-view-versus-a-copy\n",
            "  \"\"\"Entry point for launching an IPython kernel.\n"
          ],
          "name": "stderr"
        }
      ]
    },
    {
      "cell_type": "code",
      "metadata": {
        "trusted": true,
        "id": "LrHju7QoUtEx",
        "colab_type": "code",
        "colab": {},
        "outputId": "6d2dbde7-fc4e-4c35-e778-c3904ff79a48"
      },
      "source": [
        "x.isnull().any()"
      ],
      "execution_count": 0,
      "outputs": [
        {
          "output_type": "execute_result",
          "data": {
            "text/plain": [
              "meter                            False\n",
              "Education                        False\n",
              "Office                           False\n",
              "Public services                  False\n",
              "other                            False\n",
              "square_feet                      False\n",
              "sea_level_pressure                True\n",
              "temperature                      False\n",
              "wind                              True\n",
              "month                            False\n",
              "day                              False\n",
              "hour                             False\n",
              "site_id                          False\n",
              "Entertainment/public assembly    False\n",
              "Lodging/residential              False\n",
              "dtype: bool"
            ]
          },
          "metadata": {
            "tags": []
          },
          "execution_count": 171
        }
      ]
    },
    {
      "cell_type": "code",
      "metadata": {
        "trusted": true,
        "id": "48QkhN6PUtE0",
        "colab_type": "code",
        "colab": {},
        "outputId": "bde0ef1a-c217-4f9c-f3f6-f651c5057215"
      },
      "source": [
        "x['wind'] = x['wind'].replace(np.nan,x.temperature.mean())"
      ],
      "execution_count": 0,
      "outputs": [
        {
          "output_type": "stream",
          "text": [
            "/opt/conda/lib/python3.6/site-packages/ipykernel_launcher.py:1: SettingWithCopyWarning: \n",
            "A value is trying to be set on a copy of a slice from a DataFrame.\n",
            "Try using .loc[row_indexer,col_indexer] = value instead\n",
            "\n",
            "See the caveats in the documentation: http://pandas.pydata.org/pandas-docs/stable/user_guide/indexing.html#returning-a-view-versus-a-copy\n",
            "  \"\"\"Entry point for launching an IPython kernel.\n"
          ],
          "name": "stderr"
        }
      ]
    },
    {
      "cell_type": "code",
      "metadata": {
        "trusted": true,
        "id": "HQehj6oKUtE1",
        "colab_type": "code",
        "colab": {},
        "outputId": "0b8bded1-539c-4f4c-849e-d9786b2d03e0"
      },
      "source": [
        "x['sea_level_pressure'] = x['sea_level_pressure'].replace(np.nan,x.temperature.mean())"
      ],
      "execution_count": 0,
      "outputs": [
        {
          "output_type": "stream",
          "text": [
            "/opt/conda/lib/python3.6/site-packages/ipykernel_launcher.py:1: SettingWithCopyWarning: \n",
            "A value is trying to be set on a copy of a slice from a DataFrame.\n",
            "Try using .loc[row_indexer,col_indexer] = value instead\n",
            "\n",
            "See the caveats in the documentation: http://pandas.pydata.org/pandas-docs/stable/user_guide/indexing.html#returning-a-view-versus-a-copy\n",
            "  \"\"\"Entry point for launching an IPython kernel.\n"
          ],
          "name": "stderr"
        }
      ]
    },
    {
      "cell_type": "code",
      "metadata": {
        "trusted": true,
        "id": "qUQ3u8i9UtE3",
        "colab_type": "code",
        "colab": {},
        "outputId": "6e2b8b9b-a5d3-4c68-db47-12bd220e7a63"
      },
      "source": [
        "x.isnull().any()"
      ],
      "execution_count": 0,
      "outputs": [
        {
          "output_type": "execute_result",
          "data": {
            "text/plain": [
              "meter                            False\n",
              "Education                        False\n",
              "Office                           False\n",
              "Public services                  False\n",
              "other                            False\n",
              "square_feet                      False\n",
              "sea_level_pressure               False\n",
              "temperature                      False\n",
              "wind                             False\n",
              "month                            False\n",
              "day                              False\n",
              "hour                             False\n",
              "site_id                          False\n",
              "Entertainment/public assembly    False\n",
              "Lodging/residential              False\n",
              "dtype: bool"
            ]
          },
          "metadata": {
            "tags": []
          },
          "execution_count": 174
        }
      ]
    },
    {
      "cell_type": "code",
      "metadata": {
        "trusted": true,
        "id": "RxPbgU38UtE6",
        "colab_type": "code",
        "colab": {},
        "outputId": "326fde54-e154-4724-f844-d72d1fff56ae"
      },
      "source": [
        "x.dtypes"
      ],
      "execution_count": 0,
      "outputs": [
        {
          "output_type": "execute_result",
          "data": {
            "text/plain": [
              "meter                              int64\n",
              "Education                          uint8\n",
              "Office                             uint8\n",
              "Public services                    uint8\n",
              "other                              uint8\n",
              "square_feet                      float64\n",
              "sea_level_pressure               float64\n",
              "temperature                      float64\n",
              "wind                             float64\n",
              "month                              int64\n",
              "day                                int64\n",
              "hour                               int64\n",
              "site_id                            int64\n",
              "Entertainment/public assembly      uint8\n",
              "Lodging/residential                int64\n",
              "dtype: object"
            ]
          },
          "metadata": {
            "tags": []
          },
          "execution_count": 175
        }
      ]
    },
    {
      "cell_type": "code",
      "metadata": {
        "trusted": true,
        "id": "yPA7RbWyUtE-",
        "colab_type": "code",
        "colab": {},
        "outputId": "298b9300-d0af-4945-946f-7a8bdebc98b5"
      },
      "source": [
        "x['Entertainment/public assembly'] = x['Entertainment/public assembly'].apply(pd.to_numeric, errors='ignore')"
      ],
      "execution_count": 0,
      "outputs": [
        {
          "output_type": "stream",
          "text": [
            "/opt/conda/lib/python3.6/site-packages/ipykernel_launcher.py:1: SettingWithCopyWarning: \n",
            "A value is trying to be set on a copy of a slice from a DataFrame.\n",
            "Try using .loc[row_indexer,col_indexer] = value instead\n",
            "\n",
            "See the caveats in the documentation: http://pandas.pydata.org/pandas-docs/stable/user_guide/indexing.html#returning-a-view-versus-a-copy\n",
            "  \"\"\"Entry point for launching an IPython kernel.\n"
          ],
          "name": "stderr"
        }
      ]
    },
    {
      "cell_type": "code",
      "metadata": {
        "trusted": true,
        "id": "dZVWh0iaUtE_",
        "colab_type": "code",
        "colab": {},
        "outputId": "234926cf-b3ed-4bd5-c87b-dc3550d597b8"
      },
      "source": [
        "x['other'] = x['other'].apply(pd.to_numeric, errors='ignore')"
      ],
      "execution_count": 0,
      "outputs": [
        {
          "output_type": "stream",
          "text": [
            "/opt/conda/lib/python3.6/site-packages/ipykernel_launcher.py:1: SettingWithCopyWarning: \n",
            "A value is trying to be set on a copy of a slice from a DataFrame.\n",
            "Try using .loc[row_indexer,col_indexer] = value instead\n",
            "\n",
            "See the caveats in the documentation: http://pandas.pydata.org/pandas-docs/stable/user_guide/indexing.html#returning-a-view-versus-a-copy\n",
            "  \"\"\"Entry point for launching an IPython kernel.\n"
          ],
          "name": "stderr"
        }
      ]
    },
    {
      "cell_type": "code",
      "metadata": {
        "trusted": true,
        "id": "OcGD9CnlUtFC",
        "colab_type": "code",
        "colab": {},
        "outputId": "7eb955a1-b0a3-45fe-b721-cc3fe6f9824d"
      },
      "source": [
        "x['Public services'] = x['Public services'].apply(pd.to_numeric,errors='ignore')"
      ],
      "execution_count": 0,
      "outputs": [
        {
          "output_type": "stream",
          "text": [
            "/opt/conda/lib/python3.6/site-packages/ipykernel_launcher.py:1: SettingWithCopyWarning: \n",
            "A value is trying to be set on a copy of a slice from a DataFrame.\n",
            "Try using .loc[row_indexer,col_indexer] = value instead\n",
            "\n",
            "See the caveats in the documentation: http://pandas.pydata.org/pandas-docs/stable/user_guide/indexing.html#returning-a-view-versus-a-copy\n",
            "  \"\"\"Entry point for launching an IPython kernel.\n"
          ],
          "name": "stderr"
        }
      ]
    },
    {
      "cell_type": "code",
      "metadata": {
        "trusted": true,
        "id": "wcil_-wkUtFH",
        "colab_type": "code",
        "colab": {},
        "outputId": "4414adc5-9243-41dc-e126-6fbb16c5725b"
      },
      "source": [
        "x['Office'] = x['Office'].apply(pd.to_numeric, errors='ignore')"
      ],
      "execution_count": 0,
      "outputs": [
        {
          "output_type": "stream",
          "text": [
            "/opt/conda/lib/python3.6/site-packages/ipykernel_launcher.py:1: SettingWithCopyWarning: \n",
            "A value is trying to be set on a copy of a slice from a DataFrame.\n",
            "Try using .loc[row_indexer,col_indexer] = value instead\n",
            "\n",
            "See the caveats in the documentation: http://pandas.pydata.org/pandas-docs/stable/user_guide/indexing.html#returning-a-view-versus-a-copy\n",
            "  \"\"\"Entry point for launching an IPython kernel.\n"
          ],
          "name": "stderr"
        }
      ]
    },
    {
      "cell_type": "code",
      "metadata": {
        "trusted": true,
        "id": "iSURl-TSUtFI",
        "colab_type": "code",
        "colab": {},
        "outputId": "5c7d4bfb-7eac-490e-8314-dad9b5fff75c"
      },
      "source": [
        "x['Education'] = x['Education'].apply(pd.to_numeric, errors='ignore')"
      ],
      "execution_count": 0,
      "outputs": [
        {
          "output_type": "stream",
          "text": [
            "/opt/conda/lib/python3.6/site-packages/ipykernel_launcher.py:1: SettingWithCopyWarning: \n",
            "A value is trying to be set on a copy of a slice from a DataFrame.\n",
            "Try using .loc[row_indexer,col_indexer] = value instead\n",
            "\n",
            "See the caveats in the documentation: http://pandas.pydata.org/pandas-docs/stable/user_guide/indexing.html#returning-a-view-versus-a-copy\n",
            "  \"\"\"Entry point for launching an IPython kernel.\n"
          ],
          "name": "stderr"
        }
      ]
    },
    {
      "cell_type": "code",
      "metadata": {
        "trusted": true,
        "id": "UC12dL_gUtFJ",
        "colab_type": "code",
        "colab": {},
        "outputId": "b23eac8a-a991-4788-b879-c4edc2b825f5"
      },
      "source": [
        "x.isnull().any()"
      ],
      "execution_count": 0,
      "outputs": [
        {
          "output_type": "execute_result",
          "data": {
            "text/plain": [
              "meter                            False\n",
              "Education                        False\n",
              "Office                           False\n",
              "Public services                  False\n",
              "other                            False\n",
              "square_feet                      False\n",
              "sea_level_pressure               False\n",
              "temperature                      False\n",
              "wind                             False\n",
              "month                            False\n",
              "day                              False\n",
              "hour                             False\n",
              "site_id                          False\n",
              "Entertainment/public assembly    False\n",
              "Lodging/residential              False\n",
              "dtype: bool"
            ]
          },
          "metadata": {
            "tags": []
          },
          "execution_count": 182
        }
      ]
    },
    {
      "cell_type": "code",
      "metadata": {
        "trusted": true,
        "id": "kwIHTAjjUtFK",
        "colab_type": "code",
        "colab": {},
        "outputId": "461b45d9-c9e7-4b6f-cd57-9af905b8e377"
      },
      "source": [
        "x.dtypes"
      ],
      "execution_count": 0,
      "outputs": [
        {
          "output_type": "execute_result",
          "data": {
            "text/plain": [
              "meter                              int64\n",
              "Education                          int64\n",
              "Office                             int64\n",
              "Public services                    int64\n",
              "other                              int64\n",
              "square_feet                      float64\n",
              "sea_level_pressure               float64\n",
              "temperature                      float64\n",
              "wind                             float64\n",
              "month                              int64\n",
              "day                                int64\n",
              "hour                               int64\n",
              "site_id                            int64\n",
              "Entertainment/public assembly      int64\n",
              "Lodging/residential                int64\n",
              "dtype: object"
            ]
          },
          "metadata": {
            "tags": []
          },
          "execution_count": 183
        }
      ]
    },
    {
      "cell_type": "code",
      "metadata": {
        "trusted": true,
        "id": "p5onhClQUtFL",
        "colab_type": "code",
        "colab": {}
      },
      "source": [
        ""
      ],
      "execution_count": 0,
      "outputs": []
    },
    {
      "cell_type": "code",
      "metadata": {
        "trusted": true,
        "id": "b5DA_tSFUtFM",
        "colab_type": "code",
        "colab": {}
      },
      "source": [
        "y = result[['meter_reading']]"
      ],
      "execution_count": 0,
      "outputs": []
    },
    {
      "cell_type": "code",
      "metadata": {
        "trusted": true,
        "id": "FGVM45DzUtFQ",
        "colab_type": "code",
        "colab": {},
        "outputId": "aa47953f-d04f-4be1-ce90-3154a45580b1"
      },
      "source": [
        "y.dtypes"
      ],
      "execution_count": 0,
      "outputs": [
        {
          "output_type": "execute_result",
          "data": {
            "text/plain": [
              "meter_reading    float64\n",
              "dtype: object"
            ]
          },
          "metadata": {
            "tags": []
          },
          "execution_count": 185
        }
      ]
    },
    {
      "cell_type": "code",
      "metadata": {
        "trusted": true,
        "id": "SnHCKoRPUtFR",
        "colab_type": "code",
        "colab": {},
        "outputId": "e5fd5f8b-aaac-4786-99cd-c56053cc7605"
      },
      "source": [
        "y.isnull().any()"
      ],
      "execution_count": 0,
      "outputs": [
        {
          "output_type": "execute_result",
          "data": {
            "text/plain": [
              "meter_reading    False\n",
              "dtype: bool"
            ]
          },
          "metadata": {
            "tags": []
          },
          "execution_count": 186
        }
      ]
    },
    {
      "cell_type": "code",
      "metadata": {
        "trusted": true,
        "id": "SvDgB268UtFT",
        "colab_type": "code",
        "colab": {}
      },
      "source": [
        "from sklearn.model_selection import train_test_split\n",
        "tra_X, te_X, tra_y, te_y = train_test_split(x,y, test_size=0.3, random_state=42)"
      ],
      "execution_count": 0,
      "outputs": []
    },
    {
      "cell_type": "code",
      "metadata": {
        "trusted": true,
        "id": "7dPHDKVnUtFU",
        "colab_type": "code",
        "colab": {}
      },
      "source": [
        "train_X = tra_X.values\n",
        "train_y = tra_y.values\n",
        "test_X = te_X.values\n",
        "test_y = te_y.values\n"
      ],
      "execution_count": 0,
      "outputs": []
    },
    {
      "cell_type": "code",
      "metadata": {
        "trusted": true,
        "id": "6tueDQK3UtFb",
        "colab_type": "code",
        "colab": {},
        "outputId": "6df9ef04-b2d8-4e0f-a253-fa8095513d16"
      },
      "source": [
        "print(train_X)"
      ],
      "execution_count": 0,
      "outputs": [
        {
          "output_type": "stream",
          "text": [
            "[[0. 0. 1. ... 1. 0. 0.]\n",
            " [0. 1. 0. ... 9. 0. 0.]\n",
            " [1. 0. 1. ... 2. 0. 0.]\n",
            " ...\n",
            " [0. 1. 0. ... 5. 0. 0.]\n",
            " [1. 0. 1. ... 9. 0. 0.]\n",
            " [0. 0. 0. ... 3. 1. 0.]]\n"
          ],
          "name": "stdout"
        }
      ]
    },
    {
      "cell_type": "code",
      "metadata": {
        "trusted": true,
        "id": "quK7eUiRUtFf",
        "colab_type": "code",
        "colab": {},
        "outputId": "d7de6154-bd06-4faf-d38c-07f815931043"
      },
      "source": [
        "print(train_y)"
      ],
      "execution_count": 0,
      "outputs": [
        {
          "output_type": "stream",
          "text": [
            "[[5.96717185]\n",
            " [5.22035583]\n",
            " [3.72518486]\n",
            " ...\n",
            " [4.57367952]\n",
            " [2.74694394]\n",
            " [3.59236855]]\n"
          ],
          "name": "stdout"
        }
      ]
    },
    {
      "cell_type": "code",
      "metadata": {
        "trusted": true,
        "id": "x8zdhu7YUtFk",
        "colab_type": "code",
        "colab": {},
        "outputId": "2acc693a-1ce3-49c3-c2d7-54313ca5f69d"
      },
      "source": [
        "print(test_X)"
      ],
      "execution_count": 0,
      "outputs": [
        {
          "output_type": "stream",
          "text": [
            "[[ 1.  0.  0. ... 14.  1.  0.]\n",
            " [ 0.  1.  0. ... 10.  0.  0.]\n",
            " [ 1.  1.  0. ...  2.  0.  0.]\n",
            " ...\n",
            " [ 0.  0.  0. ... 13.  0.  1.]\n",
            " [ 0.  1.  0. ...  4.  0.  0.]\n",
            " [ 0.  1.  0. ...  0.  0.  0.]]\n"
          ],
          "name": "stdout"
        }
      ]
    },
    {
      "cell_type": "code",
      "metadata": {
        "trusted": true,
        "id": "44B8q0nOUtFm",
        "colab_type": "code",
        "colab": {},
        "outputId": "84544fed-24c5-42fa-beb1-7cfef10b3226"
      },
      "source": [
        "print(test_y)"
      ],
      "execution_count": 0,
      "outputs": [
        {
          "output_type": "stream",
          "text": [
            "[[0.        ]\n",
            " [3.49651059]\n",
            " [6.34327392]\n",
            " ...\n",
            " [4.69134788]\n",
            " [0.0861777 ]\n",
            " [4.93358865]]\n"
          ],
          "name": "stdout"
        }
      ]
    },
    {
      "cell_type": "code",
      "metadata": {
        "trusted": true,
        "id": "zERPlZVIUtFp",
        "colab_type": "code",
        "colab": {}
      },
      "source": [
        "train_X = train_X.reshape((train_X.shape[0], 1, train_X.shape[1]))\n",
        "test_X = test_X.reshape((test_X.shape[0], 1, test_X.shape[1]))"
      ],
      "execution_count": 0,
      "outputs": []
    },
    {
      "cell_type": "code",
      "metadata": {
        "trusted": true,
        "id": "1go_DFutUtFr",
        "colab_type": "code",
        "colab": {}
      },
      "source": [
        "import sys \n",
        "import numpy as np # linear algebra\n",
        "from scipy.stats import randint\n",
        "import pandas as pd # data processing, CSV file I/O (e.g. pd.read_csv), data manipulation as in SQL\n",
        "import matplotlib.pyplot as plt # this is used for the plot the graph \n",
        "import seaborn as sns # used for plot interactive graph. \n",
        "from sklearn.model_selection import train_test_split # to split the data into two parts\n",
        "#from sklearn.cross_validation import KFold # use for cross validation\n",
        "from sklearn.preprocessing import StandardScaler # for normalization\n",
        "from sklearn.preprocessing import MinMaxScaler\n",
        "from sklearn.pipeline import Pipeline # pipeline making\n",
        "from sklearn.model_selection import cross_val_score\n",
        "from sklearn.feature_selection import SelectFromModel\n",
        "from sklearn import metrics # for the check the error and accuracy of the model\n",
        "from sklearn.metrics import mean_squared_error,r2_score\n",
        "\n",
        "## for Deep-learing:\n",
        "import keras\n",
        "from keras.layers import Dense\n",
        "from keras.models import Sequential\n",
        "from keras.utils import to_categorical\n",
        "from keras.optimizers import SGD \n",
        "from keras.callbacks import EarlyStopping\n",
        "from keras.utils import np_utils\n",
        "import itertools\n",
        "from keras.layers import LSTM\n",
        "from keras.layers.convolutional import Conv1D\n",
        "from keras.layers.convolutional import MaxPooling1D\n",
        "from keras.layers import Dropout"
      ],
      "execution_count": 0,
      "outputs": []
    },
    {
      "cell_type": "code",
      "metadata": {
        "trusted": true,
        "id": "c0LD7pLnUtFt",
        "colab_type": "code",
        "colab": {},
        "outputId": "5e5893d5-8be7-4314-fcbb-36c073ebbb13"
      },
      "source": [
        "print(train_X.shape[1])"
      ],
      "execution_count": 0,
      "outputs": [
        {
          "output_type": "stream",
          "text": [
            "1\n"
          ],
          "name": "stdout"
        }
      ]
    },
    {
      "cell_type": "code",
      "metadata": {
        "trusted": true,
        "id": "zr7decXIUtFw",
        "colab_type": "code",
        "colab": {},
        "outputId": "9fbf9897-598d-4249-eb49-2f167957d7b4"
      },
      "source": [
        "print(train_X.shape[2])"
      ],
      "execution_count": 0,
      "outputs": [
        {
          "output_type": "stream",
          "text": [
            "15\n"
          ],
          "name": "stdout"
        }
      ]
    },
    {
      "cell_type": "code",
      "metadata": {
        "trusted": true,
        "id": "sFB23mgUUtFy",
        "colab_type": "code",
        "colab": {}
      },
      "source": [
        "import keras.backend as K\n",
        "def rmse(y_true,y_pred):\n",
        "    return K.sqrt(K.mean(K.square(y_pred - y_true)))"
      ],
      "execution_count": 0,
      "outputs": []
    },
    {
      "cell_type": "code",
      "metadata": {
        "trusted": true,
        "id": "dItpYESyUtF1",
        "colab_type": "code",
        "colab": {},
        "outputId": "cc66df2b-5f88-4963-bc9d-713a8a0c1c0c"
      },
      "source": [
        "model = Sequential()\n",
        "model.add(LSTM(100, input_shape=(train_X.shape[1], train_X.shape[2])))\n",
        "model.add(Dropout(0.2))\n",
        "#    model.add(LSTM(70))\n",
        "#    model.add(Dropout(0.3))\n",
        "model.add(Dense(1))\n",
        "model.compile(loss='mean_squared_error', optimizer='adam',metrics=[rmse])\n",
        "\n",
        "\n",
        "\n",
        "# fit network\n",
        "history = model.fit(train_X, train_y, epochs=20, batch_size=10000, validation_data=(test_X, test_y), verbose=2, shuffle=False)\n"
      ],
      "execution_count": 0,
      "outputs": [
        {
          "output_type": "stream",
          "text": [
            "Train on 14151270 samples, validate on 6064830 samples\n",
            "Epoch 1/20\n",
            " - 144s - loss: 4.0439 - rmse: 1.9889 - val_loss: 2.9177 - val_rmse: 1.7081\n",
            "Epoch 2/20\n",
            " - 143s - loss: 2.8617 - rmse: 1.6913 - val_loss: 2.5372 - val_rmse: 1.5928\n",
            "Epoch 3/20\n",
            " - 143s - loss: 2.6421 - rmse: 1.6253 - val_loss: 2.4460 - val_rmse: 1.5639\n",
            "Epoch 4/20\n",
            " - 145s - loss: 2.5522 - rmse: 1.5975 - val_loss: 2.4021 - val_rmse: 1.5498\n",
            "Epoch 5/20\n",
            " - 147s - loss: 2.5054 - rmse: 1.5828 - val_loss: 2.3753 - val_rmse: 1.5411\n",
            "Epoch 6/20\n",
            " - 149s - loss: 2.4722 - rmse: 1.5723 - val_loss: 2.3544 - val_rmse: 1.5343\n",
            "Epoch 7/20\n",
            " - 153s - loss: 2.4448 - rmse: 1.5635 - val_loss: 2.3353 - val_rmse: 1.5281\n",
            "Epoch 8/20\n",
            " - 150s - loss: 2.4238 - rmse: 1.5568 - val_loss: 2.3203 - val_rmse: 1.5231\n",
            "Epoch 9/20\n",
            " - 150s - loss: 2.4047 - rmse: 1.5507 - val_loss: 2.3075 - val_rmse: 1.5190\n",
            "Epoch 10/20\n",
            " - 152s - loss: 2.3894 - rmse: 1.5457 - val_loss: 2.2945 - val_rmse: 1.5147\n",
            "Epoch 11/20\n",
            " - 148s - loss: 2.3741 - rmse: 1.5407 - val_loss: 2.2831 - val_rmse: 1.5109\n",
            "Epoch 12/20\n",
            " - 141s - loss: 2.3600 - rmse: 1.5362 - val_loss: 2.2704 - val_rmse: 1.5067\n",
            "Epoch 13/20\n",
            " - 143s - loss: 2.3463 - rmse: 1.5317 - val_loss: 2.2589 - val_rmse: 1.5029\n",
            "Epoch 14/20\n",
            " - 147s - loss: 2.3343 - rmse: 1.5278 - val_loss: 2.2486 - val_rmse: 1.4994\n",
            "Epoch 15/20\n",
            " - 148s - loss: 2.3224 - rmse: 1.5239 - val_loss: 2.2391 - val_rmse: 1.4963\n",
            "Epoch 16/20\n",
            " - 150s - loss: 2.3115 - rmse: 1.5203 - val_loss: 2.2282 - val_rmse: 1.4926\n",
            "Epoch 17/20\n",
            " - 148s - loss: 2.3018 - rmse: 1.5171 - val_loss: 2.2163 - val_rmse: 1.4886\n",
            "Epoch 18/20\n",
            " - 148s - loss: 2.2928 - rmse: 1.5141 - val_loss: 2.2097 - val_rmse: 1.4864\n",
            "Epoch 19/20\n",
            " - 147s - loss: 2.2847 - rmse: 1.5115 - val_loss: 2.2006 - val_rmse: 1.4833\n",
            "Epoch 20/20\n",
            " - 147s - loss: 2.2761 - rmse: 1.5086 - val_loss: 2.1912 - val_rmse: 1.4802\n"
          ],
          "name": "stdout"
        }
      ]
    },
    {
      "cell_type": "code",
      "metadata": {
        "trusted": true,
        "id": "U-piUk85UtF3",
        "colab_type": "code",
        "colab": {}
      },
      "source": [
        ""
      ],
      "execution_count": 0,
      "outputs": []
    }
  ]
}